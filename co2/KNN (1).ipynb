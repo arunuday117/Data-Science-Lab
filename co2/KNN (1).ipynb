{
 "cells": [
  {
   "cell_type": "markdown",
   "metadata": {},
   "source": [
    "**COURSE OUTCOME 2**"
   ]
  },
  {
   "cell_type": "markdown",
   "metadata": {},
   "source": [
    "**PROGRAM NO: 5**"
   ]
  },
  {
   "cell_type": "markdown",
   "metadata": {},
   "source": [
    "**AIM**: Program to implement k-NN classification using any standard dataset available in the public domain and\n",
    "find the accuracy of the algorithm."
   ]
  },
  {
   "cell_type": "markdown",
   "metadata": {},
   "source": [
    "**Dataset: sonar_csv**\n",
    "\n",
    "**ALGORITHM**:\n",
    "1. Import Libraries\n",
    "2. Read the data\n",
    "3. Standardize the Variables\n",
    "4. Import KNeighboursClassifier\n",
    "5. Split the dataset into training and testing sets\n",
    "6. Fit the model to the KNeigbours Classifier\n",
    "7. Evaluate the model by predicting the test values\n",
    "8. Find the accuracy of the model by printing the classification report and confusion matrix\n",
    "9. Analyze better k value through iterations"
   ]
  },
  {
   "cell_type": "markdown",
   "metadata": {},
   "source": [
    "**PROGRAM CODE**:"
   ]
  },
  {
   "cell_type": "code",
   "execution_count": 2,
   "metadata": {
    "id": "viE54Za5GE8g"
   },
   "outputs": [],
   "source": [
    "import pandas as pd\n",
    "import numpy as np\n",
    "import matplotlib.pyplot as plt\n",
    "import seaborn as sns"
   ]
  },
  {
   "cell_type": "code",
   "execution_count": 4,
   "metadata": {
    "id": "-3dL_zGgGxtX"
   },
   "outputs": [],
   "source": [
    "dataset=pd.read_csv('sonar data.csv')\n"
   ]
  },
  {
   "cell_type": "code",
   "execution_count": 5,
   "metadata": {
    "colab": {
     "base_uri": "https://localhost:8080/",
     "height": 488
    },
    "id": "cXkBj4SpG_lx",
    "outputId": "204a799b-416c-46f3-d801-e0d2b113c720"
   },
   "outputs": [
    {
     "data": {
      "text/html": [
       "<div>\n",
       "<style scoped>\n",
       "    .dataframe tbody tr th:only-of-type {\n",
       "        vertical-align: middle;\n",
       "    }\n",
       "\n",
       "    .dataframe tbody tr th {\n",
       "        vertical-align: top;\n",
       "    }\n",
       "\n",
       "    .dataframe thead th {\n",
       "        text-align: right;\n",
       "    }\n",
       "</style>\n",
       "<table border=\"1\" class=\"dataframe\">\n",
       "  <thead>\n",
       "    <tr style=\"text-align: right;\">\n",
       "      <th></th>\n",
       "      <th>0.0200</th>\n",
       "      <th>0.0371</th>\n",
       "      <th>0.0428</th>\n",
       "      <th>0.0207</th>\n",
       "      <th>0.0954</th>\n",
       "      <th>0.0986</th>\n",
       "      <th>0.1539</th>\n",
       "      <th>0.1601</th>\n",
       "      <th>0.3109</th>\n",
       "      <th>0.2111</th>\n",
       "      <th>...</th>\n",
       "      <th>0.0027</th>\n",
       "      <th>0.0065</th>\n",
       "      <th>0.0159</th>\n",
       "      <th>0.0072</th>\n",
       "      <th>0.0167</th>\n",
       "      <th>0.0180</th>\n",
       "      <th>0.0084</th>\n",
       "      <th>0.0090</th>\n",
       "      <th>0.0032</th>\n",
       "      <th>R</th>\n",
       "    </tr>\n",
       "  </thead>\n",
       "  <tbody>\n",
       "    <tr>\n",
       "      <th>0</th>\n",
       "      <td>0.0453</td>\n",
       "      <td>0.0523</td>\n",
       "      <td>0.0843</td>\n",
       "      <td>0.0689</td>\n",
       "      <td>0.1183</td>\n",
       "      <td>0.2583</td>\n",
       "      <td>0.2156</td>\n",
       "      <td>0.3481</td>\n",
       "      <td>0.3337</td>\n",
       "      <td>0.2872</td>\n",
       "      <td>...</td>\n",
       "      <td>0.0084</td>\n",
       "      <td>0.0089</td>\n",
       "      <td>0.0048</td>\n",
       "      <td>0.0094</td>\n",
       "      <td>0.0191</td>\n",
       "      <td>0.0140</td>\n",
       "      <td>0.0049</td>\n",
       "      <td>0.0052</td>\n",
       "      <td>0.0044</td>\n",
       "      <td>R</td>\n",
       "    </tr>\n",
       "    <tr>\n",
       "      <th>1</th>\n",
       "      <td>0.0262</td>\n",
       "      <td>0.0582</td>\n",
       "      <td>0.1099</td>\n",
       "      <td>0.1083</td>\n",
       "      <td>0.0974</td>\n",
       "      <td>0.2280</td>\n",
       "      <td>0.2431</td>\n",
       "      <td>0.3771</td>\n",
       "      <td>0.5598</td>\n",
       "      <td>0.6194</td>\n",
       "      <td>...</td>\n",
       "      <td>0.0232</td>\n",
       "      <td>0.0166</td>\n",
       "      <td>0.0095</td>\n",
       "      <td>0.0180</td>\n",
       "      <td>0.0244</td>\n",
       "      <td>0.0316</td>\n",
       "      <td>0.0164</td>\n",
       "      <td>0.0095</td>\n",
       "      <td>0.0078</td>\n",
       "      <td>R</td>\n",
       "    </tr>\n",
       "    <tr>\n",
       "      <th>2</th>\n",
       "      <td>0.0100</td>\n",
       "      <td>0.0171</td>\n",
       "      <td>0.0623</td>\n",
       "      <td>0.0205</td>\n",
       "      <td>0.0205</td>\n",
       "      <td>0.0368</td>\n",
       "      <td>0.1098</td>\n",
       "      <td>0.1276</td>\n",
       "      <td>0.0598</td>\n",
       "      <td>0.1264</td>\n",
       "      <td>...</td>\n",
       "      <td>0.0121</td>\n",
       "      <td>0.0036</td>\n",
       "      <td>0.0150</td>\n",
       "      <td>0.0085</td>\n",
       "      <td>0.0073</td>\n",
       "      <td>0.0050</td>\n",
       "      <td>0.0044</td>\n",
       "      <td>0.0040</td>\n",
       "      <td>0.0117</td>\n",
       "      <td>R</td>\n",
       "    </tr>\n",
       "    <tr>\n",
       "      <th>3</th>\n",
       "      <td>0.0762</td>\n",
       "      <td>0.0666</td>\n",
       "      <td>0.0481</td>\n",
       "      <td>0.0394</td>\n",
       "      <td>0.0590</td>\n",
       "      <td>0.0649</td>\n",
       "      <td>0.1209</td>\n",
       "      <td>0.2467</td>\n",
       "      <td>0.3564</td>\n",
       "      <td>0.4459</td>\n",
       "      <td>...</td>\n",
       "      <td>0.0031</td>\n",
       "      <td>0.0054</td>\n",
       "      <td>0.0105</td>\n",
       "      <td>0.0110</td>\n",
       "      <td>0.0015</td>\n",
       "      <td>0.0072</td>\n",
       "      <td>0.0048</td>\n",
       "      <td>0.0107</td>\n",
       "      <td>0.0094</td>\n",
       "      <td>R</td>\n",
       "    </tr>\n",
       "    <tr>\n",
       "      <th>4</th>\n",
       "      <td>0.0286</td>\n",
       "      <td>0.0453</td>\n",
       "      <td>0.0277</td>\n",
       "      <td>0.0174</td>\n",
       "      <td>0.0384</td>\n",
       "      <td>0.0990</td>\n",
       "      <td>0.1201</td>\n",
       "      <td>0.1833</td>\n",
       "      <td>0.2105</td>\n",
       "      <td>0.3039</td>\n",
       "      <td>...</td>\n",
       "      <td>0.0045</td>\n",
       "      <td>0.0014</td>\n",
       "      <td>0.0038</td>\n",
       "      <td>0.0013</td>\n",
       "      <td>0.0089</td>\n",
       "      <td>0.0057</td>\n",
       "      <td>0.0027</td>\n",
       "      <td>0.0051</td>\n",
       "      <td>0.0062</td>\n",
       "      <td>R</td>\n",
       "    </tr>\n",
       "    <tr>\n",
       "      <th>...</th>\n",
       "      <td>...</td>\n",
       "      <td>...</td>\n",
       "      <td>...</td>\n",
       "      <td>...</td>\n",
       "      <td>...</td>\n",
       "      <td>...</td>\n",
       "      <td>...</td>\n",
       "      <td>...</td>\n",
       "      <td>...</td>\n",
       "      <td>...</td>\n",
       "      <td>...</td>\n",
       "      <td>...</td>\n",
       "      <td>...</td>\n",
       "      <td>...</td>\n",
       "      <td>...</td>\n",
       "      <td>...</td>\n",
       "      <td>...</td>\n",
       "      <td>...</td>\n",
       "      <td>...</td>\n",
       "      <td>...</td>\n",
       "      <td>...</td>\n",
       "    </tr>\n",
       "    <tr>\n",
       "      <th>202</th>\n",
       "      <td>0.0187</td>\n",
       "      <td>0.0346</td>\n",
       "      <td>0.0168</td>\n",
       "      <td>0.0177</td>\n",
       "      <td>0.0393</td>\n",
       "      <td>0.1630</td>\n",
       "      <td>0.2028</td>\n",
       "      <td>0.1694</td>\n",
       "      <td>0.2328</td>\n",
       "      <td>0.2684</td>\n",
       "      <td>...</td>\n",
       "      <td>0.0116</td>\n",
       "      <td>0.0098</td>\n",
       "      <td>0.0199</td>\n",
       "      <td>0.0033</td>\n",
       "      <td>0.0101</td>\n",
       "      <td>0.0065</td>\n",
       "      <td>0.0115</td>\n",
       "      <td>0.0193</td>\n",
       "      <td>0.0157</td>\n",
       "      <td>M</td>\n",
       "    </tr>\n",
       "    <tr>\n",
       "      <th>203</th>\n",
       "      <td>0.0323</td>\n",
       "      <td>0.0101</td>\n",
       "      <td>0.0298</td>\n",
       "      <td>0.0564</td>\n",
       "      <td>0.0760</td>\n",
       "      <td>0.0958</td>\n",
       "      <td>0.0990</td>\n",
       "      <td>0.1018</td>\n",
       "      <td>0.1030</td>\n",
       "      <td>0.2154</td>\n",
       "      <td>...</td>\n",
       "      <td>0.0061</td>\n",
       "      <td>0.0093</td>\n",
       "      <td>0.0135</td>\n",
       "      <td>0.0063</td>\n",
       "      <td>0.0063</td>\n",
       "      <td>0.0034</td>\n",
       "      <td>0.0032</td>\n",
       "      <td>0.0062</td>\n",
       "      <td>0.0067</td>\n",
       "      <td>M</td>\n",
       "    </tr>\n",
       "    <tr>\n",
       "      <th>204</th>\n",
       "      <td>0.0522</td>\n",
       "      <td>0.0437</td>\n",
       "      <td>0.0180</td>\n",
       "      <td>0.0292</td>\n",
       "      <td>0.0351</td>\n",
       "      <td>0.1171</td>\n",
       "      <td>0.1257</td>\n",
       "      <td>0.1178</td>\n",
       "      <td>0.1258</td>\n",
       "      <td>0.2529</td>\n",
       "      <td>...</td>\n",
       "      <td>0.0160</td>\n",
       "      <td>0.0029</td>\n",
       "      <td>0.0051</td>\n",
       "      <td>0.0062</td>\n",
       "      <td>0.0089</td>\n",
       "      <td>0.0140</td>\n",
       "      <td>0.0138</td>\n",
       "      <td>0.0077</td>\n",
       "      <td>0.0031</td>\n",
       "      <td>M</td>\n",
       "    </tr>\n",
       "    <tr>\n",
       "      <th>205</th>\n",
       "      <td>0.0303</td>\n",
       "      <td>0.0353</td>\n",
       "      <td>0.0490</td>\n",
       "      <td>0.0608</td>\n",
       "      <td>0.0167</td>\n",
       "      <td>0.1354</td>\n",
       "      <td>0.1465</td>\n",
       "      <td>0.1123</td>\n",
       "      <td>0.1945</td>\n",
       "      <td>0.2354</td>\n",
       "      <td>...</td>\n",
       "      <td>0.0086</td>\n",
       "      <td>0.0046</td>\n",
       "      <td>0.0126</td>\n",
       "      <td>0.0036</td>\n",
       "      <td>0.0035</td>\n",
       "      <td>0.0034</td>\n",
       "      <td>0.0079</td>\n",
       "      <td>0.0036</td>\n",
       "      <td>0.0048</td>\n",
       "      <td>M</td>\n",
       "    </tr>\n",
       "    <tr>\n",
       "      <th>206</th>\n",
       "      <td>0.0260</td>\n",
       "      <td>0.0363</td>\n",
       "      <td>0.0136</td>\n",
       "      <td>0.0272</td>\n",
       "      <td>0.0214</td>\n",
       "      <td>0.0338</td>\n",
       "      <td>0.0655</td>\n",
       "      <td>0.1400</td>\n",
       "      <td>0.1843</td>\n",
       "      <td>0.2354</td>\n",
       "      <td>...</td>\n",
       "      <td>0.0146</td>\n",
       "      <td>0.0129</td>\n",
       "      <td>0.0047</td>\n",
       "      <td>0.0039</td>\n",
       "      <td>0.0061</td>\n",
       "      <td>0.0040</td>\n",
       "      <td>0.0036</td>\n",
       "      <td>0.0061</td>\n",
       "      <td>0.0115</td>\n",
       "      <td>M</td>\n",
       "    </tr>\n",
       "  </tbody>\n",
       "</table>\n",
       "<p>207 rows × 61 columns</p>\n",
       "</div>"
      ],
      "text/plain": [
       "     0.0200  0.0371  0.0428  0.0207  0.0954  0.0986  0.1539  0.1601  0.3109  \\\n",
       "0    0.0453  0.0523  0.0843  0.0689  0.1183  0.2583  0.2156  0.3481  0.3337   \n",
       "1    0.0262  0.0582  0.1099  0.1083  0.0974  0.2280  0.2431  0.3771  0.5598   \n",
       "2    0.0100  0.0171  0.0623  0.0205  0.0205  0.0368  0.1098  0.1276  0.0598   \n",
       "3    0.0762  0.0666  0.0481  0.0394  0.0590  0.0649  0.1209  0.2467  0.3564   \n",
       "4    0.0286  0.0453  0.0277  0.0174  0.0384  0.0990  0.1201  0.1833  0.2105   \n",
       "..      ...     ...     ...     ...     ...     ...     ...     ...     ...   \n",
       "202  0.0187  0.0346  0.0168  0.0177  0.0393  0.1630  0.2028  0.1694  0.2328   \n",
       "203  0.0323  0.0101  0.0298  0.0564  0.0760  0.0958  0.0990  0.1018  0.1030   \n",
       "204  0.0522  0.0437  0.0180  0.0292  0.0351  0.1171  0.1257  0.1178  0.1258   \n",
       "205  0.0303  0.0353  0.0490  0.0608  0.0167  0.1354  0.1465  0.1123  0.1945   \n",
       "206  0.0260  0.0363  0.0136  0.0272  0.0214  0.0338  0.0655  0.1400  0.1843   \n",
       "\n",
       "     0.2111  ...  0.0027  0.0065  0.0159  0.0072  0.0167  0.0180  0.0084  \\\n",
       "0    0.2872  ...  0.0084  0.0089  0.0048  0.0094  0.0191  0.0140  0.0049   \n",
       "1    0.6194  ...  0.0232  0.0166  0.0095  0.0180  0.0244  0.0316  0.0164   \n",
       "2    0.1264  ...  0.0121  0.0036  0.0150  0.0085  0.0073  0.0050  0.0044   \n",
       "3    0.4459  ...  0.0031  0.0054  0.0105  0.0110  0.0015  0.0072  0.0048   \n",
       "4    0.3039  ...  0.0045  0.0014  0.0038  0.0013  0.0089  0.0057  0.0027   \n",
       "..      ...  ...     ...     ...     ...     ...     ...     ...     ...   \n",
       "202  0.2684  ...  0.0116  0.0098  0.0199  0.0033  0.0101  0.0065  0.0115   \n",
       "203  0.2154  ...  0.0061  0.0093  0.0135  0.0063  0.0063  0.0034  0.0032   \n",
       "204  0.2529  ...  0.0160  0.0029  0.0051  0.0062  0.0089  0.0140  0.0138   \n",
       "205  0.2354  ...  0.0086  0.0046  0.0126  0.0036  0.0035  0.0034  0.0079   \n",
       "206  0.2354  ...  0.0146  0.0129  0.0047  0.0039  0.0061  0.0040  0.0036   \n",
       "\n",
       "     0.0090  0.0032  R  \n",
       "0    0.0052  0.0044  R  \n",
       "1    0.0095  0.0078  R  \n",
       "2    0.0040  0.0117  R  \n",
       "3    0.0107  0.0094  R  \n",
       "4    0.0051  0.0062  R  \n",
       "..      ...     ... ..  \n",
       "202  0.0193  0.0157  M  \n",
       "203  0.0062  0.0067  M  \n",
       "204  0.0077  0.0031  M  \n",
       "205  0.0036  0.0048  M  \n",
       "206  0.0061  0.0115  M  \n",
       "\n",
       "[207 rows x 61 columns]"
      ]
     },
     "execution_count": 5,
     "metadata": {},
     "output_type": "execute_result"
    }
   ],
   "source": [
    "dataset"
   ]
  },
  {
   "cell_type": "code",
   "execution_count": 6,
   "metadata": {
    "id": "GNI5kKsSHApl"
   },
   "outputs": [],
   "source": [
    "from sklearn.preprocessing import StandardScaler"
   ]
  },
  {
   "cell_type": "code",
   "execution_count": 7,
   "metadata": {
    "id": "aJuWeFxZHc0i"
   },
   "outputs": [],
   "source": [
    "scaler=StandardScaler()"
   ]
  },
  {
   "cell_type": "code",
   "execution_count": 8,
   "metadata": {
    "colab": {
     "base_uri": "https://localhost:8080/"
    },
    "id": "VgnXq4yAIoQB",
    "outputId": "3d792e3b-15b4-4893-e70a-2efb17a41c18"
   },
   "outputs": [
    {
     "data": {
      "text/html": [
       "<style>#sk-container-id-1 {color: black;background-color: white;}#sk-container-id-1 pre{padding: 0;}#sk-container-id-1 div.sk-toggleable {background-color: white;}#sk-container-id-1 label.sk-toggleable__label {cursor: pointer;display: block;width: 100%;margin-bottom: 0;padding: 0.3em;box-sizing: border-box;text-align: center;}#sk-container-id-1 label.sk-toggleable__label-arrow:before {content: \"▸\";float: left;margin-right: 0.25em;color: #696969;}#sk-container-id-1 label.sk-toggleable__label-arrow:hover:before {color: black;}#sk-container-id-1 div.sk-estimator:hover label.sk-toggleable__label-arrow:before {color: black;}#sk-container-id-1 div.sk-toggleable__content {max-height: 0;max-width: 0;overflow: hidden;text-align: left;background-color: #f0f8ff;}#sk-container-id-1 div.sk-toggleable__content pre {margin: 0.2em;color: black;border-radius: 0.25em;background-color: #f0f8ff;}#sk-container-id-1 input.sk-toggleable__control:checked~div.sk-toggleable__content {max-height: 200px;max-width: 100%;overflow: auto;}#sk-container-id-1 input.sk-toggleable__control:checked~label.sk-toggleable__label-arrow:before {content: \"▾\";}#sk-container-id-1 div.sk-estimator input.sk-toggleable__control:checked~label.sk-toggleable__label {background-color: #d4ebff;}#sk-container-id-1 div.sk-label input.sk-toggleable__control:checked~label.sk-toggleable__label {background-color: #d4ebff;}#sk-container-id-1 input.sk-hidden--visually {border: 0;clip: rect(1px 1px 1px 1px);clip: rect(1px, 1px, 1px, 1px);height: 1px;margin: -1px;overflow: hidden;padding: 0;position: absolute;width: 1px;}#sk-container-id-1 div.sk-estimator {font-family: monospace;background-color: #f0f8ff;border: 1px dotted black;border-radius: 0.25em;box-sizing: border-box;margin-bottom: 0.5em;}#sk-container-id-1 div.sk-estimator:hover {background-color: #d4ebff;}#sk-container-id-1 div.sk-parallel-item::after {content: \"\";width: 100%;border-bottom: 1px solid gray;flex-grow: 1;}#sk-container-id-1 div.sk-label:hover label.sk-toggleable__label {background-color: #d4ebff;}#sk-container-id-1 div.sk-serial::before {content: \"\";position: absolute;border-left: 1px solid gray;box-sizing: border-box;top: 0;bottom: 0;left: 50%;z-index: 0;}#sk-container-id-1 div.sk-serial {display: flex;flex-direction: column;align-items: center;background-color: white;padding-right: 0.2em;padding-left: 0.2em;position: relative;}#sk-container-id-1 div.sk-item {position: relative;z-index: 1;}#sk-container-id-1 div.sk-parallel {display: flex;align-items: stretch;justify-content: center;background-color: white;position: relative;}#sk-container-id-1 div.sk-item::before, #sk-container-id-1 div.sk-parallel-item::before {content: \"\";position: absolute;border-left: 1px solid gray;box-sizing: border-box;top: 0;bottom: 0;left: 50%;z-index: -1;}#sk-container-id-1 div.sk-parallel-item {display: flex;flex-direction: column;z-index: 1;position: relative;background-color: white;}#sk-container-id-1 div.sk-parallel-item:first-child::after {align-self: flex-end;width: 50%;}#sk-container-id-1 div.sk-parallel-item:last-child::after {align-self: flex-start;width: 50%;}#sk-container-id-1 div.sk-parallel-item:only-child::after {width: 0;}#sk-container-id-1 div.sk-dashed-wrapped {border: 1px dashed gray;margin: 0 0.4em 0.5em 0.4em;box-sizing: border-box;padding-bottom: 0.4em;background-color: white;}#sk-container-id-1 div.sk-label label {font-family: monospace;font-weight: bold;display: inline-block;line-height: 1.2em;}#sk-container-id-1 div.sk-label-container {text-align: center;}#sk-container-id-1 div.sk-container {/* jupyter's `normalize.less` sets `[hidden] { display: none; }` but bootstrap.min.css set `[hidden] { display: none !important; }` so we also need the `!important` here to be able to override the default hidden behavior on the sphinx rendered scikit-learn.org. See: https://github.com/scikit-learn/scikit-learn/issues/21755 */display: inline-block !important;position: relative;}#sk-container-id-1 div.sk-text-repr-fallback {display: none;}</style><div id=\"sk-container-id-1\" class=\"sk-top-container\"><div class=\"sk-text-repr-fallback\"><pre>StandardScaler()</pre><b>In a Jupyter environment, please rerun this cell to show the HTML representation or trust the notebook. <br />On GitHub, the HTML representation is unable to render, please try loading this page with nbviewer.org.</b></div><div class=\"sk-container\" hidden><div class=\"sk-item\"><div class=\"sk-estimator sk-toggleable\"><input class=\"sk-toggleable__control sk-hidden--visually\" id=\"sk-estimator-id-1\" type=\"checkbox\" checked><label for=\"sk-estimator-id-1\" class=\"sk-toggleable__label sk-toggleable__label-arrow\">StandardScaler</label><div class=\"sk-toggleable__content\"><pre>StandardScaler()</pre></div></div></div></div></div>"
      ],
      "text/plain": [
       "StandardScaler()"
      ]
     },
     "execution_count": 8,
     "metadata": {},
     "output_type": "execute_result"
    }
   ],
   "source": [
    "scaler.fit(dataset.drop('R',axis=1))"
   ]
  },
  {
   "cell_type": "code",
   "execution_count": 9,
   "metadata": {
    "id": "sLsdyD9VIwPq"
   },
   "outputs": [
    {
     "data": {
      "text/plain": [
       "Index(['0.0200', '0.0371', '0.0428', '0.0207', '0.0954', '0.0986', '0.1539',\n",
       "       '0.1601', '0.3109', '0.2111', '0.1609', '0.1582', '0.2238', '0.0645',\n",
       "       '0.0660', '0.2273', '0.3100', '0.2999', '0.5078', '0.4797', '0.5783',\n",
       "       '0.5071', '0.4328', '0.5550', '0.6711', '0.6415', '0.7104', '0.8080',\n",
       "       '0.6791', '0.3857', '0.1307', '0.2604', '0.5121', '0.7547', '0.8537',\n",
       "       '0.8507', '0.6692', '0.6097', '0.4943', '0.2744', '0.0510', '0.2834',\n",
       "       '0.2825', '0.4256', '0.2641', '0.1386', '0.1051', '0.1343', '0.0383',\n",
       "       '0.0324', '0.0232', '0.0027', '0.0065', '0.0159', '0.0072', '0.0167',\n",
       "       '0.0180', '0.0084', '0.0090', '0.0032'],\n",
       "      dtype='object')"
      ]
     },
     "execution_count": 9,
     "metadata": {},
     "output_type": "execute_result"
    }
   ],
   "source": [
    "dataset.columns[:-1]"
   ]
  },
  {
   "cell_type": "code",
   "execution_count": 10,
   "metadata": {
    "id": "j4ktVLAUIxuF"
   },
   "outputs": [],
   "source": [
    "scaled_features=scaler.transform(dataset.drop('R',axis=1))"
   ]
  },
  {
   "cell_type": "code",
   "execution_count": 11,
   "metadata": {
    "colab": {
     "base_uri": "https://localhost:8080/"
    },
    "id": "YJ2uQ2OKKcn5",
    "outputId": "bdee7032-a571-4d22-fd23-58ec76d17d3b"
   },
   "outputs": [
    {
     "data": {
      "text/plain": [
       "array([[ 0.70018948,  0.42042142,  1.0529498 , ..., -0.4709383 ,\n",
       "        -0.44268846, -0.42246083],\n",
       "       [-0.13089402,  0.59942737,  1.71912994, ...,  1.30656071,\n",
       "         0.25299833,  0.25405324],\n",
       "       [-0.83579208, -0.64754631,  0.48045125, ..., -0.54822087,\n",
       "        -0.63683361,  1.03005467],\n",
       "       ...,\n",
       "       [ 1.00042384,  0.15949749, -0.67235266, ...,  0.90469137,\n",
       "        -0.0382194 , -0.68112798],\n",
       "       [ 0.0475061 , -0.09535845,  0.13434985, ..., -0.00724291,\n",
       "        -0.70154866, -0.34287094],\n",
       "       [-0.13959647, -0.06501846, -0.78685237, ..., -0.67187297,\n",
       "        -0.2970796 ,  0.99025973]])"
      ]
     },
     "execution_count": 11,
     "metadata": {},
     "output_type": "execute_result"
    }
   ],
   "source": [
    "scaled_features"
   ]
  },
  {
   "cell_type": "code",
   "execution_count": 12,
   "metadata": {
    "id": "29d-utGbK1qa"
   },
   "outputs": [],
   "source": [
    "new_dataset=pd.DataFrame(scaled_features,columns=dataset.columns[:-1])\n",
    "                                              \n"
   ]
  },
  {
   "cell_type": "code",
   "execution_count": 13,
   "metadata": {
    "colab": {
     "base_uri": "https://localhost:8080/",
     "height": 488
    },
    "id": "iW_c7CfgL3l_",
    "outputId": "548e7ae2-4913-44b5-d0d0-0f5b85e60e6a"
   },
   "outputs": [
    {
     "data": {
      "text/html": [
       "<div>\n",
       "<style scoped>\n",
       "    .dataframe tbody tr th:only-of-type {\n",
       "        vertical-align: middle;\n",
       "    }\n",
       "\n",
       "    .dataframe tbody tr th {\n",
       "        vertical-align: top;\n",
       "    }\n",
       "\n",
       "    .dataframe thead th {\n",
       "        text-align: right;\n",
       "    }\n",
       "</style>\n",
       "<table border=\"1\" class=\"dataframe\">\n",
       "  <thead>\n",
       "    <tr style=\"text-align: right;\">\n",
       "      <th></th>\n",
       "      <th>0.0200</th>\n",
       "      <th>0.0371</th>\n",
       "      <th>0.0428</th>\n",
       "      <th>0.0207</th>\n",
       "      <th>0.0954</th>\n",
       "      <th>0.0986</th>\n",
       "      <th>0.1539</th>\n",
       "      <th>0.1601</th>\n",
       "      <th>0.3109</th>\n",
       "      <th>0.2111</th>\n",
       "      <th>...</th>\n",
       "      <th>0.0232</th>\n",
       "      <th>0.0027</th>\n",
       "      <th>0.0065</th>\n",
       "      <th>0.0159</th>\n",
       "      <th>0.0072</th>\n",
       "      <th>0.0167</th>\n",
       "      <th>0.0180</th>\n",
       "      <th>0.0084</th>\n",
       "      <th>0.0090</th>\n",
       "      <th>0.0032</th>\n",
       "    </tr>\n",
       "  </thead>\n",
       "  <tbody>\n",
       "    <tr>\n",
       "      <th>0</th>\n",
       "      <td>0.700189</td>\n",
       "      <td>0.420421</td>\n",
       "      <td>1.052950</td>\n",
       "      <td>0.319501</td>\n",
       "      <td>0.777810</td>\n",
       "      <td>2.600518</td>\n",
       "      <td>1.522475</td>\n",
       "      <td>2.506911</td>\n",
       "      <td>1.324632</td>\n",
       "      <td>0.587392</td>\n",
       "      <td>...</td>\n",
       "      <td>-0.294569</td>\n",
       "      <td>-0.528057</td>\n",
       "      <td>-0.259343</td>\n",
       "      <td>-0.838780</td>\n",
       "      <td>0.014044</td>\n",
       "      <td>1.913786</td>\n",
       "      <td>1.084838</td>\n",
       "      <td>-0.470938</td>\n",
       "      <td>-0.442688</td>\n",
       "      <td>-0.422461</td>\n",
       "    </tr>\n",
       "    <tr>\n",
       "      <th>1</th>\n",
       "      <td>-0.130894</td>\n",
       "      <td>0.599427</td>\n",
       "      <td>1.719130</td>\n",
       "      <td>1.167351</td>\n",
       "      <td>0.401466</td>\n",
       "      <td>2.087862</td>\n",
       "      <td>1.967839</td>\n",
       "      <td>2.847551</td>\n",
       "      <td>3.240336</td>\n",
       "      <td>3.058831</td>\n",
       "      <td>...</td>\n",
       "      <td>-1.061350</td>\n",
       "      <td>1.012809</td>\n",
       "      <td>0.832198</td>\n",
       "      <td>-0.194293</td>\n",
       "      <td>1.227682</td>\n",
       "      <td>2.842696</td>\n",
       "      <td>4.150049</td>\n",
       "      <td>1.306561</td>\n",
       "      <td>0.252998</td>\n",
       "      <td>0.254053</td>\n",
       "    </tr>\n",
       "    <tr>\n",
       "      <th>2</th>\n",
       "      <td>-0.835792</td>\n",
       "      <td>-0.647546</td>\n",
       "      <td>0.480451</td>\n",
       "      <td>-0.722021</td>\n",
       "      <td>-0.983262</td>\n",
       "      <td>-1.147115</td>\n",
       "      <td>-0.190961</td>\n",
       "      <td>-0.083126</td>\n",
       "      <td>-0.996071</td>\n",
       "      <td>-0.608898</td>\n",
       "      <td>...</td>\n",
       "      <td>0.672242</td>\n",
       "      <td>-0.142840</td>\n",
       "      <td>-1.010664</td>\n",
       "      <td>0.559893</td>\n",
       "      <td>-0.112965</td>\n",
       "      <td>-0.154353</td>\n",
       "      <td>-0.482599</td>\n",
       "      <td>-0.548221</td>\n",
       "      <td>-0.636834</td>\n",
       "      <td>1.030055</td>\n",
       "    </tr>\n",
       "    <tr>\n",
       "      <th>3</th>\n",
       "      <td>2.044717</td>\n",
       "      <td>0.854283</td>\n",
       "      <td>0.110929</td>\n",
       "      <td>-0.315311</td>\n",
       "      <td>-0.289998</td>\n",
       "      <td>-0.671681</td>\n",
       "      <td>-0.011196</td>\n",
       "      <td>1.315846</td>\n",
       "      <td>1.516965</td>\n",
       "      <td>1.768058</td>\n",
       "      <td>...</td>\n",
       "      <td>-0.036197</td>\n",
       "      <td>-1.079853</td>\n",
       "      <td>-0.755498</td>\n",
       "      <td>-0.057168</td>\n",
       "      <td>0.239837</td>\n",
       "      <td>-1.170895</td>\n",
       "      <td>-0.099448</td>\n",
       "      <td>-0.486395</td>\n",
       "      <td>0.447143</td>\n",
       "      <td>0.572413</td>\n",
       "    </tr>\n",
       "    <tr>\n",
       "      <th>4</th>\n",
       "      <td>-0.026465</td>\n",
       "      <td>0.208041</td>\n",
       "      <td>-0.419933</td>\n",
       "      <td>-0.788730</td>\n",
       "      <td>-0.660939</td>\n",
       "      <td>-0.094732</td>\n",
       "      <td>-0.024152</td>\n",
       "      <td>0.571138</td>\n",
       "      <td>0.280782</td>\n",
       "      <td>0.711633</td>\n",
       "      <td>...</td>\n",
       "      <td>-0.469595</td>\n",
       "      <td>-0.934096</td>\n",
       "      <td>-1.322533</td>\n",
       "      <td>-0.975905</td>\n",
       "      <td>-1.129034</td>\n",
       "      <td>0.126073</td>\n",
       "      <td>-0.360687</td>\n",
       "      <td>-0.810982</td>\n",
       "      <td>-0.458867</td>\n",
       "      <td>-0.064306</td>\n",
       "    </tr>\n",
       "    <tr>\n",
       "      <th>...</th>\n",
       "      <td>...</td>\n",
       "      <td>...</td>\n",
       "      <td>...</td>\n",
       "      <td>...</td>\n",
       "      <td>...</td>\n",
       "      <td>...</td>\n",
       "      <td>...</td>\n",
       "      <td>...</td>\n",
       "      <td>...</td>\n",
       "      <td>...</td>\n",
       "      <td>...</td>\n",
       "      <td>...</td>\n",
       "      <td>...</td>\n",
       "      <td>...</td>\n",
       "      <td>...</td>\n",
       "      <td>...</td>\n",
       "      <td>...</td>\n",
       "      <td>...</td>\n",
       "      <td>...</td>\n",
       "      <td>...</td>\n",
       "      <td>...</td>\n",
       "    </tr>\n",
       "    <tr>\n",
       "      <th>202</th>\n",
       "      <td>-0.457236</td>\n",
       "      <td>-0.116596</td>\n",
       "      <td>-0.703580</td>\n",
       "      <td>-0.782275</td>\n",
       "      <td>-0.644733</td>\n",
       "      <td>0.988106</td>\n",
       "      <td>1.315179</td>\n",
       "      <td>0.407865</td>\n",
       "      <td>0.469725</td>\n",
       "      <td>0.447527</td>\n",
       "      <td>...</td>\n",
       "      <td>0.355528</td>\n",
       "      <td>-0.194897</td>\n",
       "      <td>-0.131760</td>\n",
       "      <td>1.231805</td>\n",
       "      <td>-0.846792</td>\n",
       "      <td>0.336392</td>\n",
       "      <td>-0.221359</td>\n",
       "      <td>0.549192</td>\n",
       "      <td>1.838517</td>\n",
       "      <td>1.825954</td>\n",
       "    </tr>\n",
       "    <tr>\n",
       "      <th>203</th>\n",
       "      <td>0.134531</td>\n",
       "      <td>-0.859926</td>\n",
       "      <td>-0.365285</td>\n",
       "      <td>0.050513</td>\n",
       "      <td>0.016119</td>\n",
       "      <td>-0.148874</td>\n",
       "      <td>-0.365867</td>\n",
       "      <td>-0.386178</td>\n",
       "      <td>-0.630046</td>\n",
       "      <td>0.053227</td>\n",
       "      <td>...</td>\n",
       "      <td>-0.911327</td>\n",
       "      <td>-0.767516</td>\n",
       "      <td>-0.202639</td>\n",
       "      <td>0.354206</td>\n",
       "      <td>-0.423430</td>\n",
       "      <td>-0.329619</td>\n",
       "      <td>-0.761255</td>\n",
       "      <td>-0.733699</td>\n",
       "      <td>-0.280901</td>\n",
       "      <td>0.035181</td>\n",
       "    </tr>\n",
       "    <tr>\n",
       "      <th>204</th>\n",
       "      <td>1.000424</td>\n",
       "      <td>0.159497</td>\n",
       "      <td>-0.672353</td>\n",
       "      <td>-0.534806</td>\n",
       "      <td>-0.720362</td>\n",
       "      <td>0.211508</td>\n",
       "      <td>0.066541</td>\n",
       "      <td>-0.198238</td>\n",
       "      <td>-0.436866</td>\n",
       "      <td>0.332213</td>\n",
       "      <td>...</td>\n",
       "      <td>-0.044532</td>\n",
       "      <td>0.263199</td>\n",
       "      <td>-1.109895</td>\n",
       "      <td>-0.797643</td>\n",
       "      <td>-0.437542</td>\n",
       "      <td>0.126073</td>\n",
       "      <td>1.084838</td>\n",
       "      <td>0.904691</td>\n",
       "      <td>-0.038219</td>\n",
       "      <td>-0.681128</td>\n",
       "    </tr>\n",
       "    <tr>\n",
       "      <th>205</th>\n",
       "      <td>0.047506</td>\n",
       "      <td>-0.095358</td>\n",
       "      <td>0.134350</td>\n",
       "      <td>0.145196</td>\n",
       "      <td>-1.051689</td>\n",
       "      <td>0.521132</td>\n",
       "      <td>0.403398</td>\n",
       "      <td>-0.262842</td>\n",
       "      <td>0.145217</td>\n",
       "      <td>0.202020</td>\n",
       "      <td>...</td>\n",
       "      <td>-0.986338</td>\n",
       "      <td>-0.507234</td>\n",
       "      <td>-0.868905</td>\n",
       "      <td>0.230794</td>\n",
       "      <td>-0.804456</td>\n",
       "      <td>-0.820363</td>\n",
       "      <td>-0.761255</td>\n",
       "      <td>-0.007243</td>\n",
       "      <td>-0.701549</td>\n",
       "      <td>-0.342871</td>\n",
       "    </tr>\n",
       "    <tr>\n",
       "      <th>206</th>\n",
       "      <td>-0.139596</td>\n",
       "      <td>-0.065018</td>\n",
       "      <td>-0.786852</td>\n",
       "      <td>-0.577844</td>\n",
       "      <td>-0.967056</td>\n",
       "      <td>-1.197873</td>\n",
       "      <td>-0.908401</td>\n",
       "      <td>0.062527</td>\n",
       "      <td>0.058794</td>\n",
       "      <td>0.202020</td>\n",
       "      <td>...</td>\n",
       "      <td>0.172167</td>\n",
       "      <td>0.117441</td>\n",
       "      <td>0.307692</td>\n",
       "      <td>-0.852493</td>\n",
       "      <td>-0.762120</td>\n",
       "      <td>-0.364672</td>\n",
       "      <td>-0.656759</td>\n",
       "      <td>-0.671873</td>\n",
       "      <td>-0.297080</td>\n",
       "      <td>0.990260</td>\n",
       "    </tr>\n",
       "  </tbody>\n",
       "</table>\n",
       "<p>207 rows × 60 columns</p>\n",
       "</div>"
      ],
      "text/plain": [
       "       0.0200    0.0371    0.0428    0.0207    0.0954    0.0986    0.1539  \\\n",
       "0    0.700189  0.420421  1.052950  0.319501  0.777810  2.600518  1.522475   \n",
       "1   -0.130894  0.599427  1.719130  1.167351  0.401466  2.087862  1.967839   \n",
       "2   -0.835792 -0.647546  0.480451 -0.722021 -0.983262 -1.147115 -0.190961   \n",
       "3    2.044717  0.854283  0.110929 -0.315311 -0.289998 -0.671681 -0.011196   \n",
       "4   -0.026465  0.208041 -0.419933 -0.788730 -0.660939 -0.094732 -0.024152   \n",
       "..        ...       ...       ...       ...       ...       ...       ...   \n",
       "202 -0.457236 -0.116596 -0.703580 -0.782275 -0.644733  0.988106  1.315179   \n",
       "203  0.134531 -0.859926 -0.365285  0.050513  0.016119 -0.148874 -0.365867   \n",
       "204  1.000424  0.159497 -0.672353 -0.534806 -0.720362  0.211508  0.066541   \n",
       "205  0.047506 -0.095358  0.134350  0.145196 -1.051689  0.521132  0.403398   \n",
       "206 -0.139596 -0.065018 -0.786852 -0.577844 -0.967056 -1.197873 -0.908401   \n",
       "\n",
       "       0.1601    0.3109    0.2111  ...    0.0232    0.0027    0.0065  \\\n",
       "0    2.506911  1.324632  0.587392  ... -0.294569 -0.528057 -0.259343   \n",
       "1    2.847551  3.240336  3.058831  ... -1.061350  1.012809  0.832198   \n",
       "2   -0.083126 -0.996071 -0.608898  ...  0.672242 -0.142840 -1.010664   \n",
       "3    1.315846  1.516965  1.768058  ... -0.036197 -1.079853 -0.755498   \n",
       "4    0.571138  0.280782  0.711633  ... -0.469595 -0.934096 -1.322533   \n",
       "..        ...       ...       ...  ...       ...       ...       ...   \n",
       "202  0.407865  0.469725  0.447527  ...  0.355528 -0.194897 -0.131760   \n",
       "203 -0.386178 -0.630046  0.053227  ... -0.911327 -0.767516 -0.202639   \n",
       "204 -0.198238 -0.436866  0.332213  ... -0.044532  0.263199 -1.109895   \n",
       "205 -0.262842  0.145217  0.202020  ... -0.986338 -0.507234 -0.868905   \n",
       "206  0.062527  0.058794  0.202020  ...  0.172167  0.117441  0.307692   \n",
       "\n",
       "       0.0159    0.0072    0.0167    0.0180    0.0084    0.0090    0.0032  \n",
       "0   -0.838780  0.014044  1.913786  1.084838 -0.470938 -0.442688 -0.422461  \n",
       "1   -0.194293  1.227682  2.842696  4.150049  1.306561  0.252998  0.254053  \n",
       "2    0.559893 -0.112965 -0.154353 -0.482599 -0.548221 -0.636834  1.030055  \n",
       "3   -0.057168  0.239837 -1.170895 -0.099448 -0.486395  0.447143  0.572413  \n",
       "4   -0.975905 -1.129034  0.126073 -0.360687 -0.810982 -0.458867 -0.064306  \n",
       "..        ...       ...       ...       ...       ...       ...       ...  \n",
       "202  1.231805 -0.846792  0.336392 -0.221359  0.549192  1.838517  1.825954  \n",
       "203  0.354206 -0.423430 -0.329619 -0.761255 -0.733699 -0.280901  0.035181  \n",
       "204 -0.797643 -0.437542  0.126073  1.084838  0.904691 -0.038219 -0.681128  \n",
       "205  0.230794 -0.804456 -0.820363 -0.761255 -0.007243 -0.701549 -0.342871  \n",
       "206 -0.852493 -0.762120 -0.364672 -0.656759 -0.671873 -0.297080  0.990260  \n",
       "\n",
       "[207 rows x 60 columns]"
      ]
     },
     "execution_count": 13,
     "metadata": {},
     "output_type": "execute_result"
    }
   ],
   "source": [
    "new_dataset"
   ]
  },
  {
   "cell_type": "code",
   "execution_count": 14,
   "metadata": {
    "colab": {
     "background_save": true
    },
    "id": "DRvINm0zMPu-"
   },
   "outputs": [],
   "source": [
    "from sklearn.model_selection import train_test_split\n",
    "X=new_dataset\n",
    "y=dataset['R']\n"
   ]
  },
  {
   "cell_type": "code",
   "execution_count": 15,
   "metadata": {
    "id": "79cQ38wBMppF"
   },
   "outputs": [],
   "source": [
    "X_train,X_test,y_train,y_test=train_test_split(X,y,test_size=0.3,random_state=42)"
   ]
  },
  {
   "cell_type": "code",
   "execution_count": 16,
   "metadata": {
    "id": "84Etf3ULOclO"
   },
   "outputs": [],
   "source": [
    "from sklearn.neighbors import KNeighborsClassifier"
   ]
  },
  {
   "cell_type": "code",
   "execution_count": 17,
   "metadata": {
    "id": "Hf_0sXI5PBsm"
   },
   "outputs": [],
   "source": [
    "knn=KNeighborsClassifier(n_neighbors=1)"
   ]
  },
  {
   "cell_type": "code",
   "execution_count": 18,
   "metadata": {
    "colab": {
     "base_uri": "https://localhost:8080/"
    },
    "id": "OGczXrc-PNww",
    "outputId": "09bb5534-6bcc-49be-e4c6-ef0234d3e7d7"
   },
   "outputs": [
    {
     "data": {
      "text/html": [
       "<style>#sk-container-id-2 {color: black;background-color: white;}#sk-container-id-2 pre{padding: 0;}#sk-container-id-2 div.sk-toggleable {background-color: white;}#sk-container-id-2 label.sk-toggleable__label {cursor: pointer;display: block;width: 100%;margin-bottom: 0;padding: 0.3em;box-sizing: border-box;text-align: center;}#sk-container-id-2 label.sk-toggleable__label-arrow:before {content: \"▸\";float: left;margin-right: 0.25em;color: #696969;}#sk-container-id-2 label.sk-toggleable__label-arrow:hover:before {color: black;}#sk-container-id-2 div.sk-estimator:hover label.sk-toggleable__label-arrow:before {color: black;}#sk-container-id-2 div.sk-toggleable__content {max-height: 0;max-width: 0;overflow: hidden;text-align: left;background-color: #f0f8ff;}#sk-container-id-2 div.sk-toggleable__content pre {margin: 0.2em;color: black;border-radius: 0.25em;background-color: #f0f8ff;}#sk-container-id-2 input.sk-toggleable__control:checked~div.sk-toggleable__content {max-height: 200px;max-width: 100%;overflow: auto;}#sk-container-id-2 input.sk-toggleable__control:checked~label.sk-toggleable__label-arrow:before {content: \"▾\";}#sk-container-id-2 div.sk-estimator input.sk-toggleable__control:checked~label.sk-toggleable__label {background-color: #d4ebff;}#sk-container-id-2 div.sk-label input.sk-toggleable__control:checked~label.sk-toggleable__label {background-color: #d4ebff;}#sk-container-id-2 input.sk-hidden--visually {border: 0;clip: rect(1px 1px 1px 1px);clip: rect(1px, 1px, 1px, 1px);height: 1px;margin: -1px;overflow: hidden;padding: 0;position: absolute;width: 1px;}#sk-container-id-2 div.sk-estimator {font-family: monospace;background-color: #f0f8ff;border: 1px dotted black;border-radius: 0.25em;box-sizing: border-box;margin-bottom: 0.5em;}#sk-container-id-2 div.sk-estimator:hover {background-color: #d4ebff;}#sk-container-id-2 div.sk-parallel-item::after {content: \"\";width: 100%;border-bottom: 1px solid gray;flex-grow: 1;}#sk-container-id-2 div.sk-label:hover label.sk-toggleable__label {background-color: #d4ebff;}#sk-container-id-2 div.sk-serial::before {content: \"\";position: absolute;border-left: 1px solid gray;box-sizing: border-box;top: 0;bottom: 0;left: 50%;z-index: 0;}#sk-container-id-2 div.sk-serial {display: flex;flex-direction: column;align-items: center;background-color: white;padding-right: 0.2em;padding-left: 0.2em;position: relative;}#sk-container-id-2 div.sk-item {position: relative;z-index: 1;}#sk-container-id-2 div.sk-parallel {display: flex;align-items: stretch;justify-content: center;background-color: white;position: relative;}#sk-container-id-2 div.sk-item::before, #sk-container-id-2 div.sk-parallel-item::before {content: \"\";position: absolute;border-left: 1px solid gray;box-sizing: border-box;top: 0;bottom: 0;left: 50%;z-index: -1;}#sk-container-id-2 div.sk-parallel-item {display: flex;flex-direction: column;z-index: 1;position: relative;background-color: white;}#sk-container-id-2 div.sk-parallel-item:first-child::after {align-self: flex-end;width: 50%;}#sk-container-id-2 div.sk-parallel-item:last-child::after {align-self: flex-start;width: 50%;}#sk-container-id-2 div.sk-parallel-item:only-child::after {width: 0;}#sk-container-id-2 div.sk-dashed-wrapped {border: 1px dashed gray;margin: 0 0.4em 0.5em 0.4em;box-sizing: border-box;padding-bottom: 0.4em;background-color: white;}#sk-container-id-2 div.sk-label label {font-family: monospace;font-weight: bold;display: inline-block;line-height: 1.2em;}#sk-container-id-2 div.sk-label-container {text-align: center;}#sk-container-id-2 div.sk-container {/* jupyter's `normalize.less` sets `[hidden] { display: none; }` but bootstrap.min.css set `[hidden] { display: none !important; }` so we also need the `!important` here to be able to override the default hidden behavior on the sphinx rendered scikit-learn.org. See: https://github.com/scikit-learn/scikit-learn/issues/21755 */display: inline-block !important;position: relative;}#sk-container-id-2 div.sk-text-repr-fallback {display: none;}</style><div id=\"sk-container-id-2\" class=\"sk-top-container\"><div class=\"sk-text-repr-fallback\"><pre>KNeighborsClassifier(n_neighbors=1)</pre><b>In a Jupyter environment, please rerun this cell to show the HTML representation or trust the notebook. <br />On GitHub, the HTML representation is unable to render, please try loading this page with nbviewer.org.</b></div><div class=\"sk-container\" hidden><div class=\"sk-item\"><div class=\"sk-estimator sk-toggleable\"><input class=\"sk-toggleable__control sk-hidden--visually\" id=\"sk-estimator-id-2\" type=\"checkbox\" checked><label for=\"sk-estimator-id-2\" class=\"sk-toggleable__label sk-toggleable__label-arrow\">KNeighborsClassifier</label><div class=\"sk-toggleable__content\"><pre>KNeighborsClassifier(n_neighbors=1)</pre></div></div></div></div></div>"
      ],
      "text/plain": [
       "KNeighborsClassifier(n_neighbors=1)"
      ]
     },
     "execution_count": 18,
     "metadata": {},
     "output_type": "execute_result"
    }
   ],
   "source": [
    "knn.fit(X_train,y_train)"
   ]
  },
  {
   "cell_type": "code",
   "execution_count": 19,
   "metadata": {
    "id": "PnhFzAHFPV3M"
   },
   "outputs": [],
   "source": [
    "pred=knn.predict(X_test)"
   ]
  },
  {
   "cell_type": "code",
   "execution_count": 20,
   "metadata": {
    "id": "Y4jQuBO44_fy"
   },
   "outputs": [],
   "source": [
    "from sklearn.metrics import classification_report,confusion_matrix"
   ]
  },
  {
   "cell_type": "code",
   "execution_count": 21,
   "metadata": {
    "colab": {
     "base_uri": "https://localhost:8080/"
    },
    "id": "khTtQHo45N-U",
    "outputId": "a29904b1-b622-4600-cacc-431f40f62e41"
   },
   "outputs": [
    {
     "name": "stdout",
     "output_type": "stream",
     "text": [
      "[[30  6]\n",
      " [ 5 22]]\n",
      "              precision    recall  f1-score   support\n",
      "\n",
      "           M       0.86      0.83      0.85        36\n",
      "           R       0.79      0.81      0.80        27\n",
      "\n",
      "    accuracy                           0.83        63\n",
      "   macro avg       0.82      0.82      0.82        63\n",
      "weighted avg       0.83      0.83      0.83        63\n",
      "\n"
     ]
    }
   ],
   "source": [
    "print(confusion_matrix(y_test,pred))\n",
    "print(classification_report(y_test,pred))"
   ]
  },
  {
   "cell_type": "code",
   "execution_count": 22,
   "metadata": {
    "id": "p51tmPre57R0"
   },
   "outputs": [],
   "source": [
    "#Analyzing better k value through iterations\n",
    "error_rate=[]\n",
    "\n",
    "for i in range(1,40):\n",
    "  knn=KNeighborsClassifier(n_neighbors=i)\n",
    "  knn.fit(X_train,y_train)\n",
    "  pred_i=knn.predict(X_test)\n",
    "  error_rate.append(np.mean(pred_i !=y_test))"
   ]
  },
  {
   "cell_type": "code",
   "execution_count": 23,
   "metadata": {
    "colab": {
     "base_uri": "https://localhost:8080/",
     "height": 421
    },
    "id": "b60Lh6ye7XK7",
    "outputId": "50911829-40d8-4d52-a861-3f567f27f56b"
   },
   "outputs": [
    {
     "data": {
      "text/plain": [
       "Text(0, 0.5, 'Error rate')"
      ]
     },
     "execution_count": 23,
     "metadata": {},
     "output_type": "execute_result"
    },
    {
     "data": {
      "image/png": "[encoded data removed]",
      "text/plain": [
       "<Figure size 720x432 with 1 Axes>"
      ]
     },
     "metadata": {
      "needs_background": "light"
     },
     "output_type": "display_data"
    }
   ],
   "source": [
    "plt.figure(figsize=(10,6))\n",
    "plt.plot(range(1,40),error_rate,color='blue',linestyle='dashed',\n",
    "         marker='s',markerfacecolor='orange',markersize=10)\n",
    "plt.title('Error rate vs K values')\n",
    "plt.xlabel('K')\n",
    "plt.ylabel('Error rate')"
   ]
  },
  {
   "cell_type": "code",
   "execution_count": 24,
   "metadata": {
    "colab": {
     "base_uri": "https://localhost:8080/"
    },
    "id": "sYIAPk7g8T7e",
    "outputId": "2ac3a604-a2e7-429f-f1eb-34a5d5ecb978"
   },
   "outputs": [
    {
     "name": "stdout",
     "output_type": "stream",
     "text": [
      "[[31  5]\n",
      " [ 8 19]]\n",
      "              precision    recall  f1-score   support\n",
      "\n",
      "           M       0.79      0.86      0.83        36\n",
      "           R       0.79      0.70      0.75        27\n",
      "\n",
      "    accuracy                           0.79        63\n",
      "   macro avg       0.79      0.78      0.79        63\n",
      "weighted avg       0.79      0.79      0.79        63\n",
      "\n"
     ]
    }
   ],
   "source": [
    "knn=KNeighborsClassifier(n_neighbors=3)\n",
    "knn.fit(X_train,y_train)\n",
    "pred=knn.predict(X_test)\n",
    "print(confusion_matrix(y_test,pred))\n",
    "print(classification_report(y_test,pred))\n",
    "\n",
    "\n"
   ]
  },
  {
   "cell_type": "markdown",
   "metadata": {},
   "source": [
    "**RESULT**: The program is executed successfully and output is obtained"
   ]
  }
 ],
 "metadata": {
  "colab": {
   "provenance": []
  },
  "kernelspec": {
   "display_name": "Python 3 (ipykernel)",
   "language": "python",
   "name": "python3"
  },
  "language_info": {
   "codemirror_mode": {
    "name": "ipython",
    "version": 3
   },
   "file_extension": ".py",
   "mimetype": "text/x-python",
   "name": "python",
   "nbconvert_exporter": "python",
   "pygments_lexer": "ipython3",
   "version": "3.10.2"
  }
 },
 "nbformat": 4,
 "nbformat_minor": 1
}
