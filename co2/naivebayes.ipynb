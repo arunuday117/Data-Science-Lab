{
 "cells": [
  {
   "cell_type": "markdown",
   "metadata": {
    "colab_type": "text",
    "id": "view-in-github"
   },
   "source": [
    "<a href=\"https://colab.research.google.com/github/raichalvarghese/Data_Science_Lab/blob/master/naivebayes.ipynb\" target=\"_parent\"><img src=\"https://colab.research.google.com/assets/colab-badge.svg\" alt=\"Open In Colab\"/></a>"
   ]
  },
  {
   "cell_type": "markdown",
   "metadata": {
    "id": "SRW9PtB6eaSo"
   },
   "source": [
    "How Naive Bayes algorithm works?\n",
    "Let’s understand it using an example. Below I have a training data set of weather and corresponding target variable ‘Play’ (suggesting possibilities of playing). Now, we need to classify whether players will play or not based on weather condition. Let’s follow the below steps to perform it.\n",
    "\n",
    "Step 1: Convert the data set into a frequency table\n",
    "\n",
    "Step 2: Create Likelihood table by finding the probabilities like Overcast probability = 0.29 and probability of playing is 0.64.\n",
    "\n",
    "![image.png](data:image/png;base64,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)\n",
    "\n",
    "Step 3: Now, use Naive Bayesian equation to calculate the posterior probability for each class. The class with the highest posterior probability is the outcome of prediction.\n",
    "\n",
    "Problem: Players will play if weather is sunny. Is this statement is correct?\n",
    "\n",
    "We can solve it using above discussed method of posterior probability.\n",
    "\n",
    "P(Yes | Sunny) = P( Sunny | Yes) * P(Yes) / P (Sunny)\n",
    "\n",
    "Here we have P (Sunny |Yes) = 3/9 = 0.33, P(Sunny) = 5/14 = 0.36, P( Yes)= 9/14 = 0.64\n",
    "\n",
    "Now, P (Yes | Sunny) = 0.33 * 0.64 / 0.36 = 0.60, which has higher probability.\n",
    "\n",
    "Naive Bayes uses a similar method to predict the probability of different class based on various attributes. This algorithm is mostly used in text classification and with problems having multiple classes.\n",
    "\n"
   ]
  },
  {
   "cell_type": "markdown",
   "metadata": {
    "id": "N7oBg75me1ba"
   },
   "source": [
    "##Applications of Naive Bayes Algorithms\n",
    "Real time Prediction: Naive Bayes is an eager learning classifier and it is sure fast. Thus, it could be used for making predictions in real time.\n",
    "\n",
    "Multi class Prediction: This algorithm is also well known for multi class prediction feature. Here we can predict the probability of multiple classes of target variable.\n",
    "\n",
    "Text classification/ Spam Filtering/ Sentiment Analysis: Naive Bayes classifiers mostly used in text classification (due to better result in multi class problems and independence rule) have higher success rate as compared to other algorithms. As a result, it is widely used in Spam filtering (identify spam e-mail) and Sentiment Analysis (in social media analysis, to identify positive and negative customer sentiments)\n",
    "\n",
    "\n",
    "Recommendation System: Naive Bayes Classifier and Collaborative Filtering together builds a Recommendation System that uses machine learning and data mining techniques to filter unseen information and predict whether a user would like a given resource or not\n",
    " "
   ]
  },
  {
   "cell_type": "markdown",
   "metadata": {
    "id": "pzep_-Hkg1r8"
   },
   "source": [
    "##TYPES OF NAIVE BAYES MODEL\n",
    "\n",
    "MultinomialNB: good for when your features(categorical or continuous) describe discrete frequency counts.\n",
    "\n",
    "BernoulliNB: good for making predictions from binary features.\n",
    "\n",
    "GaussianNB: Good for making predictions from normally distributed features."
   ]
  },
  {
   "cell_type": "code",
   "execution_count": 1,
   "metadata": {
    "id": "zs8Qldw5oqV8"
   },
   "outputs": [],
   "source": [
    "import numpy as np\n",
    "import pandas as pd\n",
    "import matplotlib.pyplot as plt\n",
    "import seaborn as sns"
   ]
  },
  {
   "cell_type": "code",
   "execution_count": 36,
   "metadata": {
    "colab": {
     "base_uri": "https://localhost:8080/",
     "height": 424
    },
    "id": "6qtnL36eo7dK",
    "outputId": "a8c1e215-fcb4-4d5a-eeac-1b5f40536050"
   },
   "outputs": [
    {
     "data": {
      "text/html": [
       "<div>\n",
       "<style scoped>\n",
       "    .dataframe tbody tr th:only-of-type {\n",
       "        vertical-align: middle;\n",
       "    }\n",
       "\n",
       "    .dataframe tbody tr th {\n",
       "        vertical-align: top;\n",
       "    }\n",
       "\n",
       "    .dataframe thead th {\n",
       "        text-align: right;\n",
       "    }\n",
       "</style>\n",
       "<table border=\"1\" class=\"dataframe\">\n",
       "  <thead>\n",
       "    <tr style=\"text-align: right;\">\n",
       "      <th></th>\n",
       "      <th>review</th>\n",
       "      <th>sentiment</th>\n",
       "    </tr>\n",
       "  </thead>\n",
       "  <tbody>\n",
       "    <tr>\n",
       "      <th>0</th>\n",
       "      <td>One of the other reviewers has mentioned that ...</td>\n",
       "      <td>1</td>\n",
       "    </tr>\n",
       "    <tr>\n",
       "      <th>1</th>\n",
       "      <td>A wonderful little production. &lt;br /&gt;&lt;br /&gt;The...</td>\n",
       "      <td>1</td>\n",
       "    </tr>\n",
       "    <tr>\n",
       "      <th>2</th>\n",
       "      <td>I thought this was a wonderful way to spend ti...</td>\n",
       "      <td>1</td>\n",
       "    </tr>\n",
       "    <tr>\n",
       "      <th>3</th>\n",
       "      <td>Basically there's a family where a little boy ...</td>\n",
       "      <td>0</td>\n",
       "    </tr>\n",
       "    <tr>\n",
       "      <th>4</th>\n",
       "      <td>Petter Mattei's \"Love in the Time of Money\" is...</td>\n",
       "      <td>1</td>\n",
       "    </tr>\n",
       "    <tr>\n",
       "      <th>...</th>\n",
       "      <td>...</td>\n",
       "      <td>...</td>\n",
       "    </tr>\n",
       "    <tr>\n",
       "      <th>49995</th>\n",
       "      <td>I thought this movie did a down right good job...</td>\n",
       "      <td>1</td>\n",
       "    </tr>\n",
       "    <tr>\n",
       "      <th>49996</th>\n",
       "      <td>Bad plot, bad dialogue, bad acting, idiotic di...</td>\n",
       "      <td>0</td>\n",
       "    </tr>\n",
       "    <tr>\n",
       "      <th>49997</th>\n",
       "      <td>I am a Catholic taught in parochial elementary...</td>\n",
       "      <td>0</td>\n",
       "    </tr>\n",
       "    <tr>\n",
       "      <th>49998</th>\n",
       "      <td>I'm going to have to disagree with the previou...</td>\n",
       "      <td>0</td>\n",
       "    </tr>\n",
       "    <tr>\n",
       "      <th>49999</th>\n",
       "      <td>No one expects the Star Trek movies to be high...</td>\n",
       "      <td>0</td>\n",
       "    </tr>\n",
       "  </tbody>\n",
       "</table>\n",
       "<p>50000 rows × 2 columns</p>\n",
       "</div>"
      ],
      "text/plain": [
       "                                                  review  sentiment\n",
       "0      One of the other reviewers has mentioned that ...          1\n",
       "1      A wonderful little production. <br /><br />The...          1\n",
       "2      I thought this was a wonderful way to spend ti...          1\n",
       "3      Basically there's a family where a little boy ...          0\n",
       "4      Petter Mattei's \"Love in the Time of Money\" is...          1\n",
       "...                                                  ...        ...\n",
       "49995  I thought this movie did a down right good job...          1\n",
       "49996  Bad plot, bad dialogue, bad acting, idiotic di...          0\n",
       "49997  I am a Catholic taught in parochial elementary...          0\n",
       "49998  I'm going to have to disagree with the previou...          0\n",
       "49999  No one expects the Star Trek movies to be high...          0\n",
       "\n",
       "[50000 rows x 2 columns]"
      ]
     },
     "execution_count": 36,
     "metadata": {},
     "output_type": "execute_result"
    }
   ],
   "source": [
    "dataset=pd.read_csv('IMDB dataset.csv')\n",
    "dataset.sentiment.replace('positive',1,inplace=True)\n",
    "dataset.sentiment.replace('negative',0,inplace=True)\n",
    "dataset"
   ]
  },
  {
   "cell_type": "code",
   "execution_count": 25,
   "metadata": {
    "id": "Hk-JkJOspdUD"
   },
   "outputs": [],
   "source": [
    "from sklearn.preprocessing import StandardScaler"
   ]
  },
  {
   "cell_type": "code",
   "execution_count": 26,
   "metadata": {
    "id": "eiXEwx-dpqgP"
   },
   "outputs": [],
   "source": [
    "scaler=StandardScaler()"
   ]
  },
  {
   "cell_type": "code",
   "execution_count": 27,
   "metadata": {
    "colab": {
     "base_uri": "https://localhost:8080/"
    },
    "id": "DJ1EoQ78pvXV",
    "outputId": "957b50fc-6062-4026-d301-01e0d5e09442"
   },
   "outputs": [
    {
     "ename": "ValueError",
     "evalue": "could not convert string to float: \"One of the other reviewers has mentioned that after watching just 1 Oz episode you'll be hooked. They are right, as this is exactly what happened with me.<br /><br />The first thing that struck me about Oz was its brutality and unflinching scenes of violence, which set in right from the word GO. Trust me, this is not a show for the faint hearted or timid. This show pulls no punches with regards to drugs, sex or violence. Its is hardcore, in the classic use of the word.<br /><br />It is called OZ as that is the nickname given to the Oswald Maximum Security State Penitentary. It focuses mainly on Emerald City, an experimental section of the prison where all the cells have glass fronts and face inwards, so privacy is not high on the agenda. Em City is home to many..Aryans, Muslims, gangstas, Latinos, Christians, Italians, Irish and more....so scuffles, death stares, dodgy dealings and shady agreements are never far away.<br /><br />I would say the main appeal of the show is due to the fact that it goes where other shows wouldn't dare. Forget pretty pictures painted for mainstream audiences, forget charm, forget romance...OZ doesn't mess around. The first episode I ever saw struck me as so nasty it was surreal, I couldn't say I was ready for it, but as I watched more, I developed a taste for Oz, and got accustomed to the high levels of graphic violence. Not just violence, but injustice (crooked guards who'll be sold out for a nickel, inmates who'll kill on order and get away with it, well mannered, middle class inmates being turned into prison bitches due to their lack of street skills or prison experience) Watching Oz, you may become comfortable with what is uncomfortable viewing....thats if you can get in touch with your darker side.\"",
     "output_type": "error",
     "traceback": [
      "\u001b[1;31m---------------------------------------------------------------------------\u001b[0m",
      "\u001b[1;31mValueError\u001b[0m                                Traceback (most recent call last)",
      "Input \u001b[1;32mIn [27]\u001b[0m, in \u001b[0;36m<cell line: 1>\u001b[1;34m()\u001b[0m\n\u001b[1;32m----> 1\u001b[0m \u001b[43mscaler\u001b[49m\u001b[38;5;241;43m.\u001b[39;49m\u001b[43mfit\u001b[49m\u001b[43m(\u001b[49m\u001b[43mdataset\u001b[49m\u001b[38;5;241;43m.\u001b[39;49m\u001b[43mdrop\u001b[49m\u001b[43m(\u001b[49m\u001b[38;5;124;43m'\u001b[39;49m\u001b[38;5;124;43msentiment\u001b[39;49m\u001b[38;5;124;43m'\u001b[39;49m\u001b[43m,\u001b[49m\u001b[43maxis\u001b[49m\u001b[38;5;241;43m=\u001b[39;49m\u001b[38;5;241;43m1\u001b[39;49m\u001b[43m)\u001b[49m\u001b[43m)\u001b[49m\n",
      "File \u001b[1;32m~\\AppData\\Local\\Programs\\Python\\Python310\\lib\\site-packages\\sklearn\\preprocessing\\_data.py:809\u001b[0m, in \u001b[0;36mStandardScaler.fit\u001b[1;34m(self, X, y, sample_weight)\u001b[0m\n\u001b[0;32m    807\u001b[0m \u001b[38;5;66;03m# Reset internal state before fitting\u001b[39;00m\n\u001b[0;32m    808\u001b[0m \u001b[38;5;28mself\u001b[39m\u001b[38;5;241m.\u001b[39m_reset()\n\u001b[1;32m--> 809\u001b[0m \u001b[38;5;28;01mreturn\u001b[39;00m \u001b[38;5;28;43mself\u001b[39;49m\u001b[38;5;241;43m.\u001b[39;49m\u001b[43mpartial_fit\u001b[49m\u001b[43m(\u001b[49m\u001b[43mX\u001b[49m\u001b[43m,\u001b[49m\u001b[43m \u001b[49m\u001b[43my\u001b[49m\u001b[43m,\u001b[49m\u001b[43m \u001b[49m\u001b[43msample_weight\u001b[49m\u001b[43m)\u001b[49m\n",
      "File \u001b[1;32m~\\AppData\\Local\\Programs\\Python\\Python310\\lib\\site-packages\\sklearn\\preprocessing\\_data.py:844\u001b[0m, in \u001b[0;36mStandardScaler.partial_fit\u001b[1;34m(self, X, y, sample_weight)\u001b[0m\n\u001b[0;32m    812\u001b[0m \u001b[38;5;124;03m\"\"\"Online computation of mean and std on X for later scaling.\u001b[39;00m\n\u001b[0;32m    813\u001b[0m \n\u001b[0;32m    814\u001b[0m \u001b[38;5;124;03mAll of X is processed as a single batch. This is intended for cases\u001b[39;00m\n\u001b[1;32m   (...)\u001b[0m\n\u001b[0;32m    841\u001b[0m \u001b[38;5;124;03m    Fitted scaler.\u001b[39;00m\n\u001b[0;32m    842\u001b[0m \u001b[38;5;124;03m\"\"\"\u001b[39;00m\n\u001b[0;32m    843\u001b[0m first_call \u001b[38;5;241m=\u001b[39m \u001b[38;5;129;01mnot\u001b[39;00m \u001b[38;5;28mhasattr\u001b[39m(\u001b[38;5;28mself\u001b[39m, \u001b[38;5;124m\"\u001b[39m\u001b[38;5;124mn_samples_seen_\u001b[39m\u001b[38;5;124m\"\u001b[39m)\n\u001b[1;32m--> 844\u001b[0m X \u001b[38;5;241m=\u001b[39m \u001b[38;5;28;43mself\u001b[39;49m\u001b[38;5;241;43m.\u001b[39;49m\u001b[43m_validate_data\u001b[49m\u001b[43m(\u001b[49m\n\u001b[0;32m    845\u001b[0m \u001b[43m    \u001b[49m\u001b[43mX\u001b[49m\u001b[43m,\u001b[49m\n\u001b[0;32m    846\u001b[0m \u001b[43m    \u001b[49m\u001b[43maccept_sparse\u001b[49m\u001b[38;5;241;43m=\u001b[39;49m\u001b[43m(\u001b[49m\u001b[38;5;124;43m\"\u001b[39;49m\u001b[38;5;124;43mcsr\u001b[39;49m\u001b[38;5;124;43m\"\u001b[39;49m\u001b[43m,\u001b[49m\u001b[43m \u001b[49m\u001b[38;5;124;43m\"\u001b[39;49m\u001b[38;5;124;43mcsc\u001b[39;49m\u001b[38;5;124;43m\"\u001b[39;49m\u001b[43m)\u001b[49m\u001b[43m,\u001b[49m\n\u001b[0;32m    847\u001b[0m \u001b[43m    \u001b[49m\u001b[43mdtype\u001b[49m\u001b[38;5;241;43m=\u001b[39;49m\u001b[43mFLOAT_DTYPES\u001b[49m\u001b[43m,\u001b[49m\n\u001b[0;32m    848\u001b[0m \u001b[43m    \u001b[49m\u001b[43mforce_all_finite\u001b[49m\u001b[38;5;241;43m=\u001b[39;49m\u001b[38;5;124;43m\"\u001b[39;49m\u001b[38;5;124;43mallow-nan\u001b[39;49m\u001b[38;5;124;43m\"\u001b[39;49m\u001b[43m,\u001b[49m\n\u001b[0;32m    849\u001b[0m \u001b[43m    \u001b[49m\u001b[43mreset\u001b[49m\u001b[38;5;241;43m=\u001b[39;49m\u001b[43mfirst_call\u001b[49m\u001b[43m,\u001b[49m\n\u001b[0;32m    850\u001b[0m \u001b[43m\u001b[49m\u001b[43m)\u001b[49m\n\u001b[0;32m    851\u001b[0m n_features \u001b[38;5;241m=\u001b[39m X\u001b[38;5;241m.\u001b[39mshape[\u001b[38;5;241m1\u001b[39m]\n\u001b[0;32m    853\u001b[0m \u001b[38;5;28;01mif\u001b[39;00m sample_weight \u001b[38;5;129;01mis\u001b[39;00m \u001b[38;5;129;01mnot\u001b[39;00m \u001b[38;5;28;01mNone\u001b[39;00m:\n",
      "File \u001b[1;32m~\\AppData\\Local\\Programs\\Python\\Python310\\lib\\site-packages\\sklearn\\base.py:577\u001b[0m, in \u001b[0;36mBaseEstimator._validate_data\u001b[1;34m(self, X, y, reset, validate_separately, **check_params)\u001b[0m\n\u001b[0;32m    575\u001b[0m     \u001b[38;5;28;01mraise\u001b[39;00m \u001b[38;5;167;01mValueError\u001b[39;00m(\u001b[38;5;124m\"\u001b[39m\u001b[38;5;124mValidation should be done on X, y or both.\u001b[39m\u001b[38;5;124m\"\u001b[39m)\n\u001b[0;32m    576\u001b[0m \u001b[38;5;28;01melif\u001b[39;00m \u001b[38;5;129;01mnot\u001b[39;00m no_val_X \u001b[38;5;129;01mand\u001b[39;00m no_val_y:\n\u001b[1;32m--> 577\u001b[0m     X \u001b[38;5;241m=\u001b[39m check_array(X, input_name\u001b[38;5;241m=\u001b[39m\u001b[38;5;124m\"\u001b[39m\u001b[38;5;124mX\u001b[39m\u001b[38;5;124m\"\u001b[39m, \u001b[38;5;241m*\u001b[39m\u001b[38;5;241m*\u001b[39mcheck_params)\n\u001b[0;32m    578\u001b[0m     out \u001b[38;5;241m=\u001b[39m X\n\u001b[0;32m    579\u001b[0m \u001b[38;5;28;01melif\u001b[39;00m no_val_X \u001b[38;5;129;01mand\u001b[39;00m \u001b[38;5;129;01mnot\u001b[39;00m no_val_y:\n",
      "File \u001b[1;32m~\\AppData\\Local\\Programs\\Python\\Python310\\lib\\site-packages\\sklearn\\utils\\validation.py:856\u001b[0m, in \u001b[0;36mcheck_array\u001b[1;34m(array, accept_sparse, accept_large_sparse, dtype, order, copy, force_all_finite, ensure_2d, allow_nd, ensure_min_samples, ensure_min_features, estimator, input_name)\u001b[0m\n\u001b[0;32m    854\u001b[0m         array \u001b[38;5;241m=\u001b[39m array\u001b[38;5;241m.\u001b[39mastype(dtype, casting\u001b[38;5;241m=\u001b[39m\u001b[38;5;124m\"\u001b[39m\u001b[38;5;124munsafe\u001b[39m\u001b[38;5;124m\"\u001b[39m, copy\u001b[38;5;241m=\u001b[39m\u001b[38;5;28;01mFalse\u001b[39;00m)\n\u001b[0;32m    855\u001b[0m     \u001b[38;5;28;01melse\u001b[39;00m:\n\u001b[1;32m--> 856\u001b[0m         array \u001b[38;5;241m=\u001b[39m \u001b[43mnp\u001b[49m\u001b[38;5;241;43m.\u001b[39;49m\u001b[43masarray\u001b[49m\u001b[43m(\u001b[49m\u001b[43marray\u001b[49m\u001b[43m,\u001b[49m\u001b[43m \u001b[49m\u001b[43morder\u001b[49m\u001b[38;5;241;43m=\u001b[39;49m\u001b[43morder\u001b[49m\u001b[43m,\u001b[49m\u001b[43m \u001b[49m\u001b[43mdtype\u001b[49m\u001b[38;5;241;43m=\u001b[39;49m\u001b[43mdtype\u001b[49m\u001b[43m)\u001b[49m\n\u001b[0;32m    857\u001b[0m \u001b[38;5;28;01mexcept\u001b[39;00m ComplexWarning \u001b[38;5;28;01mas\u001b[39;00m complex_warning:\n\u001b[0;32m    858\u001b[0m     \u001b[38;5;28;01mraise\u001b[39;00m \u001b[38;5;167;01mValueError\u001b[39;00m(\n\u001b[0;32m    859\u001b[0m         \u001b[38;5;124m\"\u001b[39m\u001b[38;5;124mComplex data not supported\u001b[39m\u001b[38;5;130;01m\\n\u001b[39;00m\u001b[38;5;132;01m{}\u001b[39;00m\u001b[38;5;130;01m\\n\u001b[39;00m\u001b[38;5;124m\"\u001b[39m\u001b[38;5;241m.\u001b[39mformat(array)\n\u001b[0;32m    860\u001b[0m     ) \u001b[38;5;28;01mfrom\u001b[39;00m \u001b[38;5;21;01mcomplex_warning\u001b[39;00m\n",
      "File \u001b[1;32m~\\AppData\\Local\\Programs\\Python\\Python310\\lib\\site-packages\\pandas\\core\\generic.py:2072\u001b[0m, in \u001b[0;36mNDFrame.__array__\u001b[1;34m(self, dtype)\u001b[0m\n\u001b[0;32m   2071\u001b[0m \u001b[38;5;28;01mdef\u001b[39;00m \u001b[38;5;21m__array__\u001b[39m(\u001b[38;5;28mself\u001b[39m, dtype: npt\u001b[38;5;241m.\u001b[39mDTypeLike \u001b[38;5;241m|\u001b[39m \u001b[38;5;28;01mNone\u001b[39;00m \u001b[38;5;241m=\u001b[39m \u001b[38;5;28;01mNone\u001b[39;00m) \u001b[38;5;241m-\u001b[39m\u001b[38;5;241m>\u001b[39m np\u001b[38;5;241m.\u001b[39mndarray:\n\u001b[1;32m-> 2072\u001b[0m     \u001b[38;5;28;01mreturn\u001b[39;00m \u001b[43mnp\u001b[49m\u001b[38;5;241;43m.\u001b[39;49m\u001b[43masarray\u001b[49m\u001b[43m(\u001b[49m\u001b[38;5;28;43mself\u001b[39;49m\u001b[38;5;241;43m.\u001b[39;49m\u001b[43m_values\u001b[49m\u001b[43m,\u001b[49m\u001b[43m \u001b[49m\u001b[43mdtype\u001b[49m\u001b[38;5;241;43m=\u001b[39;49m\u001b[43mdtype\u001b[49m\u001b[43m)\u001b[49m\n",
      "\u001b[1;31mValueError\u001b[0m: could not convert string to float: \"One of the other reviewers has mentioned that after watching just 1 Oz episode you'll be hooked. They are right, as this is exactly what happened with me.<br /><br />The first thing that struck me about Oz was its brutality and unflinching scenes of violence, which set in right from the word GO. Trust me, this is not a show for the faint hearted or timid. This show pulls no punches with regards to drugs, sex or violence. Its is hardcore, in the classic use of the word.<br /><br />It is called OZ as that is the nickname given to the Oswald Maximum Security State Penitentary. It focuses mainly on Emerald City, an experimental section of the prison where all the cells have glass fronts and face inwards, so privacy is not high on the agenda. Em City is home to many..Aryans, Muslims, gangstas, Latinos, Christians, Italians, Irish and more....so scuffles, death stares, dodgy dealings and shady agreements are never far away.<br /><br />I would say the main appeal of the show is due to the fact that it goes where other shows wouldn't dare. Forget pretty pictures painted for mainstream audiences, forget charm, forget romance...OZ doesn't mess around. The first episode I ever saw struck me as so nasty it was surreal, I couldn't say I was ready for it, but as I watched more, I developed a taste for Oz, and got accustomed to the high levels of graphic violence. Not just violence, but injustice (crooked guards who'll be sold out for a nickel, inmates who'll kill on order and get away with it, well mannered, middle class inmates being turned into prison bitches due to their lack of street skills or prison experience) Watching Oz, you may become comfortable with what is uncomfortable viewing....thats if you can get in touch with your darker side.\""
     ]
    }
   ],
   "source": [
    "scaler.fit(dataset.drop('sentiment',axis=1))"
   ]
  },
  {
   "cell_type": "code",
   "execution_count": 7,
   "metadata": {
    "id": "MKokZlRbp4NM"
   },
   "outputs": [],
   "source": [
    "scaled_features=scaler.transform(dataset.drop('Species',axis=1))"
   ]
  },
  {
   "cell_type": "code",
   "execution_count": 8,
   "metadata": {
    "id": "aS-UvLzwqAis"
   },
   "outputs": [],
   "source": [
    "new_dataset=pd.DataFrame(scaled_features,columns=dataset.columns[:-1])"
   ]
  },
  {
   "cell_type": "code",
   "execution_count": 9,
   "metadata": {
    "colab": {
     "base_uri": "https://localhost:8080/",
     "height": 424
    },
    "id": "-GbuYkDGqFQq",
    "outputId": "63eba8cd-186d-4ee6-aa97-287003a14e76"
   },
   "outputs": [
    {
     "data": {
      "text/html": [
       "<div>\n",
       "<style scoped>\n",
       "    .dataframe tbody tr th:only-of-type {\n",
       "        vertical-align: middle;\n",
       "    }\n",
       "\n",
       "    .dataframe tbody tr th {\n",
       "        vertical-align: top;\n",
       "    }\n",
       "\n",
       "    .dataframe thead th {\n",
       "        text-align: right;\n",
       "    }\n",
       "</style>\n",
       "<table border=\"1\" class=\"dataframe\">\n",
       "  <thead>\n",
       "    <tr style=\"text-align: right;\">\n",
       "      <th></th>\n",
       "      <th>Id</th>\n",
       "      <th>SepalLengthCm</th>\n",
       "      <th>SepalWidthCm</th>\n",
       "      <th>PetalLengthCm</th>\n",
       "      <th>PetalWidthCm</th>\n",
       "    </tr>\n",
       "  </thead>\n",
       "  <tbody>\n",
       "    <tr>\n",
       "      <th>0</th>\n",
       "      <td>-1.720542</td>\n",
       "      <td>-0.900681</td>\n",
       "      <td>1.032057</td>\n",
       "      <td>-1.341272</td>\n",
       "      <td>-1.312977</td>\n",
       "    </tr>\n",
       "    <tr>\n",
       "      <th>1</th>\n",
       "      <td>-1.697448</td>\n",
       "      <td>-1.143017</td>\n",
       "      <td>-0.124958</td>\n",
       "      <td>-1.341272</td>\n",
       "      <td>-1.312977</td>\n",
       "    </tr>\n",
       "    <tr>\n",
       "      <th>2</th>\n",
       "      <td>-1.674353</td>\n",
       "      <td>-1.385353</td>\n",
       "      <td>0.337848</td>\n",
       "      <td>-1.398138</td>\n",
       "      <td>-1.312977</td>\n",
       "    </tr>\n",
       "    <tr>\n",
       "      <th>3</th>\n",
       "      <td>-1.651258</td>\n",
       "      <td>-1.506521</td>\n",
       "      <td>0.106445</td>\n",
       "      <td>-1.284407</td>\n",
       "      <td>-1.312977</td>\n",
       "    </tr>\n",
       "    <tr>\n",
       "      <th>4</th>\n",
       "      <td>-1.628164</td>\n",
       "      <td>-1.021849</td>\n",
       "      <td>1.263460</td>\n",
       "      <td>-1.341272</td>\n",
       "      <td>-1.312977</td>\n",
       "    </tr>\n",
       "    <tr>\n",
       "      <th>...</th>\n",
       "      <td>...</td>\n",
       "      <td>...</td>\n",
       "      <td>...</td>\n",
       "      <td>...</td>\n",
       "      <td>...</td>\n",
       "    </tr>\n",
       "    <tr>\n",
       "      <th>145</th>\n",
       "      <td>1.628164</td>\n",
       "      <td>1.038005</td>\n",
       "      <td>-0.124958</td>\n",
       "      <td>0.819624</td>\n",
       "      <td>1.447956</td>\n",
       "    </tr>\n",
       "    <tr>\n",
       "      <th>146</th>\n",
       "      <td>1.651258</td>\n",
       "      <td>0.553333</td>\n",
       "      <td>-1.281972</td>\n",
       "      <td>0.705893</td>\n",
       "      <td>0.922064</td>\n",
       "    </tr>\n",
       "    <tr>\n",
       "      <th>147</th>\n",
       "      <td>1.674353</td>\n",
       "      <td>0.795669</td>\n",
       "      <td>-0.124958</td>\n",
       "      <td>0.819624</td>\n",
       "      <td>1.053537</td>\n",
       "    </tr>\n",
       "    <tr>\n",
       "      <th>148</th>\n",
       "      <td>1.697448</td>\n",
       "      <td>0.432165</td>\n",
       "      <td>0.800654</td>\n",
       "      <td>0.933356</td>\n",
       "      <td>1.447956</td>\n",
       "    </tr>\n",
       "    <tr>\n",
       "      <th>149</th>\n",
       "      <td>1.720542</td>\n",
       "      <td>0.068662</td>\n",
       "      <td>-0.124958</td>\n",
       "      <td>0.762759</td>\n",
       "      <td>0.790591</td>\n",
       "    </tr>\n",
       "  </tbody>\n",
       "</table>\n",
       "<p>150 rows × 5 columns</p>\n",
       "</div>"
      ],
      "text/plain": [
       "           Id  SepalLengthCm  SepalWidthCm  PetalLengthCm  PetalWidthCm\n",
       "0   -1.720542      -0.900681      1.032057      -1.341272     -1.312977\n",
       "1   -1.697448      -1.143017     -0.124958      -1.341272     -1.312977\n",
       "2   -1.674353      -1.385353      0.337848      -1.398138     -1.312977\n",
       "3   -1.651258      -1.506521      0.106445      -1.284407     -1.312977\n",
       "4   -1.628164      -1.021849      1.263460      -1.341272     -1.312977\n",
       "..        ...            ...           ...            ...           ...\n",
       "145  1.628164       1.038005     -0.124958       0.819624      1.447956\n",
       "146  1.651258       0.553333     -1.281972       0.705893      0.922064\n",
       "147  1.674353       0.795669     -0.124958       0.819624      1.053537\n",
       "148  1.697448       0.432165      0.800654       0.933356      1.447956\n",
       "149  1.720542       0.068662     -0.124958       0.762759      0.790591\n",
       "\n",
       "[150 rows x 5 columns]"
      ]
     },
     "execution_count": 9,
     "metadata": {},
     "output_type": "execute_result"
    }
   ],
   "source": [
    "new_dataset"
   ]
  },
  {
   "cell_type": "code",
   "execution_count": 37,
   "metadata": {
    "id": "yWAH83_aqHAt"
   },
   "outputs": [],
   "source": [
    "from sklearn.model_selection import train_test_split\n",
    "X=dataset.drop('sentiment',axis=1)\n",
    "y=dataset['sentiment']"
   ]
  },
  {
   "cell_type": "code",
   "execution_count": 38,
   "metadata": {
    "id": "d13oxJ4MqbA6"
   },
   "outputs": [],
   "source": [
    " X_train,X_test,y_train,y_test=train_test_split(X,y,test_size=0.3,random_state=42)"
   ]
  },
  {
   "cell_type": "code",
   "execution_count": 30,
   "metadata": {
    "colab": {
     "base_uri": "https://localhost:8080/"
    },
    "id": "sHaYiCaCqkom",
    "outputId": "a993cc4e-2e92-4af0-d42c-97eef5a0c2be"
   },
   "outputs": [
    {
     "ename": "ValueError",
     "evalue": "could not convert string to float: 'As much as I love trains, I couldn\\'t stomach this movie. The premise that one could steal a locomotive and \"drive\" from Arkansas to Chicago without hitting another train along the way has to be right up there on the Impossible Plot lines hit board. Imagine two disgruntled NASA employees stealing the \"crawler\" that totes the shuttles to and fro and driving it to New York and you get the idea.<br /><br />Having said all that, it\\'s a nice try. Wilford Brimely is at his Quaker Oats best, and Levon Helm turns a good performance as his dimwitted but well-meaning sidekick. Bob Balaban is suitably wormy as the Corporate Guy, and the \"little guy takes on Goliath\" story gets another airing.'",
     "output_type": "error",
     "traceback": [
      "\u001b[1;31m---------------------------------------------------------------------------\u001b[0m",
      "\u001b[1;31mValueError\u001b[0m                                Traceback (most recent call last)",
      "Input \u001b[1;32mIn [30]\u001b[0m, in \u001b[0;36m<cell line: 10>\u001b[1;34m()\u001b[0m\n\u001b[0;32m      5\u001b[0m \u001b[38;5;66;03m#GuassianNB\u001b[39;00m\n\u001b[0;32m      6\u001b[0m \u001b[38;5;66;03m#Guassian Naive Bayes is used in cases when all our features are cases are continuous\u001b[39;00m\n\u001b[0;32m      7\u001b[0m \u001b[38;5;66;03m#its features can have different values in data set as width and length can vary\u001b[39;00m\n\u001b[0;32m      9\u001b[0m classifier \u001b[38;5;241m=\u001b[39m GaussianNB()\n\u001b[1;32m---> 10\u001b[0m \u001b[43mclassifier\u001b[49m\u001b[38;5;241;43m.\u001b[39;49m\u001b[43mfit\u001b[49m\u001b[43m(\u001b[49m\u001b[43mX_train\u001b[49m\u001b[43m,\u001b[49m\u001b[43m \u001b[49m\u001b[43my_train\u001b[49m\u001b[43m)\u001b[49m\n\u001b[0;32m     11\u001b[0m y_pred \u001b[38;5;241m=\u001b[39m classifier\u001b[38;5;241m.\u001b[39mpredict(X_test) \n\u001b[0;32m     12\u001b[0m scores\u001b[38;5;241m.\u001b[39mappend(accuracy_score(y_test, y_pred))\n",
      "File \u001b[1;32m~\\AppData\\Local\\Programs\\Python\\Python310\\lib\\site-packages\\sklearn\\naive_bayes.py:243\u001b[0m, in \u001b[0;36mGaussianNB.fit\u001b[1;34m(self, X, y, sample_weight)\u001b[0m\n\u001b[0;32m    220\u001b[0m \u001b[38;5;124;03m\"\"\"Fit Gaussian Naive Bayes according to X, y.\u001b[39;00m\n\u001b[0;32m    221\u001b[0m \n\u001b[0;32m    222\u001b[0m \u001b[38;5;124;03mParameters\u001b[39;00m\n\u001b[1;32m   (...)\u001b[0m\n\u001b[0;32m    240\u001b[0m \u001b[38;5;124;03m    Returns the instance itself.\u001b[39;00m\n\u001b[0;32m    241\u001b[0m \u001b[38;5;124;03m\"\"\"\u001b[39;00m\n\u001b[0;32m    242\u001b[0m y \u001b[38;5;241m=\u001b[39m \u001b[38;5;28mself\u001b[39m\u001b[38;5;241m.\u001b[39m_validate_data(y\u001b[38;5;241m=\u001b[39my)\n\u001b[1;32m--> 243\u001b[0m \u001b[38;5;28;01mreturn\u001b[39;00m \u001b[38;5;28;43mself\u001b[39;49m\u001b[38;5;241;43m.\u001b[39;49m\u001b[43m_partial_fit\u001b[49m\u001b[43m(\u001b[49m\n\u001b[0;32m    244\u001b[0m \u001b[43m    \u001b[49m\u001b[43mX\u001b[49m\u001b[43m,\u001b[49m\u001b[43m \u001b[49m\u001b[43my\u001b[49m\u001b[43m,\u001b[49m\u001b[43m \u001b[49m\u001b[43mnp\u001b[49m\u001b[38;5;241;43m.\u001b[39;49m\u001b[43munique\u001b[49m\u001b[43m(\u001b[49m\u001b[43my\u001b[49m\u001b[43m)\u001b[49m\u001b[43m,\u001b[49m\u001b[43m \u001b[49m\u001b[43m_refit\u001b[49m\u001b[38;5;241;43m=\u001b[39;49m\u001b[38;5;28;43;01mTrue\u001b[39;49;00m\u001b[43m,\u001b[49m\u001b[43m \u001b[49m\u001b[43msample_weight\u001b[49m\u001b[38;5;241;43m=\u001b[39;49m\u001b[43msample_weight\u001b[49m\n\u001b[0;32m    245\u001b[0m \u001b[43m\u001b[49m\u001b[43m)\u001b[49m\n",
      "File \u001b[1;32m~\\AppData\\Local\\Programs\\Python\\Python310\\lib\\site-packages\\sklearn\\naive_bayes.py:400\u001b[0m, in \u001b[0;36mGaussianNB._partial_fit\u001b[1;34m(self, X, y, classes, _refit, sample_weight)\u001b[0m\n\u001b[0;32m    397\u001b[0m     \u001b[38;5;28mself\u001b[39m\u001b[38;5;241m.\u001b[39mclasses_ \u001b[38;5;241m=\u001b[39m \u001b[38;5;28;01mNone\u001b[39;00m\n\u001b[0;32m    399\u001b[0m first_call \u001b[38;5;241m=\u001b[39m _check_partial_fit_first_call(\u001b[38;5;28mself\u001b[39m, classes)\n\u001b[1;32m--> 400\u001b[0m X, y \u001b[38;5;241m=\u001b[39m \u001b[38;5;28;43mself\u001b[39;49m\u001b[38;5;241;43m.\u001b[39;49m\u001b[43m_validate_data\u001b[49m\u001b[43m(\u001b[49m\u001b[43mX\u001b[49m\u001b[43m,\u001b[49m\u001b[43m \u001b[49m\u001b[43my\u001b[49m\u001b[43m,\u001b[49m\u001b[43m \u001b[49m\u001b[43mreset\u001b[49m\u001b[38;5;241;43m=\u001b[39;49m\u001b[43mfirst_call\u001b[49m\u001b[43m)\u001b[49m\n\u001b[0;32m    401\u001b[0m \u001b[38;5;28;01mif\u001b[39;00m sample_weight \u001b[38;5;129;01mis\u001b[39;00m \u001b[38;5;129;01mnot\u001b[39;00m \u001b[38;5;28;01mNone\u001b[39;00m:\n\u001b[0;32m    402\u001b[0m     sample_weight \u001b[38;5;241m=\u001b[39m _check_sample_weight(sample_weight, X)\n",
      "File \u001b[1;32m~\\AppData\\Local\\Programs\\Python\\Python310\\lib\\site-packages\\sklearn\\base.py:596\u001b[0m, in \u001b[0;36mBaseEstimator._validate_data\u001b[1;34m(self, X, y, reset, validate_separately, **check_params)\u001b[0m\n\u001b[0;32m    594\u001b[0m         y \u001b[38;5;241m=\u001b[39m check_array(y, input_name\u001b[38;5;241m=\u001b[39m\u001b[38;5;124m\"\u001b[39m\u001b[38;5;124my\u001b[39m\u001b[38;5;124m\"\u001b[39m, \u001b[38;5;241m*\u001b[39m\u001b[38;5;241m*\u001b[39mcheck_y_params)\n\u001b[0;32m    595\u001b[0m     \u001b[38;5;28;01melse\u001b[39;00m:\n\u001b[1;32m--> 596\u001b[0m         X, y \u001b[38;5;241m=\u001b[39m check_X_y(X, y, \u001b[38;5;241m*\u001b[39m\u001b[38;5;241m*\u001b[39mcheck_params)\n\u001b[0;32m    597\u001b[0m     out \u001b[38;5;241m=\u001b[39m X, y\n\u001b[0;32m    599\u001b[0m \u001b[38;5;28;01mif\u001b[39;00m \u001b[38;5;129;01mnot\u001b[39;00m no_val_X \u001b[38;5;129;01mand\u001b[39;00m check_params\u001b[38;5;241m.\u001b[39mget(\u001b[38;5;124m\"\u001b[39m\u001b[38;5;124mensure_2d\u001b[39m\u001b[38;5;124m\"\u001b[39m, \u001b[38;5;28;01mTrue\u001b[39;00m):\n",
      "File \u001b[1;32m~\\AppData\\Local\\Programs\\Python\\Python310\\lib\\site-packages\\sklearn\\utils\\validation.py:1074\u001b[0m, in \u001b[0;36mcheck_X_y\u001b[1;34m(X, y, accept_sparse, accept_large_sparse, dtype, order, copy, force_all_finite, ensure_2d, allow_nd, multi_output, ensure_min_samples, ensure_min_features, y_numeric, estimator)\u001b[0m\n\u001b[0;32m   1069\u001b[0m         estimator_name \u001b[38;5;241m=\u001b[39m _check_estimator_name(estimator)\n\u001b[0;32m   1070\u001b[0m     \u001b[38;5;28;01mraise\u001b[39;00m \u001b[38;5;167;01mValueError\u001b[39;00m(\n\u001b[0;32m   1071\u001b[0m         \u001b[38;5;124mf\u001b[39m\u001b[38;5;124m\"\u001b[39m\u001b[38;5;132;01m{\u001b[39;00mestimator_name\u001b[38;5;132;01m}\u001b[39;00m\u001b[38;5;124m requires y to be passed, but the target y is None\u001b[39m\u001b[38;5;124m\"\u001b[39m\n\u001b[0;32m   1072\u001b[0m     )\n\u001b[1;32m-> 1074\u001b[0m X \u001b[38;5;241m=\u001b[39m \u001b[43mcheck_array\u001b[49m\u001b[43m(\u001b[49m\n\u001b[0;32m   1075\u001b[0m \u001b[43m    \u001b[49m\u001b[43mX\u001b[49m\u001b[43m,\u001b[49m\n\u001b[0;32m   1076\u001b[0m \u001b[43m    \u001b[49m\u001b[43maccept_sparse\u001b[49m\u001b[38;5;241;43m=\u001b[39;49m\u001b[43maccept_sparse\u001b[49m\u001b[43m,\u001b[49m\n\u001b[0;32m   1077\u001b[0m \u001b[43m    \u001b[49m\u001b[43maccept_large_sparse\u001b[49m\u001b[38;5;241;43m=\u001b[39;49m\u001b[43maccept_large_sparse\u001b[49m\u001b[43m,\u001b[49m\n\u001b[0;32m   1078\u001b[0m \u001b[43m    \u001b[49m\u001b[43mdtype\u001b[49m\u001b[38;5;241;43m=\u001b[39;49m\u001b[43mdtype\u001b[49m\u001b[43m,\u001b[49m\n\u001b[0;32m   1079\u001b[0m \u001b[43m    \u001b[49m\u001b[43morder\u001b[49m\u001b[38;5;241;43m=\u001b[39;49m\u001b[43morder\u001b[49m\u001b[43m,\u001b[49m\n\u001b[0;32m   1080\u001b[0m \u001b[43m    \u001b[49m\u001b[43mcopy\u001b[49m\u001b[38;5;241;43m=\u001b[39;49m\u001b[43mcopy\u001b[49m\u001b[43m,\u001b[49m\n\u001b[0;32m   1081\u001b[0m \u001b[43m    \u001b[49m\u001b[43mforce_all_finite\u001b[49m\u001b[38;5;241;43m=\u001b[39;49m\u001b[43mforce_all_finite\u001b[49m\u001b[43m,\u001b[49m\n\u001b[0;32m   1082\u001b[0m \u001b[43m    \u001b[49m\u001b[43mensure_2d\u001b[49m\u001b[38;5;241;43m=\u001b[39;49m\u001b[43mensure_2d\u001b[49m\u001b[43m,\u001b[49m\n\u001b[0;32m   1083\u001b[0m \u001b[43m    \u001b[49m\u001b[43mallow_nd\u001b[49m\u001b[38;5;241;43m=\u001b[39;49m\u001b[43mallow_nd\u001b[49m\u001b[43m,\u001b[49m\n\u001b[0;32m   1084\u001b[0m \u001b[43m    \u001b[49m\u001b[43mensure_min_samples\u001b[49m\u001b[38;5;241;43m=\u001b[39;49m\u001b[43mensure_min_samples\u001b[49m\u001b[43m,\u001b[49m\n\u001b[0;32m   1085\u001b[0m \u001b[43m    \u001b[49m\u001b[43mensure_min_features\u001b[49m\u001b[38;5;241;43m=\u001b[39;49m\u001b[43mensure_min_features\u001b[49m\u001b[43m,\u001b[49m\n\u001b[0;32m   1086\u001b[0m \u001b[43m    \u001b[49m\u001b[43mestimator\u001b[49m\u001b[38;5;241;43m=\u001b[39;49m\u001b[43mestimator\u001b[49m\u001b[43m,\u001b[49m\n\u001b[0;32m   1087\u001b[0m \u001b[43m    \u001b[49m\u001b[43minput_name\u001b[49m\u001b[38;5;241;43m=\u001b[39;49m\u001b[38;5;124;43m\"\u001b[39;49m\u001b[38;5;124;43mX\u001b[39;49m\u001b[38;5;124;43m\"\u001b[39;49m\u001b[43m,\u001b[49m\n\u001b[0;32m   1088\u001b[0m \u001b[43m\u001b[49m\u001b[43m)\u001b[49m\n\u001b[0;32m   1090\u001b[0m y \u001b[38;5;241m=\u001b[39m _check_y(y, multi_output\u001b[38;5;241m=\u001b[39mmulti_output, y_numeric\u001b[38;5;241m=\u001b[39my_numeric, estimator\u001b[38;5;241m=\u001b[39mestimator)\n\u001b[0;32m   1092\u001b[0m check_consistent_length(X, y)\n",
      "File \u001b[1;32m~\\AppData\\Local\\Programs\\Python\\Python310\\lib\\site-packages\\sklearn\\utils\\validation.py:856\u001b[0m, in \u001b[0;36mcheck_array\u001b[1;34m(array, accept_sparse, accept_large_sparse, dtype, order, copy, force_all_finite, ensure_2d, allow_nd, ensure_min_samples, ensure_min_features, estimator, input_name)\u001b[0m\n\u001b[0;32m    854\u001b[0m         array \u001b[38;5;241m=\u001b[39m array\u001b[38;5;241m.\u001b[39mastype(dtype, casting\u001b[38;5;241m=\u001b[39m\u001b[38;5;124m\"\u001b[39m\u001b[38;5;124munsafe\u001b[39m\u001b[38;5;124m\"\u001b[39m, copy\u001b[38;5;241m=\u001b[39m\u001b[38;5;28;01mFalse\u001b[39;00m)\n\u001b[0;32m    855\u001b[0m     \u001b[38;5;28;01melse\u001b[39;00m:\n\u001b[1;32m--> 856\u001b[0m         array \u001b[38;5;241m=\u001b[39m \u001b[43mnp\u001b[49m\u001b[38;5;241;43m.\u001b[39;49m\u001b[43masarray\u001b[49m\u001b[43m(\u001b[49m\u001b[43marray\u001b[49m\u001b[43m,\u001b[49m\u001b[43m \u001b[49m\u001b[43morder\u001b[49m\u001b[38;5;241;43m=\u001b[39;49m\u001b[43morder\u001b[49m\u001b[43m,\u001b[49m\u001b[43m \u001b[49m\u001b[43mdtype\u001b[49m\u001b[38;5;241;43m=\u001b[39;49m\u001b[43mdtype\u001b[49m\u001b[43m)\u001b[49m\n\u001b[0;32m    857\u001b[0m \u001b[38;5;28;01mexcept\u001b[39;00m ComplexWarning \u001b[38;5;28;01mas\u001b[39;00m complex_warning:\n\u001b[0;32m    858\u001b[0m     \u001b[38;5;28;01mraise\u001b[39;00m \u001b[38;5;167;01mValueError\u001b[39;00m(\n\u001b[0;32m    859\u001b[0m         \u001b[38;5;124m\"\u001b[39m\u001b[38;5;124mComplex data not supported\u001b[39m\u001b[38;5;130;01m\\n\u001b[39;00m\u001b[38;5;132;01m{}\u001b[39;00m\u001b[38;5;130;01m\\n\u001b[39;00m\u001b[38;5;124m\"\u001b[39m\u001b[38;5;241m.\u001b[39mformat(array)\n\u001b[0;32m    860\u001b[0m     ) \u001b[38;5;28;01mfrom\u001b[39;00m \u001b[38;5;21;01mcomplex_warning\u001b[39;00m\n",
      "File \u001b[1;32m~\\AppData\\Local\\Programs\\Python\\Python310\\lib\\site-packages\\pandas\\core\\generic.py:2072\u001b[0m, in \u001b[0;36mNDFrame.__array__\u001b[1;34m(self, dtype)\u001b[0m\n\u001b[0;32m   2071\u001b[0m \u001b[38;5;28;01mdef\u001b[39;00m \u001b[38;5;21m__array__\u001b[39m(\u001b[38;5;28mself\u001b[39m, dtype: npt\u001b[38;5;241m.\u001b[39mDTypeLike \u001b[38;5;241m|\u001b[39m \u001b[38;5;28;01mNone\u001b[39;00m \u001b[38;5;241m=\u001b[39m \u001b[38;5;28;01mNone\u001b[39;00m) \u001b[38;5;241m-\u001b[39m\u001b[38;5;241m>\u001b[39m np\u001b[38;5;241m.\u001b[39mndarray:\n\u001b[1;32m-> 2072\u001b[0m     \u001b[38;5;28;01mreturn\u001b[39;00m \u001b[43mnp\u001b[49m\u001b[38;5;241;43m.\u001b[39;49m\u001b[43masarray\u001b[49m\u001b[43m(\u001b[49m\u001b[38;5;28;43mself\u001b[39;49m\u001b[38;5;241;43m.\u001b[39;49m\u001b[43m_values\u001b[49m\u001b[43m,\u001b[49m\u001b[43m \u001b[49m\u001b[43mdtype\u001b[49m\u001b[38;5;241;43m=\u001b[39;49m\u001b[43mdtype\u001b[49m\u001b[43m)\u001b[49m\n",
      "\u001b[1;31mValueError\u001b[0m: could not convert string to float: 'As much as I love trains, I couldn\\'t stomach this movie. The premise that one could steal a locomotive and \"drive\" from Arkansas to Chicago without hitting another train along the way has to be right up there on the Impossible Plot lines hit board. Imagine two disgruntled NASA employees stealing the \"crawler\" that totes the shuttles to and fro and driving it to New York and you get the idea.<br /><br />Having said all that, it\\'s a nice try. Wilford Brimely is at his Quaker Oats best, and Levon Helm turns a good performance as his dimwitted but well-meaning sidekick. Bob Balaban is suitably wormy as the Corporate Guy, and the \"little guy takes on Goliath\" story gets another airing.'"
     ]
    }
   ],
   "source": [
    "from sklearn.naive_bayes import GaussianNB, BernoulliNB, MultinomialNB\n",
    "from sklearn.metrics import confusion_matrix\n",
    "from sklearn.metrics import accuracy_score\n",
    "scores = []\n",
    "#GuassianNB\n",
    "#Guassian Naive Bayes is used in cases when all our features are cases are continuous\n",
    "#its features can have different values in data set as width and length can vary\n",
    "\n",
    "classifier = GaussianNB()\n",
    "classifier.fit(X_train, y_train)\n",
    "y_pred = classifier.predict(X_test) \n",
    "scores.append(accuracy_score(y_test, y_pred))\n",
    "cm = confusion_matrix(y_test, y_pred)\n",
    "cm "
   ]
  },
  {
   "cell_type": "code",
   "execution_count": 13,
   "metadata": {
    "colab": {
     "base_uri": "https://localhost:8080/"
    },
    "id": "FWOWXcc5rhsZ",
    "outputId": "da283557-714f-4a2d-ef19-96fdae0d7569"
   },
   "outputs": [
    {
     "name": "stdout",
     "output_type": "stream",
     "text": [
      "[1.0]\n"
     ]
    }
   ],
   "source": [
    "print(scores)"
   ]
  },
  {
   "cell_type": "code",
   "execution_count": 31,
   "metadata": {
    "colab": {
     "base_uri": "https://localhost:8080/"
    },
    "id": "CRf4-OCIr8IS",
    "outputId": "773bc295-b8aa-4568-e747-f4bd11c55323"
   },
   "outputs": [
    {
     "ename": "ValueError",
     "evalue": "could not convert string to float: 'As much as I love trains, I couldn\\'t stomach this movie. The premise that one could steal a locomotive and \"drive\" from Arkansas to Chicago without hitting another train along the way has to be right up there on the Impossible Plot lines hit board. Imagine two disgruntled NASA employees stealing the \"crawler\" that totes the shuttles to and fro and driving it to New York and you get the idea.<br /><br />Having said all that, it\\'s a nice try. Wilford Brimely is at his Quaker Oats best, and Levon Helm turns a good performance as his dimwitted but well-meaning sidekick. Bob Balaban is suitably wormy as the Corporate Guy, and the \"little guy takes on Goliath\" story gets another airing.'",
     "output_type": "error",
     "traceback": [
      "\u001b[1;31m---------------------------------------------------------------------------\u001b[0m",
      "\u001b[1;31mValueError\u001b[0m                                Traceback (most recent call last)",
      "Input \u001b[1;32mIn [31]\u001b[0m, in \u001b[0;36m<cell line: 2>\u001b[1;34m()\u001b[0m\n\u001b[0;32m      1\u001b[0m classifier1 \u001b[38;5;241m=\u001b[39m BernoulliNB()\n\u001b[1;32m----> 2\u001b[0m \u001b[43mclassifier1\u001b[49m\u001b[38;5;241;43m.\u001b[39;49m\u001b[43mfit\u001b[49m\u001b[43m(\u001b[49m\u001b[43mX_train\u001b[49m\u001b[43m,\u001b[49m\u001b[43m \u001b[49m\u001b[43my_train\u001b[49m\u001b[43m)\u001b[49m\n\u001b[0;32m      3\u001b[0m y_pred \u001b[38;5;241m=\u001b[39m classifier1\u001b[38;5;241m.\u001b[39mpredict(X_test) \n\u001b[0;32m      4\u001b[0m scores\u001b[38;5;241m.\u001b[39mappend(accuracy_score(y_test, y_pred))\n",
      "File \u001b[1;32m~\\AppData\\Local\\Programs\\Python\\Python310\\lib\\site-packages\\sklearn\\naive_bayes.py:699\u001b[0m, in \u001b[0;36m_BaseDiscreteNB.fit\u001b[1;34m(self, X, y, sample_weight)\u001b[0m\n\u001b[0;32m    679\u001b[0m \u001b[38;5;28;01mdef\u001b[39;00m \u001b[38;5;21mfit\u001b[39m(\u001b[38;5;28mself\u001b[39m, X, y, sample_weight\u001b[38;5;241m=\u001b[39m\u001b[38;5;28;01mNone\u001b[39;00m):\n\u001b[0;32m    680\u001b[0m     \u001b[38;5;124;03m\"\"\"Fit Naive Bayes classifier according to X, y.\u001b[39;00m\n\u001b[0;32m    681\u001b[0m \n\u001b[0;32m    682\u001b[0m \u001b[38;5;124;03m    Parameters\u001b[39;00m\n\u001b[1;32m   (...)\u001b[0m\n\u001b[0;32m    697\u001b[0m \u001b[38;5;124;03m        Returns the instance itself.\u001b[39;00m\n\u001b[0;32m    698\u001b[0m \u001b[38;5;124;03m    \"\"\"\u001b[39;00m\n\u001b[1;32m--> 699\u001b[0m     X, y \u001b[38;5;241m=\u001b[39m \u001b[38;5;28;43mself\u001b[39;49m\u001b[38;5;241;43m.\u001b[39;49m\u001b[43m_check_X_y\u001b[49m\u001b[43m(\u001b[49m\u001b[43mX\u001b[49m\u001b[43m,\u001b[49m\u001b[43m \u001b[49m\u001b[43my\u001b[49m\u001b[43m)\u001b[49m\n\u001b[0;32m    700\u001b[0m     _, n_features \u001b[38;5;241m=\u001b[39m X\u001b[38;5;241m.\u001b[39mshape\n\u001b[0;32m    702\u001b[0m     labelbin \u001b[38;5;241m=\u001b[39m LabelBinarizer()\n",
      "File \u001b[1;32m~\\AppData\\Local\\Programs\\Python\\Python310\\lib\\site-packages\\sklearn\\naive_bayes.py:1117\u001b[0m, in \u001b[0;36mBernoulliNB._check_X_y\u001b[1;34m(self, X, y, reset)\u001b[0m\n\u001b[0;32m   1116\u001b[0m \u001b[38;5;28;01mdef\u001b[39;00m \u001b[38;5;21m_check_X_y\u001b[39m(\u001b[38;5;28mself\u001b[39m, X, y, reset\u001b[38;5;241m=\u001b[39m\u001b[38;5;28;01mTrue\u001b[39;00m):\n\u001b[1;32m-> 1117\u001b[0m     X, y \u001b[38;5;241m=\u001b[39m \u001b[38;5;28;43msuper\u001b[39;49m\u001b[43m(\u001b[49m\u001b[43m)\u001b[49m\u001b[38;5;241;43m.\u001b[39;49m\u001b[43m_check_X_y\u001b[49m\u001b[43m(\u001b[49m\u001b[43mX\u001b[49m\u001b[43m,\u001b[49m\u001b[43m \u001b[49m\u001b[43my\u001b[49m\u001b[43m,\u001b[49m\u001b[43m \u001b[49m\u001b[43mreset\u001b[49m\u001b[38;5;241;43m=\u001b[39;49m\u001b[43mreset\u001b[49m\u001b[43m)\u001b[49m\n\u001b[0;32m   1118\u001b[0m     \u001b[38;5;28;01mif\u001b[39;00m \u001b[38;5;28mself\u001b[39m\u001b[38;5;241m.\u001b[39mbinarize \u001b[38;5;129;01mis\u001b[39;00m \u001b[38;5;129;01mnot\u001b[39;00m \u001b[38;5;28;01mNone\u001b[39;00m:\n\u001b[0;32m   1119\u001b[0m         X \u001b[38;5;241m=\u001b[39m binarize(X, threshold\u001b[38;5;241m=\u001b[39m\u001b[38;5;28mself\u001b[39m\u001b[38;5;241m.\u001b[39mbinarize)\n",
      "File \u001b[1;32m~\\AppData\\Local\\Programs\\Python\\Python310\\lib\\site-packages\\sklearn\\naive_bayes.py:553\u001b[0m, in \u001b[0;36m_BaseDiscreteNB._check_X_y\u001b[1;34m(self, X, y, reset)\u001b[0m\n\u001b[0;32m    551\u001b[0m \u001b[38;5;28;01mdef\u001b[39;00m \u001b[38;5;21m_check_X_y\u001b[39m(\u001b[38;5;28mself\u001b[39m, X, y, reset\u001b[38;5;241m=\u001b[39m\u001b[38;5;28;01mTrue\u001b[39;00m):\n\u001b[0;32m    552\u001b[0m     \u001b[38;5;124;03m\"\"\"Validate X and y in fit methods.\"\"\"\u001b[39;00m\n\u001b[1;32m--> 553\u001b[0m     \u001b[38;5;28;01mreturn\u001b[39;00m \u001b[38;5;28;43mself\u001b[39;49m\u001b[38;5;241;43m.\u001b[39;49m\u001b[43m_validate_data\u001b[49m\u001b[43m(\u001b[49m\u001b[43mX\u001b[49m\u001b[43m,\u001b[49m\u001b[43m \u001b[49m\u001b[43my\u001b[49m\u001b[43m,\u001b[49m\u001b[43m \u001b[49m\u001b[43maccept_sparse\u001b[49m\u001b[38;5;241;43m=\u001b[39;49m\u001b[38;5;124;43m\"\u001b[39;49m\u001b[38;5;124;43mcsr\u001b[39;49m\u001b[38;5;124;43m\"\u001b[39;49m\u001b[43m,\u001b[49m\u001b[43m \u001b[49m\u001b[43mreset\u001b[49m\u001b[38;5;241;43m=\u001b[39;49m\u001b[43mreset\u001b[49m\u001b[43m)\u001b[49m\n",
      "File \u001b[1;32m~\\AppData\\Local\\Programs\\Python\\Python310\\lib\\site-packages\\sklearn\\base.py:596\u001b[0m, in \u001b[0;36mBaseEstimator._validate_data\u001b[1;34m(self, X, y, reset, validate_separately, **check_params)\u001b[0m\n\u001b[0;32m    594\u001b[0m         y \u001b[38;5;241m=\u001b[39m check_array(y, input_name\u001b[38;5;241m=\u001b[39m\u001b[38;5;124m\"\u001b[39m\u001b[38;5;124my\u001b[39m\u001b[38;5;124m\"\u001b[39m, \u001b[38;5;241m*\u001b[39m\u001b[38;5;241m*\u001b[39mcheck_y_params)\n\u001b[0;32m    595\u001b[0m     \u001b[38;5;28;01melse\u001b[39;00m:\n\u001b[1;32m--> 596\u001b[0m         X, y \u001b[38;5;241m=\u001b[39m check_X_y(X, y, \u001b[38;5;241m*\u001b[39m\u001b[38;5;241m*\u001b[39mcheck_params)\n\u001b[0;32m    597\u001b[0m     out \u001b[38;5;241m=\u001b[39m X, y\n\u001b[0;32m    599\u001b[0m \u001b[38;5;28;01mif\u001b[39;00m \u001b[38;5;129;01mnot\u001b[39;00m no_val_X \u001b[38;5;129;01mand\u001b[39;00m check_params\u001b[38;5;241m.\u001b[39mget(\u001b[38;5;124m\"\u001b[39m\u001b[38;5;124mensure_2d\u001b[39m\u001b[38;5;124m\"\u001b[39m, \u001b[38;5;28;01mTrue\u001b[39;00m):\n",
      "File \u001b[1;32m~\\AppData\\Local\\Programs\\Python\\Python310\\lib\\site-packages\\sklearn\\utils\\validation.py:1074\u001b[0m, in \u001b[0;36mcheck_X_y\u001b[1;34m(X, y, accept_sparse, accept_large_sparse, dtype, order, copy, force_all_finite, ensure_2d, allow_nd, multi_output, ensure_min_samples, ensure_min_features, y_numeric, estimator)\u001b[0m\n\u001b[0;32m   1069\u001b[0m         estimator_name \u001b[38;5;241m=\u001b[39m _check_estimator_name(estimator)\n\u001b[0;32m   1070\u001b[0m     \u001b[38;5;28;01mraise\u001b[39;00m \u001b[38;5;167;01mValueError\u001b[39;00m(\n\u001b[0;32m   1071\u001b[0m         \u001b[38;5;124mf\u001b[39m\u001b[38;5;124m\"\u001b[39m\u001b[38;5;132;01m{\u001b[39;00mestimator_name\u001b[38;5;132;01m}\u001b[39;00m\u001b[38;5;124m requires y to be passed, but the target y is None\u001b[39m\u001b[38;5;124m\"\u001b[39m\n\u001b[0;32m   1072\u001b[0m     )\n\u001b[1;32m-> 1074\u001b[0m X \u001b[38;5;241m=\u001b[39m \u001b[43mcheck_array\u001b[49m\u001b[43m(\u001b[49m\n\u001b[0;32m   1075\u001b[0m \u001b[43m    \u001b[49m\u001b[43mX\u001b[49m\u001b[43m,\u001b[49m\n\u001b[0;32m   1076\u001b[0m \u001b[43m    \u001b[49m\u001b[43maccept_sparse\u001b[49m\u001b[38;5;241;43m=\u001b[39;49m\u001b[43maccept_sparse\u001b[49m\u001b[43m,\u001b[49m\n\u001b[0;32m   1077\u001b[0m \u001b[43m    \u001b[49m\u001b[43maccept_large_sparse\u001b[49m\u001b[38;5;241;43m=\u001b[39;49m\u001b[43maccept_large_sparse\u001b[49m\u001b[43m,\u001b[49m\n\u001b[0;32m   1078\u001b[0m \u001b[43m    \u001b[49m\u001b[43mdtype\u001b[49m\u001b[38;5;241;43m=\u001b[39;49m\u001b[43mdtype\u001b[49m\u001b[43m,\u001b[49m\n\u001b[0;32m   1079\u001b[0m \u001b[43m    \u001b[49m\u001b[43morder\u001b[49m\u001b[38;5;241;43m=\u001b[39;49m\u001b[43morder\u001b[49m\u001b[43m,\u001b[49m\n\u001b[0;32m   1080\u001b[0m \u001b[43m    \u001b[49m\u001b[43mcopy\u001b[49m\u001b[38;5;241;43m=\u001b[39;49m\u001b[43mcopy\u001b[49m\u001b[43m,\u001b[49m\n\u001b[0;32m   1081\u001b[0m \u001b[43m    \u001b[49m\u001b[43mforce_all_finite\u001b[49m\u001b[38;5;241;43m=\u001b[39;49m\u001b[43mforce_all_finite\u001b[49m\u001b[43m,\u001b[49m\n\u001b[0;32m   1082\u001b[0m \u001b[43m    \u001b[49m\u001b[43mensure_2d\u001b[49m\u001b[38;5;241;43m=\u001b[39;49m\u001b[43mensure_2d\u001b[49m\u001b[43m,\u001b[49m\n\u001b[0;32m   1083\u001b[0m \u001b[43m    \u001b[49m\u001b[43mallow_nd\u001b[49m\u001b[38;5;241;43m=\u001b[39;49m\u001b[43mallow_nd\u001b[49m\u001b[43m,\u001b[49m\n\u001b[0;32m   1084\u001b[0m \u001b[43m    \u001b[49m\u001b[43mensure_min_samples\u001b[49m\u001b[38;5;241;43m=\u001b[39;49m\u001b[43mensure_min_samples\u001b[49m\u001b[43m,\u001b[49m\n\u001b[0;32m   1085\u001b[0m \u001b[43m    \u001b[49m\u001b[43mensure_min_features\u001b[49m\u001b[38;5;241;43m=\u001b[39;49m\u001b[43mensure_min_features\u001b[49m\u001b[43m,\u001b[49m\n\u001b[0;32m   1086\u001b[0m \u001b[43m    \u001b[49m\u001b[43mestimator\u001b[49m\u001b[38;5;241;43m=\u001b[39;49m\u001b[43mestimator\u001b[49m\u001b[43m,\u001b[49m\n\u001b[0;32m   1087\u001b[0m \u001b[43m    \u001b[49m\u001b[43minput_name\u001b[49m\u001b[38;5;241;43m=\u001b[39;49m\u001b[38;5;124;43m\"\u001b[39;49m\u001b[38;5;124;43mX\u001b[39;49m\u001b[38;5;124;43m\"\u001b[39;49m\u001b[43m,\u001b[49m\n\u001b[0;32m   1088\u001b[0m \u001b[43m\u001b[49m\u001b[43m)\u001b[49m\n\u001b[0;32m   1090\u001b[0m y \u001b[38;5;241m=\u001b[39m _check_y(y, multi_output\u001b[38;5;241m=\u001b[39mmulti_output, y_numeric\u001b[38;5;241m=\u001b[39my_numeric, estimator\u001b[38;5;241m=\u001b[39mestimator)\n\u001b[0;32m   1092\u001b[0m check_consistent_length(X, y)\n",
      "File \u001b[1;32m~\\AppData\\Local\\Programs\\Python\\Python310\\lib\\site-packages\\sklearn\\utils\\validation.py:856\u001b[0m, in \u001b[0;36mcheck_array\u001b[1;34m(array, accept_sparse, accept_large_sparse, dtype, order, copy, force_all_finite, ensure_2d, allow_nd, ensure_min_samples, ensure_min_features, estimator, input_name)\u001b[0m\n\u001b[0;32m    854\u001b[0m         array \u001b[38;5;241m=\u001b[39m array\u001b[38;5;241m.\u001b[39mastype(dtype, casting\u001b[38;5;241m=\u001b[39m\u001b[38;5;124m\"\u001b[39m\u001b[38;5;124munsafe\u001b[39m\u001b[38;5;124m\"\u001b[39m, copy\u001b[38;5;241m=\u001b[39m\u001b[38;5;28;01mFalse\u001b[39;00m)\n\u001b[0;32m    855\u001b[0m     \u001b[38;5;28;01melse\u001b[39;00m:\n\u001b[1;32m--> 856\u001b[0m         array \u001b[38;5;241m=\u001b[39m \u001b[43mnp\u001b[49m\u001b[38;5;241;43m.\u001b[39;49m\u001b[43masarray\u001b[49m\u001b[43m(\u001b[49m\u001b[43marray\u001b[49m\u001b[43m,\u001b[49m\u001b[43m \u001b[49m\u001b[43morder\u001b[49m\u001b[38;5;241;43m=\u001b[39;49m\u001b[43morder\u001b[49m\u001b[43m,\u001b[49m\u001b[43m \u001b[49m\u001b[43mdtype\u001b[49m\u001b[38;5;241;43m=\u001b[39;49m\u001b[43mdtype\u001b[49m\u001b[43m)\u001b[49m\n\u001b[0;32m    857\u001b[0m \u001b[38;5;28;01mexcept\u001b[39;00m ComplexWarning \u001b[38;5;28;01mas\u001b[39;00m complex_warning:\n\u001b[0;32m    858\u001b[0m     \u001b[38;5;28;01mraise\u001b[39;00m \u001b[38;5;167;01mValueError\u001b[39;00m(\n\u001b[0;32m    859\u001b[0m         \u001b[38;5;124m\"\u001b[39m\u001b[38;5;124mComplex data not supported\u001b[39m\u001b[38;5;130;01m\\n\u001b[39;00m\u001b[38;5;132;01m{}\u001b[39;00m\u001b[38;5;130;01m\\n\u001b[39;00m\u001b[38;5;124m\"\u001b[39m\u001b[38;5;241m.\u001b[39mformat(array)\n\u001b[0;32m    860\u001b[0m     ) \u001b[38;5;28;01mfrom\u001b[39;00m \u001b[38;5;21;01mcomplex_warning\u001b[39;00m\n",
      "File \u001b[1;32m~\\AppData\\Local\\Programs\\Python\\Python310\\lib\\site-packages\\pandas\\core\\generic.py:2072\u001b[0m, in \u001b[0;36mNDFrame.__array__\u001b[1;34m(self, dtype)\u001b[0m\n\u001b[0;32m   2071\u001b[0m \u001b[38;5;28;01mdef\u001b[39;00m \u001b[38;5;21m__array__\u001b[39m(\u001b[38;5;28mself\u001b[39m, dtype: npt\u001b[38;5;241m.\u001b[39mDTypeLike \u001b[38;5;241m|\u001b[39m \u001b[38;5;28;01mNone\u001b[39;00m \u001b[38;5;241m=\u001b[39m \u001b[38;5;28;01mNone\u001b[39;00m) \u001b[38;5;241m-\u001b[39m\u001b[38;5;241m>\u001b[39m np\u001b[38;5;241m.\u001b[39mndarray:\n\u001b[1;32m-> 2072\u001b[0m     \u001b[38;5;28;01mreturn\u001b[39;00m \u001b[43mnp\u001b[49m\u001b[38;5;241;43m.\u001b[39;49m\u001b[43masarray\u001b[49m\u001b[43m(\u001b[49m\u001b[38;5;28;43mself\u001b[39;49m\u001b[38;5;241;43m.\u001b[39;49m\u001b[43m_values\u001b[49m\u001b[43m,\u001b[49m\u001b[43m \u001b[49m\u001b[43mdtype\u001b[49m\u001b[38;5;241;43m=\u001b[39;49m\u001b[43mdtype\u001b[49m\u001b[43m)\u001b[49m\n",
      "\u001b[1;31mValueError\u001b[0m: could not convert string to float: 'As much as I love trains, I couldn\\'t stomach this movie. The premise that one could steal a locomotive and \"drive\" from Arkansas to Chicago without hitting another train along the way has to be right up there on the Impossible Plot lines hit board. Imagine two disgruntled NASA employees stealing the \"crawler\" that totes the shuttles to and fro and driving it to New York and you get the idea.<br /><br />Having said all that, it\\'s a nice try. Wilford Brimely is at his Quaker Oats best, and Levon Helm turns a good performance as his dimwitted but well-meaning sidekick. Bob Balaban is suitably wormy as the Corporate Guy, and the \"little guy takes on Goliath\" story gets another airing.'"
     ]
    }
   ],
   "source": [
    "\n",
    "classifier1 = BernoulliNB()\n",
    "classifier1.fit(X_train, y_train)\n",
    "y_pred = classifier1.predict(X_test) \n",
    "scores.append(accuracy_score(y_test, y_pred))\n",
    "cm = confusion_matrix(y_test, y_pred)\n",
    "cm"
   ]
  },
  {
   "cell_type": "code",
   "execution_count": 15,
   "metadata": {
    "colab": {
     "base_uri": "https://localhost:8080/"
    },
    "id": "jvMbz-DfsJea",
    "outputId": "8fcad61e-f30b-41db-fb1a-06c9ecb20e2c"
   },
   "outputs": [
    {
     "name": "stdout",
     "output_type": "stream",
     "text": [
      "[1.0, 0.8888888888888888]\n"
     ]
    }
   ],
   "source": [
    "print(scores)"
   ]
  },
  {
   "cell_type": "code",
   "execution_count": 16,
   "metadata": {},
   "outputs": [
    {
     "data": {
      "text/plain": [
       "array(['Iris-versicolor', 'Iris-setosa', 'Iris-virginica',\n",
       "       'Iris-virginica', 'Iris-virginica', 'Iris-setosa',\n",
       "       'Iris-versicolor', 'Iris-virginica', 'Iris-versicolor',\n",
       "       'Iris-versicolor', 'Iris-virginica', 'Iris-setosa', 'Iris-setosa',\n",
       "       'Iris-setosa', 'Iris-setosa', 'Iris-versicolor', 'Iris-virginica',\n",
       "       'Iris-versicolor', 'Iris-versicolor', 'Iris-virginica',\n",
       "       'Iris-setosa', 'Iris-virginica', 'Iris-setosa', 'Iris-virginica',\n",
       "       'Iris-virginica', 'Iris-virginica', 'Iris-virginica',\n",
       "       'Iris-virginica', 'Iris-setosa', 'Iris-setosa', 'Iris-setosa',\n",
       "       'Iris-setosa', 'Iris-versicolor', 'Iris-setosa', 'Iris-setosa',\n",
       "       'Iris-virginica', 'Iris-versicolor', 'Iris-setosa', 'Iris-setosa',\n",
       "       'Iris-setosa', 'Iris-versicolor', 'Iris-virginica',\n",
       "       'Iris-virginica', 'Iris-setosa', 'Iris-setosa'], dtype='<U15')"
      ]
     },
     "execution_count": 16,
     "metadata": {},
     "output_type": "execute_result"
    }
   ],
   "source": [
    "y_pred"
   ]
  },
  {
   "cell_type": "code",
   "execution_count": 32,
   "metadata": {},
   "outputs": [
    {
     "ename": "ValueError",
     "evalue": "could not convert string to float: 'As much as I love trains, I couldn\\'t stomach this movie. The premise that one could steal a locomotive and \"drive\" from Arkansas to Chicago without hitting another train along the way has to be right up there on the Impossible Plot lines hit board. Imagine two disgruntled NASA employees stealing the \"crawler\" that totes the shuttles to and fro and driving it to New York and you get the idea.<br /><br />Having said all that, it\\'s a nice try. Wilford Brimely is at his Quaker Oats best, and Levon Helm turns a good performance as his dimwitted but well-meaning sidekick. Bob Balaban is suitably wormy as the Corporate Guy, and the \"little guy takes on Goliath\" story gets another airing.'",
     "output_type": "error",
     "traceback": [
      "\u001b[1;31m---------------------------------------------------------------------------\u001b[0m",
      "\u001b[1;31mValueError\u001b[0m                                Traceback (most recent call last)",
      "Input \u001b[1;32mIn [32]\u001b[0m, in \u001b[0;36m<cell line: 2>\u001b[1;34m()\u001b[0m\n\u001b[0;32m      1\u001b[0m classifier \u001b[38;5;241m=\u001b[39m BernoulliNB()\n\u001b[1;32m----> 2\u001b[0m \u001b[43mclassifier\u001b[49m\u001b[38;5;241;43m.\u001b[39;49m\u001b[43mfit\u001b[49m\u001b[43m(\u001b[49m\u001b[43mX_train\u001b[49m\u001b[43m,\u001b[49m\u001b[43m \u001b[49m\u001b[43my_train\u001b[49m\u001b[43m)\u001b[49m\n\u001b[0;32m      3\u001b[0m y_pred \u001b[38;5;241m=\u001b[39m classifier\u001b[38;5;241m.\u001b[39mpredict(X_test) \n\u001b[0;32m      4\u001b[0m scores\u001b[38;5;241m.\u001b[39mappend(accuracy_score(y_test, y_pred))\n",
      "File \u001b[1;32m~\\AppData\\Local\\Programs\\Python\\Python310\\lib\\site-packages\\sklearn\\naive_bayes.py:699\u001b[0m, in \u001b[0;36m_BaseDiscreteNB.fit\u001b[1;34m(self, X, y, sample_weight)\u001b[0m\n\u001b[0;32m    679\u001b[0m \u001b[38;5;28;01mdef\u001b[39;00m \u001b[38;5;21mfit\u001b[39m(\u001b[38;5;28mself\u001b[39m, X, y, sample_weight\u001b[38;5;241m=\u001b[39m\u001b[38;5;28;01mNone\u001b[39;00m):\n\u001b[0;32m    680\u001b[0m     \u001b[38;5;124;03m\"\"\"Fit Naive Bayes classifier according to X, y.\u001b[39;00m\n\u001b[0;32m    681\u001b[0m \n\u001b[0;32m    682\u001b[0m \u001b[38;5;124;03m    Parameters\u001b[39;00m\n\u001b[1;32m   (...)\u001b[0m\n\u001b[0;32m    697\u001b[0m \u001b[38;5;124;03m        Returns the instance itself.\u001b[39;00m\n\u001b[0;32m    698\u001b[0m \u001b[38;5;124;03m    \"\"\"\u001b[39;00m\n\u001b[1;32m--> 699\u001b[0m     X, y \u001b[38;5;241m=\u001b[39m \u001b[38;5;28;43mself\u001b[39;49m\u001b[38;5;241;43m.\u001b[39;49m\u001b[43m_check_X_y\u001b[49m\u001b[43m(\u001b[49m\u001b[43mX\u001b[49m\u001b[43m,\u001b[49m\u001b[43m \u001b[49m\u001b[43my\u001b[49m\u001b[43m)\u001b[49m\n\u001b[0;32m    700\u001b[0m     _, n_features \u001b[38;5;241m=\u001b[39m X\u001b[38;5;241m.\u001b[39mshape\n\u001b[0;32m    702\u001b[0m     labelbin \u001b[38;5;241m=\u001b[39m LabelBinarizer()\n",
      "File \u001b[1;32m~\\AppData\\Local\\Programs\\Python\\Python310\\lib\\site-packages\\sklearn\\naive_bayes.py:1117\u001b[0m, in \u001b[0;36mBernoulliNB._check_X_y\u001b[1;34m(self, X, y, reset)\u001b[0m\n\u001b[0;32m   1116\u001b[0m \u001b[38;5;28;01mdef\u001b[39;00m \u001b[38;5;21m_check_X_y\u001b[39m(\u001b[38;5;28mself\u001b[39m, X, y, reset\u001b[38;5;241m=\u001b[39m\u001b[38;5;28;01mTrue\u001b[39;00m):\n\u001b[1;32m-> 1117\u001b[0m     X, y \u001b[38;5;241m=\u001b[39m \u001b[38;5;28;43msuper\u001b[39;49m\u001b[43m(\u001b[49m\u001b[43m)\u001b[49m\u001b[38;5;241;43m.\u001b[39;49m\u001b[43m_check_X_y\u001b[49m\u001b[43m(\u001b[49m\u001b[43mX\u001b[49m\u001b[43m,\u001b[49m\u001b[43m \u001b[49m\u001b[43my\u001b[49m\u001b[43m,\u001b[49m\u001b[43m \u001b[49m\u001b[43mreset\u001b[49m\u001b[38;5;241;43m=\u001b[39;49m\u001b[43mreset\u001b[49m\u001b[43m)\u001b[49m\n\u001b[0;32m   1118\u001b[0m     \u001b[38;5;28;01mif\u001b[39;00m \u001b[38;5;28mself\u001b[39m\u001b[38;5;241m.\u001b[39mbinarize \u001b[38;5;129;01mis\u001b[39;00m \u001b[38;5;129;01mnot\u001b[39;00m \u001b[38;5;28;01mNone\u001b[39;00m:\n\u001b[0;32m   1119\u001b[0m         X \u001b[38;5;241m=\u001b[39m binarize(X, threshold\u001b[38;5;241m=\u001b[39m\u001b[38;5;28mself\u001b[39m\u001b[38;5;241m.\u001b[39mbinarize)\n",
      "File \u001b[1;32m~\\AppData\\Local\\Programs\\Python\\Python310\\lib\\site-packages\\sklearn\\naive_bayes.py:553\u001b[0m, in \u001b[0;36m_BaseDiscreteNB._check_X_y\u001b[1;34m(self, X, y, reset)\u001b[0m\n\u001b[0;32m    551\u001b[0m \u001b[38;5;28;01mdef\u001b[39;00m \u001b[38;5;21m_check_X_y\u001b[39m(\u001b[38;5;28mself\u001b[39m, X, y, reset\u001b[38;5;241m=\u001b[39m\u001b[38;5;28;01mTrue\u001b[39;00m):\n\u001b[0;32m    552\u001b[0m     \u001b[38;5;124;03m\"\"\"Validate X and y in fit methods.\"\"\"\u001b[39;00m\n\u001b[1;32m--> 553\u001b[0m     \u001b[38;5;28;01mreturn\u001b[39;00m \u001b[38;5;28;43mself\u001b[39;49m\u001b[38;5;241;43m.\u001b[39;49m\u001b[43m_validate_data\u001b[49m\u001b[43m(\u001b[49m\u001b[43mX\u001b[49m\u001b[43m,\u001b[49m\u001b[43m \u001b[49m\u001b[43my\u001b[49m\u001b[43m,\u001b[49m\u001b[43m \u001b[49m\u001b[43maccept_sparse\u001b[49m\u001b[38;5;241;43m=\u001b[39;49m\u001b[38;5;124;43m\"\u001b[39;49m\u001b[38;5;124;43mcsr\u001b[39;49m\u001b[38;5;124;43m\"\u001b[39;49m\u001b[43m,\u001b[49m\u001b[43m \u001b[49m\u001b[43mreset\u001b[49m\u001b[38;5;241;43m=\u001b[39;49m\u001b[43mreset\u001b[49m\u001b[43m)\u001b[49m\n",
      "File \u001b[1;32m~\\AppData\\Local\\Programs\\Python\\Python310\\lib\\site-packages\\sklearn\\base.py:596\u001b[0m, in \u001b[0;36mBaseEstimator._validate_data\u001b[1;34m(self, X, y, reset, validate_separately, **check_params)\u001b[0m\n\u001b[0;32m    594\u001b[0m         y \u001b[38;5;241m=\u001b[39m check_array(y, input_name\u001b[38;5;241m=\u001b[39m\u001b[38;5;124m\"\u001b[39m\u001b[38;5;124my\u001b[39m\u001b[38;5;124m\"\u001b[39m, \u001b[38;5;241m*\u001b[39m\u001b[38;5;241m*\u001b[39mcheck_y_params)\n\u001b[0;32m    595\u001b[0m     \u001b[38;5;28;01melse\u001b[39;00m:\n\u001b[1;32m--> 596\u001b[0m         X, y \u001b[38;5;241m=\u001b[39m check_X_y(X, y, \u001b[38;5;241m*\u001b[39m\u001b[38;5;241m*\u001b[39mcheck_params)\n\u001b[0;32m    597\u001b[0m     out \u001b[38;5;241m=\u001b[39m X, y\n\u001b[0;32m    599\u001b[0m \u001b[38;5;28;01mif\u001b[39;00m \u001b[38;5;129;01mnot\u001b[39;00m no_val_X \u001b[38;5;129;01mand\u001b[39;00m check_params\u001b[38;5;241m.\u001b[39mget(\u001b[38;5;124m\"\u001b[39m\u001b[38;5;124mensure_2d\u001b[39m\u001b[38;5;124m\"\u001b[39m, \u001b[38;5;28;01mTrue\u001b[39;00m):\n",
      "File \u001b[1;32m~\\AppData\\Local\\Programs\\Python\\Python310\\lib\\site-packages\\sklearn\\utils\\validation.py:1074\u001b[0m, in \u001b[0;36mcheck_X_y\u001b[1;34m(X, y, accept_sparse, accept_large_sparse, dtype, order, copy, force_all_finite, ensure_2d, allow_nd, multi_output, ensure_min_samples, ensure_min_features, y_numeric, estimator)\u001b[0m\n\u001b[0;32m   1069\u001b[0m         estimator_name \u001b[38;5;241m=\u001b[39m _check_estimator_name(estimator)\n\u001b[0;32m   1070\u001b[0m     \u001b[38;5;28;01mraise\u001b[39;00m \u001b[38;5;167;01mValueError\u001b[39;00m(\n\u001b[0;32m   1071\u001b[0m         \u001b[38;5;124mf\u001b[39m\u001b[38;5;124m\"\u001b[39m\u001b[38;5;132;01m{\u001b[39;00mestimator_name\u001b[38;5;132;01m}\u001b[39;00m\u001b[38;5;124m requires y to be passed, but the target y is None\u001b[39m\u001b[38;5;124m\"\u001b[39m\n\u001b[0;32m   1072\u001b[0m     )\n\u001b[1;32m-> 1074\u001b[0m X \u001b[38;5;241m=\u001b[39m \u001b[43mcheck_array\u001b[49m\u001b[43m(\u001b[49m\n\u001b[0;32m   1075\u001b[0m \u001b[43m    \u001b[49m\u001b[43mX\u001b[49m\u001b[43m,\u001b[49m\n\u001b[0;32m   1076\u001b[0m \u001b[43m    \u001b[49m\u001b[43maccept_sparse\u001b[49m\u001b[38;5;241;43m=\u001b[39;49m\u001b[43maccept_sparse\u001b[49m\u001b[43m,\u001b[49m\n\u001b[0;32m   1077\u001b[0m \u001b[43m    \u001b[49m\u001b[43maccept_large_sparse\u001b[49m\u001b[38;5;241;43m=\u001b[39;49m\u001b[43maccept_large_sparse\u001b[49m\u001b[43m,\u001b[49m\n\u001b[0;32m   1078\u001b[0m \u001b[43m    \u001b[49m\u001b[43mdtype\u001b[49m\u001b[38;5;241;43m=\u001b[39;49m\u001b[43mdtype\u001b[49m\u001b[43m,\u001b[49m\n\u001b[0;32m   1079\u001b[0m \u001b[43m    \u001b[49m\u001b[43morder\u001b[49m\u001b[38;5;241;43m=\u001b[39;49m\u001b[43morder\u001b[49m\u001b[43m,\u001b[49m\n\u001b[0;32m   1080\u001b[0m \u001b[43m    \u001b[49m\u001b[43mcopy\u001b[49m\u001b[38;5;241;43m=\u001b[39;49m\u001b[43mcopy\u001b[49m\u001b[43m,\u001b[49m\n\u001b[0;32m   1081\u001b[0m \u001b[43m    \u001b[49m\u001b[43mforce_all_finite\u001b[49m\u001b[38;5;241;43m=\u001b[39;49m\u001b[43mforce_all_finite\u001b[49m\u001b[43m,\u001b[49m\n\u001b[0;32m   1082\u001b[0m \u001b[43m    \u001b[49m\u001b[43mensure_2d\u001b[49m\u001b[38;5;241;43m=\u001b[39;49m\u001b[43mensure_2d\u001b[49m\u001b[43m,\u001b[49m\n\u001b[0;32m   1083\u001b[0m \u001b[43m    \u001b[49m\u001b[43mallow_nd\u001b[49m\u001b[38;5;241;43m=\u001b[39;49m\u001b[43mallow_nd\u001b[49m\u001b[43m,\u001b[49m\n\u001b[0;32m   1084\u001b[0m \u001b[43m    \u001b[49m\u001b[43mensure_min_samples\u001b[49m\u001b[38;5;241;43m=\u001b[39;49m\u001b[43mensure_min_samples\u001b[49m\u001b[43m,\u001b[49m\n\u001b[0;32m   1085\u001b[0m \u001b[43m    \u001b[49m\u001b[43mensure_min_features\u001b[49m\u001b[38;5;241;43m=\u001b[39;49m\u001b[43mensure_min_features\u001b[49m\u001b[43m,\u001b[49m\n\u001b[0;32m   1086\u001b[0m \u001b[43m    \u001b[49m\u001b[43mestimator\u001b[49m\u001b[38;5;241;43m=\u001b[39;49m\u001b[43mestimator\u001b[49m\u001b[43m,\u001b[49m\n\u001b[0;32m   1087\u001b[0m \u001b[43m    \u001b[49m\u001b[43minput_name\u001b[49m\u001b[38;5;241;43m=\u001b[39;49m\u001b[38;5;124;43m\"\u001b[39;49m\u001b[38;5;124;43mX\u001b[39;49m\u001b[38;5;124;43m\"\u001b[39;49m\u001b[43m,\u001b[49m\n\u001b[0;32m   1088\u001b[0m \u001b[43m\u001b[49m\u001b[43m)\u001b[49m\n\u001b[0;32m   1090\u001b[0m y \u001b[38;5;241m=\u001b[39m _check_y(y, multi_output\u001b[38;5;241m=\u001b[39mmulti_output, y_numeric\u001b[38;5;241m=\u001b[39my_numeric, estimator\u001b[38;5;241m=\u001b[39mestimator)\n\u001b[0;32m   1092\u001b[0m check_consistent_length(X, y)\n",
      "File \u001b[1;32m~\\AppData\\Local\\Programs\\Python\\Python310\\lib\\site-packages\\sklearn\\utils\\validation.py:856\u001b[0m, in \u001b[0;36mcheck_array\u001b[1;34m(array, accept_sparse, accept_large_sparse, dtype, order, copy, force_all_finite, ensure_2d, allow_nd, ensure_min_samples, ensure_min_features, estimator, input_name)\u001b[0m\n\u001b[0;32m    854\u001b[0m         array \u001b[38;5;241m=\u001b[39m array\u001b[38;5;241m.\u001b[39mastype(dtype, casting\u001b[38;5;241m=\u001b[39m\u001b[38;5;124m\"\u001b[39m\u001b[38;5;124munsafe\u001b[39m\u001b[38;5;124m\"\u001b[39m, copy\u001b[38;5;241m=\u001b[39m\u001b[38;5;28;01mFalse\u001b[39;00m)\n\u001b[0;32m    855\u001b[0m     \u001b[38;5;28;01melse\u001b[39;00m:\n\u001b[1;32m--> 856\u001b[0m         array \u001b[38;5;241m=\u001b[39m \u001b[43mnp\u001b[49m\u001b[38;5;241;43m.\u001b[39;49m\u001b[43masarray\u001b[49m\u001b[43m(\u001b[49m\u001b[43marray\u001b[49m\u001b[43m,\u001b[49m\u001b[43m \u001b[49m\u001b[43morder\u001b[49m\u001b[38;5;241;43m=\u001b[39;49m\u001b[43morder\u001b[49m\u001b[43m,\u001b[49m\u001b[43m \u001b[49m\u001b[43mdtype\u001b[49m\u001b[38;5;241;43m=\u001b[39;49m\u001b[43mdtype\u001b[49m\u001b[43m)\u001b[49m\n\u001b[0;32m    857\u001b[0m \u001b[38;5;28;01mexcept\u001b[39;00m ComplexWarning \u001b[38;5;28;01mas\u001b[39;00m complex_warning:\n\u001b[0;32m    858\u001b[0m     \u001b[38;5;28;01mraise\u001b[39;00m \u001b[38;5;167;01mValueError\u001b[39;00m(\n\u001b[0;32m    859\u001b[0m         \u001b[38;5;124m\"\u001b[39m\u001b[38;5;124mComplex data not supported\u001b[39m\u001b[38;5;130;01m\\n\u001b[39;00m\u001b[38;5;132;01m{}\u001b[39;00m\u001b[38;5;130;01m\\n\u001b[39;00m\u001b[38;5;124m\"\u001b[39m\u001b[38;5;241m.\u001b[39mformat(array)\n\u001b[0;32m    860\u001b[0m     ) \u001b[38;5;28;01mfrom\u001b[39;00m \u001b[38;5;21;01mcomplex_warning\u001b[39;00m\n",
      "File \u001b[1;32m~\\AppData\\Local\\Programs\\Python\\Python310\\lib\\site-packages\\pandas\\core\\generic.py:2072\u001b[0m, in \u001b[0;36mNDFrame.__array__\u001b[1;34m(self, dtype)\u001b[0m\n\u001b[0;32m   2071\u001b[0m \u001b[38;5;28;01mdef\u001b[39;00m \u001b[38;5;21m__array__\u001b[39m(\u001b[38;5;28mself\u001b[39m, dtype: npt\u001b[38;5;241m.\u001b[39mDTypeLike \u001b[38;5;241m|\u001b[39m \u001b[38;5;28;01mNone\u001b[39;00m \u001b[38;5;241m=\u001b[39m \u001b[38;5;28;01mNone\u001b[39;00m) \u001b[38;5;241m-\u001b[39m\u001b[38;5;241m>\u001b[39m np\u001b[38;5;241m.\u001b[39mndarray:\n\u001b[1;32m-> 2072\u001b[0m     \u001b[38;5;28;01mreturn\u001b[39;00m \u001b[43mnp\u001b[49m\u001b[38;5;241;43m.\u001b[39;49m\u001b[43masarray\u001b[49m\u001b[43m(\u001b[49m\u001b[38;5;28;43mself\u001b[39;49m\u001b[38;5;241;43m.\u001b[39;49m\u001b[43m_values\u001b[49m\u001b[43m,\u001b[49m\u001b[43m \u001b[49m\u001b[43mdtype\u001b[49m\u001b[38;5;241;43m=\u001b[39;49m\u001b[43mdtype\u001b[49m\u001b[43m)\u001b[49m\n",
      "\u001b[1;31mValueError\u001b[0m: could not convert string to float: 'As much as I love trains, I couldn\\'t stomach this movie. The premise that one could steal a locomotive and \"drive\" from Arkansas to Chicago without hitting another train along the way has to be right up there on the Impossible Plot lines hit board. Imagine two disgruntled NASA employees stealing the \"crawler\" that totes the shuttles to and fro and driving it to New York and you get the idea.<br /><br />Having said all that, it\\'s a nice try. Wilford Brimely is at his Quaker Oats best, and Levon Helm turns a good performance as his dimwitted but well-meaning sidekick. Bob Balaban is suitably wormy as the Corporate Guy, and the \"little guy takes on Goliath\" story gets another airing.'"
     ]
    }
   ],
   "source": [
    "classifier = BernoulliNB()\n",
    "classifier.fit(X_train, y_train)\n",
    "y_pred = classifier.predict(X_test) \n",
    "scores.append(accuracy_score(y_test, y_pred))\n",
    "cm = confusion_matrix(y_test, y_pred)\n",
    "cm "
   ]
  },
  {
   "cell_type": "code",
   "execution_count": 19,
   "metadata": {},
   "outputs": [
    {
     "data": {
      "text/plain": [
       "array(['Iris-versicolor', 'Iris-setosa', 'Iris-virginica',\n",
       "       'Iris-virginica', 'Iris-virginica', 'Iris-setosa',\n",
       "       'Iris-versicolor', 'Iris-virginica', 'Iris-versicolor',\n",
       "       'Iris-versicolor', 'Iris-virginica', 'Iris-setosa', 'Iris-setosa',\n",
       "       'Iris-setosa', 'Iris-setosa', 'Iris-versicolor', 'Iris-virginica',\n",
       "       'Iris-versicolor', 'Iris-versicolor', 'Iris-virginica',\n",
       "       'Iris-setosa', 'Iris-virginica', 'Iris-setosa', 'Iris-virginica',\n",
       "       'Iris-virginica', 'Iris-virginica', 'Iris-virginica',\n",
       "       'Iris-virginica', 'Iris-setosa', 'Iris-setosa', 'Iris-setosa',\n",
       "       'Iris-setosa', 'Iris-versicolor', 'Iris-setosa', 'Iris-setosa',\n",
       "       'Iris-virginica', 'Iris-versicolor', 'Iris-setosa', 'Iris-setosa',\n",
       "       'Iris-setosa', 'Iris-versicolor', 'Iris-virginica',\n",
       "       'Iris-virginica', 'Iris-setosa', 'Iris-setosa'], dtype='<U15')"
      ]
     },
     "execution_count": 19,
     "metadata": {},
     "output_type": "execute_result"
    }
   ],
   "source": [
    "y_pred"
   ]
  },
  {
   "cell_type": "code",
   "execution_count": 39,
   "metadata": {},
   "outputs": [
    {
     "ename": "ValueError",
     "evalue": "invalid literal for int() with base 10: 'As much as I love trains, I couldn\\'t stomach this movie. The premise that one could steal a locomotive and \"drive\" from Arkansas to Chicago without hitting another train along the way has to be righ",
     "output_type": "error",
     "traceback": [
      "\u001b[1;31m---------------------------------------------------------------------------\u001b[0m",
      "\u001b[1;31mValueError\u001b[0m                                Traceback (most recent call last)",
      "Input \u001b[1;32mIn [39]\u001b[0m, in \u001b[0;36m<cell line: 2>\u001b[1;34m()\u001b[0m\n\u001b[0;32m      1\u001b[0m classifier \u001b[38;5;241m=\u001b[39m CategoricalNB()\n\u001b[1;32m----> 2\u001b[0m \u001b[43mclassifier\u001b[49m\u001b[38;5;241;43m.\u001b[39;49m\u001b[43mfit\u001b[49m\u001b[43m(\u001b[49m\u001b[43mX_train\u001b[49m\u001b[43m,\u001b[49m\u001b[43m \u001b[49m\u001b[43my_train\u001b[49m\u001b[43m)\u001b[49m\n\u001b[0;32m      3\u001b[0m y_pred \u001b[38;5;241m=\u001b[39m classifier\u001b[38;5;241m.\u001b[39mpredict(X_test) \n\u001b[0;32m      4\u001b[0m scores\u001b[38;5;241m.\u001b[39mappend(accuracy_score(y_test, y_pred))\n",
      "File \u001b[1;32m~\\AppData\\Local\\Programs\\Python\\Python310\\lib\\site-packages\\sklearn\\naive_bayes.py:1290\u001b[0m, in \u001b[0;36mCategoricalNB.fit\u001b[1;34m(self, X, y, sample_weight)\u001b[0m\n\u001b[0;32m   1265\u001b[0m \u001b[38;5;28;01mdef\u001b[39;00m \u001b[38;5;21mfit\u001b[39m(\u001b[38;5;28mself\u001b[39m, X, y, sample_weight\u001b[38;5;241m=\u001b[39m\u001b[38;5;28;01mNone\u001b[39;00m):\n\u001b[0;32m   1266\u001b[0m     \u001b[38;5;124;03m\"\"\"Fit Naive Bayes classifier according to X, y.\u001b[39;00m\n\u001b[0;32m   1267\u001b[0m \n\u001b[0;32m   1268\u001b[0m \u001b[38;5;124;03m    Parameters\u001b[39;00m\n\u001b[1;32m   (...)\u001b[0m\n\u001b[0;32m   1288\u001b[0m \u001b[38;5;124;03m        Returns the instance itself.\u001b[39;00m\n\u001b[0;32m   1289\u001b[0m \u001b[38;5;124;03m    \"\"\"\u001b[39;00m\n\u001b[1;32m-> 1290\u001b[0m     \u001b[38;5;28;01mreturn\u001b[39;00m \u001b[38;5;28;43msuper\u001b[39;49m\u001b[43m(\u001b[49m\u001b[43m)\u001b[49m\u001b[38;5;241;43m.\u001b[39;49m\u001b[43mfit\u001b[49m\u001b[43m(\u001b[49m\u001b[43mX\u001b[49m\u001b[43m,\u001b[49m\u001b[43m \u001b[49m\u001b[43my\u001b[49m\u001b[43m,\u001b[49m\u001b[43m \u001b[49m\u001b[43msample_weight\u001b[49m\u001b[38;5;241;43m=\u001b[39;49m\u001b[43msample_weight\u001b[49m\u001b[43m)\u001b[49m\n",
      "File \u001b[1;32m~\\AppData\\Local\\Programs\\Python\\Python310\\lib\\site-packages\\sklearn\\naive_bayes.py:699\u001b[0m, in \u001b[0;36m_BaseDiscreteNB.fit\u001b[1;34m(self, X, y, sample_weight)\u001b[0m\n\u001b[0;32m    679\u001b[0m \u001b[38;5;28;01mdef\u001b[39;00m \u001b[38;5;21mfit\u001b[39m(\u001b[38;5;28mself\u001b[39m, X, y, sample_weight\u001b[38;5;241m=\u001b[39m\u001b[38;5;28;01mNone\u001b[39;00m):\n\u001b[0;32m    680\u001b[0m     \u001b[38;5;124;03m\"\"\"Fit Naive Bayes classifier according to X, y.\u001b[39;00m\n\u001b[0;32m    681\u001b[0m \n\u001b[0;32m    682\u001b[0m \u001b[38;5;124;03m    Parameters\u001b[39;00m\n\u001b[1;32m   (...)\u001b[0m\n\u001b[0;32m    697\u001b[0m \u001b[38;5;124;03m        Returns the instance itself.\u001b[39;00m\n\u001b[0;32m    698\u001b[0m \u001b[38;5;124;03m    \"\"\"\u001b[39;00m\n\u001b[1;32m--> 699\u001b[0m     X, y \u001b[38;5;241m=\u001b[39m \u001b[38;5;28;43mself\u001b[39;49m\u001b[38;5;241;43m.\u001b[39;49m\u001b[43m_check_X_y\u001b[49m\u001b[43m(\u001b[49m\u001b[43mX\u001b[49m\u001b[43m,\u001b[49m\u001b[43m \u001b[49m\u001b[43my\u001b[49m\u001b[43m)\u001b[49m\n\u001b[0;32m    700\u001b[0m     _, n_features \u001b[38;5;241m=\u001b[39m X\u001b[38;5;241m.\u001b[39mshape\n\u001b[0;32m    702\u001b[0m     labelbin \u001b[38;5;241m=\u001b[39m LabelBinarizer()\n",
      "File \u001b[1;32m~\\AppData\\Local\\Programs\\Python\\Python310\\lib\\site-packages\\sklearn\\naive_bayes.py:1348\u001b[0m, in \u001b[0;36mCategoricalNB._check_X_y\u001b[1;34m(self, X, y, reset)\u001b[0m\n\u001b[0;32m   1347\u001b[0m \u001b[38;5;28;01mdef\u001b[39;00m \u001b[38;5;21m_check_X_y\u001b[39m(\u001b[38;5;28mself\u001b[39m, X, y, reset\u001b[38;5;241m=\u001b[39m\u001b[38;5;28;01mTrue\u001b[39;00m):\n\u001b[1;32m-> 1348\u001b[0m     X, y \u001b[38;5;241m=\u001b[39m \u001b[38;5;28;43mself\u001b[39;49m\u001b[38;5;241;43m.\u001b[39;49m\u001b[43m_validate_data\u001b[49m\u001b[43m(\u001b[49m\n\u001b[0;32m   1349\u001b[0m \u001b[43m        \u001b[49m\u001b[43mX\u001b[49m\u001b[43m,\u001b[49m\u001b[43m \u001b[49m\u001b[43my\u001b[49m\u001b[43m,\u001b[49m\u001b[43m \u001b[49m\u001b[43mdtype\u001b[49m\u001b[38;5;241;43m=\u001b[39;49m\u001b[38;5;124;43m\"\u001b[39;49m\u001b[38;5;124;43mint\u001b[39;49m\u001b[38;5;124;43m\"\u001b[39;49m\u001b[43m,\u001b[49m\u001b[43m \u001b[49m\u001b[43maccept_sparse\u001b[49m\u001b[38;5;241;43m=\u001b[39;49m\u001b[38;5;28;43;01mFalse\u001b[39;49;00m\u001b[43m,\u001b[49m\u001b[43m \u001b[49m\u001b[43mforce_all_finite\u001b[49m\u001b[38;5;241;43m=\u001b[39;49m\u001b[38;5;28;43;01mTrue\u001b[39;49;00m\u001b[43m,\u001b[49m\u001b[43m \u001b[49m\u001b[43mreset\u001b[49m\u001b[38;5;241;43m=\u001b[39;49m\u001b[43mreset\u001b[49m\n\u001b[0;32m   1350\u001b[0m \u001b[43m    \u001b[49m\u001b[43m)\u001b[49m\n\u001b[0;32m   1351\u001b[0m     check_non_negative(X, \u001b[38;5;124m\"\u001b[39m\u001b[38;5;124mCategoricalNB (input X)\u001b[39m\u001b[38;5;124m\"\u001b[39m)\n\u001b[0;32m   1352\u001b[0m     \u001b[38;5;28;01mreturn\u001b[39;00m X, y\n",
      "File \u001b[1;32m~\\AppData\\Local\\Programs\\Python\\Python310\\lib\\site-packages\\sklearn\\base.py:596\u001b[0m, in \u001b[0;36mBaseEstimator._validate_data\u001b[1;34m(self, X, y, reset, validate_separately, **check_params)\u001b[0m\n\u001b[0;32m    594\u001b[0m         y \u001b[38;5;241m=\u001b[39m check_array(y, input_name\u001b[38;5;241m=\u001b[39m\u001b[38;5;124m\"\u001b[39m\u001b[38;5;124my\u001b[39m\u001b[38;5;124m\"\u001b[39m, \u001b[38;5;241m*\u001b[39m\u001b[38;5;241m*\u001b[39mcheck_y_params)\n\u001b[0;32m    595\u001b[0m     \u001b[38;5;28;01melse\u001b[39;00m:\n\u001b[1;32m--> 596\u001b[0m         X, y \u001b[38;5;241m=\u001b[39m check_X_y(X, y, \u001b[38;5;241m*\u001b[39m\u001b[38;5;241m*\u001b[39mcheck_params)\n\u001b[0;32m    597\u001b[0m     out \u001b[38;5;241m=\u001b[39m X, y\n\u001b[0;32m    599\u001b[0m \u001b[38;5;28;01mif\u001b[39;00m \u001b[38;5;129;01mnot\u001b[39;00m no_val_X \u001b[38;5;129;01mand\u001b[39;00m check_params\u001b[38;5;241m.\u001b[39mget(\u001b[38;5;124m\"\u001b[39m\u001b[38;5;124mensure_2d\u001b[39m\u001b[38;5;124m\"\u001b[39m, \u001b[38;5;28;01mTrue\u001b[39;00m):\n",
      "File \u001b[1;32m~\\AppData\\Local\\Programs\\Python\\Python310\\lib\\site-packages\\sklearn\\utils\\validation.py:1074\u001b[0m, in \u001b[0;36mcheck_X_y\u001b[1;34m(X, y, accept_sparse, accept_large_sparse, dtype, order, copy, force_all_finite, ensure_2d, allow_nd, multi_output, ensure_min_samples, ensure_min_features, y_numeric, estimator)\u001b[0m\n\u001b[0;32m   1069\u001b[0m         estimator_name \u001b[38;5;241m=\u001b[39m _check_estimator_name(estimator)\n\u001b[0;32m   1070\u001b[0m     \u001b[38;5;28;01mraise\u001b[39;00m \u001b[38;5;167;01mValueError\u001b[39;00m(\n\u001b[0;32m   1071\u001b[0m         \u001b[38;5;124mf\u001b[39m\u001b[38;5;124m\"\u001b[39m\u001b[38;5;132;01m{\u001b[39;00mestimator_name\u001b[38;5;132;01m}\u001b[39;00m\u001b[38;5;124m requires y to be passed, but the target y is None\u001b[39m\u001b[38;5;124m\"\u001b[39m\n\u001b[0;32m   1072\u001b[0m     )\n\u001b[1;32m-> 1074\u001b[0m X \u001b[38;5;241m=\u001b[39m \u001b[43mcheck_array\u001b[49m\u001b[43m(\u001b[49m\n\u001b[0;32m   1075\u001b[0m \u001b[43m    \u001b[49m\u001b[43mX\u001b[49m\u001b[43m,\u001b[49m\n\u001b[0;32m   1076\u001b[0m \u001b[43m    \u001b[49m\u001b[43maccept_sparse\u001b[49m\u001b[38;5;241;43m=\u001b[39;49m\u001b[43maccept_sparse\u001b[49m\u001b[43m,\u001b[49m\n\u001b[0;32m   1077\u001b[0m \u001b[43m    \u001b[49m\u001b[43maccept_large_sparse\u001b[49m\u001b[38;5;241;43m=\u001b[39;49m\u001b[43maccept_large_sparse\u001b[49m\u001b[43m,\u001b[49m\n\u001b[0;32m   1078\u001b[0m \u001b[43m    \u001b[49m\u001b[43mdtype\u001b[49m\u001b[38;5;241;43m=\u001b[39;49m\u001b[43mdtype\u001b[49m\u001b[43m,\u001b[49m\n\u001b[0;32m   1079\u001b[0m \u001b[43m    \u001b[49m\u001b[43morder\u001b[49m\u001b[38;5;241;43m=\u001b[39;49m\u001b[43morder\u001b[49m\u001b[43m,\u001b[49m\n\u001b[0;32m   1080\u001b[0m \u001b[43m    \u001b[49m\u001b[43mcopy\u001b[49m\u001b[38;5;241;43m=\u001b[39;49m\u001b[43mcopy\u001b[49m\u001b[43m,\u001b[49m\n\u001b[0;32m   1081\u001b[0m \u001b[43m    \u001b[49m\u001b[43mforce_all_finite\u001b[49m\u001b[38;5;241;43m=\u001b[39;49m\u001b[43mforce_all_finite\u001b[49m\u001b[43m,\u001b[49m\n\u001b[0;32m   1082\u001b[0m \u001b[43m    \u001b[49m\u001b[43mensure_2d\u001b[49m\u001b[38;5;241;43m=\u001b[39;49m\u001b[43mensure_2d\u001b[49m\u001b[43m,\u001b[49m\n\u001b[0;32m   1083\u001b[0m \u001b[43m    \u001b[49m\u001b[43mallow_nd\u001b[49m\u001b[38;5;241;43m=\u001b[39;49m\u001b[43mallow_nd\u001b[49m\u001b[43m,\u001b[49m\n\u001b[0;32m   1084\u001b[0m \u001b[43m    \u001b[49m\u001b[43mensure_min_samples\u001b[49m\u001b[38;5;241;43m=\u001b[39;49m\u001b[43mensure_min_samples\u001b[49m\u001b[43m,\u001b[49m\n\u001b[0;32m   1085\u001b[0m \u001b[43m    \u001b[49m\u001b[43mensure_min_features\u001b[49m\u001b[38;5;241;43m=\u001b[39;49m\u001b[43mensure_min_features\u001b[49m\u001b[43m,\u001b[49m\n\u001b[0;32m   1086\u001b[0m \u001b[43m    \u001b[49m\u001b[43mestimator\u001b[49m\u001b[38;5;241;43m=\u001b[39;49m\u001b[43mestimator\u001b[49m\u001b[43m,\u001b[49m\n\u001b[0;32m   1087\u001b[0m \u001b[43m    \u001b[49m\u001b[43minput_name\u001b[49m\u001b[38;5;241;43m=\u001b[39;49m\u001b[38;5;124;43m\"\u001b[39;49m\u001b[38;5;124;43mX\u001b[39;49m\u001b[38;5;124;43m\"\u001b[39;49m\u001b[43m,\u001b[49m\n\u001b[0;32m   1088\u001b[0m \u001b[43m\u001b[49m\u001b[43m)\u001b[49m\n\u001b[0;32m   1090\u001b[0m y \u001b[38;5;241m=\u001b[39m _check_y(y, multi_output\u001b[38;5;241m=\u001b[39mmulti_output, y_numeric\u001b[38;5;241m=\u001b[39my_numeric, estimator\u001b[38;5;241m=\u001b[39mestimator)\n\u001b[0;32m   1092\u001b[0m check_consistent_length(X, y)\n",
      "File \u001b[1;32m~\\AppData\\Local\\Programs\\Python\\Python310\\lib\\site-packages\\sklearn\\utils\\validation.py:854\u001b[0m, in \u001b[0;36mcheck_array\u001b[1;34m(array, accept_sparse, accept_large_sparse, dtype, order, copy, force_all_finite, ensure_2d, allow_nd, ensure_min_samples, ensure_min_features, estimator, input_name)\u001b[0m\n\u001b[0;32m    846\u001b[0m     \u001b[38;5;28;01mif\u001b[39;00m array\u001b[38;5;241m.\u001b[39mdtype\u001b[38;5;241m.\u001b[39mkind \u001b[38;5;241m==\u001b[39m \u001b[38;5;124m\"\u001b[39m\u001b[38;5;124mf\u001b[39m\u001b[38;5;124m\"\u001b[39m:\n\u001b[0;32m    847\u001b[0m         _assert_all_finite(\n\u001b[0;32m    848\u001b[0m             array,\n\u001b[0;32m    849\u001b[0m             allow_nan\u001b[38;5;241m=\u001b[39m\u001b[38;5;28;01mFalse\u001b[39;00m,\n\u001b[1;32m   (...)\u001b[0m\n\u001b[0;32m    852\u001b[0m             input_name\u001b[38;5;241m=\u001b[39minput_name,\n\u001b[0;32m    853\u001b[0m         )\n\u001b[1;32m--> 854\u001b[0m     array \u001b[38;5;241m=\u001b[39m \u001b[43marray\u001b[49m\u001b[38;5;241;43m.\u001b[39;49m\u001b[43mastype\u001b[49m\u001b[43m(\u001b[49m\u001b[43mdtype\u001b[49m\u001b[43m,\u001b[49m\u001b[43m \u001b[49m\u001b[43mcasting\u001b[49m\u001b[38;5;241;43m=\u001b[39;49m\u001b[38;5;124;43m\"\u001b[39;49m\u001b[38;5;124;43munsafe\u001b[39;49m\u001b[38;5;124;43m\"\u001b[39;49m\u001b[43m,\u001b[49m\u001b[43m \u001b[49m\u001b[43mcopy\u001b[49m\u001b[38;5;241;43m=\u001b[39;49m\u001b[38;5;28;43;01mFalse\u001b[39;49;00m\u001b[43m)\u001b[49m\n\u001b[0;32m    855\u001b[0m \u001b[38;5;28;01melse\u001b[39;00m:\n\u001b[0;32m    856\u001b[0m     array \u001b[38;5;241m=\u001b[39m np\u001b[38;5;241m.\u001b[39masarray(array, order\u001b[38;5;241m=\u001b[39morder, dtype\u001b[38;5;241m=\u001b[39mdtype)\n",
      "\u001b[1;31mValueError\u001b[0m: invalid literal for int() with base 10: 'As much as I love trains, I couldn\\'t stomach this movie. The premise that one could steal a locomotive and \"drive\" from Arkansas to Chicago without hitting another train along the way has to be righ"
     ]
    }
   ],
   "source": [
    "classifier = CategoricalNB()\n",
    "classifier.fit(X_train, y_train)\n",
    "y_pred = classifier.predict(X_test) \n",
    "scores.append(accuracy_score(y_test, y_pred))\n",
    "cm = confusion_matrix(y_test, y_pred)\n",
    "cm "
   ]
  },
  {
   "cell_type": "code",
   "execution_count": null,
   "metadata": {},
   "outputs": [],
   "source": []
  }
 ],
 "metadata": {
  "colab": {
   "include_colab_link": true,
   "provenance": []
  },
  "kernelspec": {
   "display_name": "Python 3 (ipykernel)",
   "language": "python",
   "name": "python3"
  },
  "language_info": {
   "codemirror_mode": {
    "name": "ipython",
    "version": 3
   },
   "file_extension": ".py",
   "mimetype": "text/x-python",
   "name": "python",
   "nbconvert_exporter": "python",
   "pygments_lexer": "ipython3",
   "version": "3.10.2"
  }
 },
 "nbformat": 4,
 "nbformat_minor": 1
}
