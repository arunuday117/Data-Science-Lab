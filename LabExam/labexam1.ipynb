{
  "nbformat": 4,
  "nbformat_minor": 0,
  "metadata": {
    "colab": {
      "provenance": []
    },
    "kernelspec": {
      "name": "python3",
      "display_name": "Python 3"
    },
    "language_info": {
      "name": "python"
    }
  },
  "cells": [
    {
      "cell_type": "code",
      "execution_count": 1,
      "metadata": {
        "id": "6SaHTYja0ycn"
      },
      "outputs": [],
      "source": [
        "import numpy as np"
      ]
    },
    {
      "cell_type": "code",
      "source": [
        "def matr():\n",
        "  m = int(input(\"Enter the row size\"))\n",
        "  n = int(input(\"Enter the column size\"))\n",
        "  matrix1 = []\n",
        "  for i in range(0,m):\n",
        "    m1 = []\n",
        "    for j in range(0,n):\n",
        "      a = input(\"Enter the number\")\n",
        "      m1.append(int(a))\n",
        "    matrix1.append(m1)\n",
        "  return matrix1"
      ],
      "metadata": {
        "id": "p1FHKQcw0_JF"
      },
      "execution_count": 116,
      "outputs": []
    },
    {
      "cell_type": "code",
      "source": [
        "print(\"Enter the first matrix\")\n",
        "matrix1 = matr()\n",
        "print(\"Enter the second matrix\")\n",
        "matrix2 = matr()"
      ],
      "metadata": {
        "colab": {
          "base_uri": "https://localhost:8080/"
        },
        "id": "jaM1hR0C2kwT",
        "outputId": "3ede0781-dc9e-4bf0-ed93-d860a495a324"
      },
      "execution_count": 117,
      "outputs": [
        {
          "name": "stdout",
          "output_type": "stream",
          "text": [
            "Enter the first matrix\n",
            "Enter the row size2\n",
            "Enter the column size2\n",
            "Enter the number4\n",
            "Enter the number5\n",
            "Enter the number2\n",
            "Enter the number3\n",
            "Enter the second matrix\n",
            "Enter the row size2\n",
            "Enter the column size2\n",
            "Enter the number4\n",
            "Enter the number1\n",
            "Enter the number2\n",
            "Enter the number3\n"
          ]
        }
      ]
    },
    {
      "cell_type": "code",
      "source": [
        "matrix1"
      ],
      "metadata": {
        "colab": {
          "base_uri": "https://localhost:8080/"
        },
        "id": "xgUz3SC_6OOT",
        "outputId": "7c08c502-046e-4061-e0bf-bf1d6c825d20"
      },
      "execution_count": 118,
      "outputs": [
        {
          "output_type": "execute_result",
          "data": {
            "text/plain": [
              "[[4, 5], [2, 3]]"
            ]
          },
          "metadata": {},
          "execution_count": 118
        }
      ]
    },
    {
      "cell_type": "code",
      "source": [
        "matrix2"
      ],
      "metadata": {
        "colab": {
          "base_uri": "https://localhost:8080/"
        },
        "id": "ecJXT3lz6W9z",
        "outputId": "3121ca3f-e53b-48af-a066-d51057501446"
      },
      "execution_count": 119,
      "outputs": [
        {
          "output_type": "execute_result",
          "data": {
            "text/plain": [
              "[[4, 1], [2, 3]]"
            ]
          },
          "metadata": {},
          "execution_count": 119
        }
      ]
    },
    {
      "cell_type": "code",
      "source": [
        "product_matrix = np.matrix(matrix1)*np.matrix(matrix2)"
      ],
      "metadata": {
        "id": "HUucZeSW6YEi"
      },
      "execution_count": 120,
      "outputs": []
    },
    {
      "cell_type": "code",
      "source": [
        "print(\"Dot product\")\n",
        "product_matrix"
      ],
      "metadata": {
        "colab": {
          "base_uri": "https://localhost:8080/"
        },
        "id": "mpQNU1qD6gbT",
        "outputId": "084092d0-12a9-483e-c9de-1ed0dfa4af88"
      },
      "execution_count": 121,
      "outputs": [
        {
          "output_type": "stream",
          "name": "stdout",
          "text": [
            "Dot product\n"
          ]
        },
        {
          "output_type": "execute_result",
          "data": {
            "text/plain": [
              "matrix([[26, 19],\n",
              "        [14, 11]])"
            ]
          },
          "metadata": {},
          "execution_count": 121
        }
      ]
    },
    {
      "cell_type": "code",
      "source": [
        "print(\"Transpose of product\")\n",
        "np.transpose(product_matrix)"
      ],
      "metadata": {
        "colab": {
          "base_uri": "https://localhost:8080/"
        },
        "id": "zVlrRz9B6mpb",
        "outputId": "9f9da490-aaba-484c-d566-aaa8c36281ad"
      },
      "execution_count": 122,
      "outputs": [
        {
          "output_type": "stream",
          "name": "stdout",
          "text": [
            "Transpose of product\n"
          ]
        },
        {
          "output_type": "execute_result",
          "data": {
            "text/plain": [
              "matrix([[26, 14],\n",
              "        [19, 11]])"
            ]
          },
          "metadata": {},
          "execution_count": 122
        }
      ]
    },
    {
      "cell_type": "code",
      "source": [
        "print(\"Trace of product\")\n",
        "np.trace(product_matrix)"
      ],
      "metadata": {
        "colab": {
          "base_uri": "https://localhost:8080/"
        },
        "id": "sD5ACBpI68Qy",
        "outputId": "7b9902e9-ae7b-4000-9ce8-5736a1953afd"
      },
      "execution_count": 123,
      "outputs": [
        {
          "output_type": "stream",
          "name": "stdout",
          "text": [
            "Trace of product\n"
          ]
        },
        {
          "output_type": "execute_result",
          "data": {
            "text/plain": [
              "37"
            ]
          },
          "metadata": {},
          "execution_count": 123
        }
      ]
    },
    {
      "cell_type": "code",
      "source": [
        "len(product_matrix)"
      ],
      "metadata": {
        "colab": {
          "base_uri": "https://localhost:8080/"
        },
        "id": "KfIdw6Ee7Dg7",
        "outputId": "c4154b85-a5dc-4061-d6f7-d828d035a79d"
      },
      "execution_count": 124,
      "outputs": [
        {
          "output_type": "execute_result",
          "data": {
            "text/plain": [
              "2"
            ]
          },
          "metadata": {},
          "execution_count": 124
        }
      ]
    },
    {
      "cell_type": "code",
      "source": [
        "matrixk = np.matrix([[1,2,3],[2,3,4]])"
      ],
      "metadata": {
        "id": "nA9VMg-J_7Lx"
      },
      "execution_count": 125,
      "outputs": []
    },
    {
      "cell_type": "code",
      "source": [
        "print(\"Rank :\",np.linalg.matrix_rank(matrixk))"
      ],
      "metadata": {
        "colab": {
          "base_uri": "https://localhost:8080/"
        },
        "id": "du9KL6ZC7RcK",
        "outputId": "1c9ef6b1-306e-42e7-ec0d-99aa6368c436"
      },
      "execution_count": 131,
      "outputs": [
        {
          "output_type": "stream",
          "name": "stdout",
          "text": [
            "Rank : 2\n"
          ]
        }
      ]
    },
    {
      "cell_type": "code",
      "source": [
        "print(\"Determinant:\", round(np.linalg.det(product_matrix),0))"
      ],
      "metadata": {
        "colab": {
          "base_uri": "https://localhost:8080/"
        },
        "id": "K24F2MP2AgOx",
        "outputId": "a07f4f6f-417a-4239-f0db-62ab1a62d861"
      },
      "execution_count": 128,
      "outputs": [
        {
          "output_type": "stream",
          "name": "stdout",
          "text": [
            "Determinant: 20.0\n"
          ]
        }
      ]
    }
  ]
}