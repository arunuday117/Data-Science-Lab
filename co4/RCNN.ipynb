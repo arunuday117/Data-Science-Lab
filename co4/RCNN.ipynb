{
 "cells": [
  {
   "cell_type": "code",
   "execution_count": 32,
   "id": "386e5228-3a09-4924-852a-018dc9b17be8",
   "metadata": {},
   "outputs": [],
   "source": [
    "import tensorflow as tf\n",
    "import keras\n",
    "from tensorflow.keras import datasets,layers\n",
    "import numpy as np\n",
    "from sklearn import metrics\n",
    "import matplotlib.pyplot as plt"
   ]
  },
  {
   "cell_type": "code",
   "execution_count": 37,
   "id": "f0eb87e8-add8-41d0-86e1-21071ddfbf7b",
   "metadata": {},
   "outputs": [],
   "source": [
    "(x_train, y_train), (x_test, y_test) = datasets.cifar10.load_data()"
   ]
  },
  {
   "cell_type": "code",
   "execution_count": 38,
   "id": "4334a63b-fa7b-47a0-b95a-2e74ad6aa495",
   "metadata": {},
   "outputs": [
    {
     "data": {
      "text/plain": [
       "(50000, 32, 32, 3)"
      ]
     },
     "execution_count": 38,
     "metadata": {},
     "output_type": "execute_result"
    }
   ],
   "source": [
    "x_train.shape"
   ]
  },
  {
   "cell_type": "code",
   "execution_count": 39,
   "id": "f0625498-424f-479a-8489-6670a2e04b96",
   "metadata": {},
   "outputs": [
    {
     "data": {
      "text/plain": [
       "(10000, 32, 32, 3)"
      ]
     },
     "execution_count": 39,
     "metadata": {},
     "output_type": "execute_result"
    }
   ],
   "source": [
    "x_test.shape"
   ]
  },
  {
   "cell_type": "code",
   "execution_count": 40,
   "id": "441ed594-b27f-4292-bfd9-32500be55a7b",
   "metadata": {},
   "outputs": [
    {
     "data": {
      "image/png": "[encoded data removed]",
      "text/plain": [
       "<Figure size 720x288 with 4 Axes>"
      ]
     },
     "metadata": {
      "needs_background": "light"
     },
     "output_type": "display_data"
    }
   ],
   "source": [
    "plt.figure(figsize=(10,4))\n",
    "for i in range(1,5):\n",
    "    plt.subplot(2,5,i)\n",
    "    plt.imshow(x_train[i])\n",
    "    plt.xlabel(y_train[i])\n",
    "plt.show()"
   ]
  },
  {
   "cell_type": "code",
   "execution_count": 42,
   "id": "b4c43c9f-3201-4a42-b34a-47668f0bd934",
   "metadata": {},
   "outputs": [],
   "source": [
    "x_train = x_train.reshape(50000,32,32,3).astype('float32')\n",
    "x_test = x_test.reshape(10000,32,32,3).astype('float32')"
   ]
  },
  {
   "cell_type": "code",
   "execution_count": 43,
   "id": "f83006e9-f4f3-4202-9ec4-9b72eddfae96",
   "metadata": {},
   "outputs": [],
   "source": [
    "x_train/=255\n",
    "x_test/=255"
   ]
  },
  {
   "cell_type": "code",
   "execution_count": 44,
   "id": "a1859d65-6140-4b6b-b51f-d8ab841eb07e",
   "metadata": {},
   "outputs": [
    {
     "data": {
      "text/plain": [
       "(50000, 32, 32, 3)"
      ]
     },
     "execution_count": 44,
     "metadata": {},
     "output_type": "execute_result"
    }
   ],
   "source": [
    "x_train.shape"
   ]
  },
  {
   "cell_type": "code",
   "execution_count": 45,
   "id": "0921a396-0aa0-45c2-bcb3-71dd250b0fd1",
   "metadata": {},
   "outputs": [],
   "source": [
    "cnn = keras.Sequential()"
   ]
  },
  {
   "cell_type": "code",
   "execution_count": 47,
   "id": "28a3d02f-f15a-4a6a-ac73-7639abd0f9f9",
   "metadata": {},
   "outputs": [],
   "source": [
    "cnn.add(layers.Conv2D(filters=32, activation = 'relu', kernel_size = (3,3),\n",
    "                      input_shape = (32,32,3)))"
   ]
  },
  {
   "cell_type": "code",
   "execution_count": 49,
   "id": "552c1e4f-3304-4810-bb68-7287637fcdaa",
   "metadata": {},
   "outputs": [],
   "source": [
    "cnn.add(layers.MaxPool2D((2,2)))"
   ]
  },
  {
   "cell_type": "code",
   "execution_count": 50,
   "id": "5c3e8e74-073b-46b6-8f01-8fdf56d57808",
   "metadata": {},
   "outputs": [],
   "source": [
    "cnn.add(layers.Conv2D(filters=32, activation = 'relu', kernel_size = (3,3),\n",
    "                      input_shape = (32,32,3)))"
   ]
  },
  {
   "cell_type": "code",
   "execution_count": 51,
   "id": "17e840b9-03fc-4ded-be0e-21db7d15ced5",
   "metadata": {},
   "outputs": [],
   "source": [
    "cnn.add(layers.MaxPool2D((2,2)))"
   ]
  },
  {
   "cell_type": "code",
   "execution_count": 52,
   "id": "b6a94b06-ae0d-48be-902c-1df1957672ab",
   "metadata": {},
   "outputs": [],
   "source": [
    "cnn.add(layers.Flatten())"
   ]
  },
  {
   "cell_type": "code",
   "execution_count": 53,
   "id": "3b203770-6328-466b-a7e5-a2d8d6562870",
   "metadata": {},
   "outputs": [],
   "source": [
    "cnn.add(layers.Dense(64, activation = 'relu'))"
   ]
  },
  {
   "cell_type": "code",
   "execution_count": 54,
   "id": "61f61ec7-0d37-40cf-b17b-deb55cc9bcc3",
   "metadata": {},
   "outputs": [],
   "source": [
    "cnn.add(layers.Dense(10, activation = 'softmax'))"
   ]
  },
  {
   "cell_type": "code",
   "execution_count": 55,
   "id": "49248d0f-403e-471f-aca8-2b52aefab28b",
   "metadata": {},
   "outputs": [],
   "source": [
    "cnn.compile(optimizer = 'adam', loss = 'sparse_categorical_crossentropy',\n",
    "            metrics = ['accuracy'])"
   ]
  },
  {
   "cell_type": "code",
   "execution_count": 56,
   "id": "94859806-adf3-4d02-9bff-32951b1c46f1",
   "metadata": {},
   "outputs": [
    {
     "name": "stdout",
     "output_type": "stream",
     "text": [
      "Epoch 1/20\n",
      "1563/1563 [==============================] - 57s 36ms/step - loss: 1.4849 - accuracy: 0.4631\n",
      "Epoch 2/20\n",
      "1563/1563 [==============================] - 56s 36ms/step - loss: 1.1616 - accuracy: 0.5905\n",
      "Epoch 3/20\n",
      "1563/1563 [==============================] - 55s 35ms/step - loss: 1.0317 - accuracy: 0.6409\n",
      "Epoch 4/20\n",
      "1563/1563 [==============================] - 55s 35ms/step - loss: 0.9527 - accuracy: 0.6663\n",
      "Epoch 5/20\n",
      "1563/1563 [==============================] - 54s 35ms/step - loss: 0.8929 - accuracy: 0.6901\n",
      "Epoch 6/20\n",
      "1563/1563 [==============================] - 56s 36ms/step - loss: 0.8440 - accuracy: 0.7059\n",
      "Epoch 7/20\n",
      "1563/1563 [==============================] - 57s 36ms/step - loss: 0.8015 - accuracy: 0.7209\n",
      "Epoch 8/20\n",
      "1563/1563 [==============================] - 57s 37ms/step - loss: 0.7582 - accuracy: 0.7357\n",
      "Epoch 9/20\n",
      "1563/1563 [==============================] - 57s 36ms/step - loss: 0.7235 - accuracy: 0.7485\n",
      "Epoch 10/20\n",
      "1563/1563 [==============================] - 57s 36ms/step - loss: 0.6899 - accuracy: 0.7578\n",
      "Epoch 11/20\n",
      "1563/1563 [==============================] - 57s 36ms/step - loss: 0.6586 - accuracy: 0.7692\n",
      "Epoch 12/20\n",
      "1563/1563 [==============================] - 54s 35ms/step - loss: 0.6337 - accuracy: 0.7778\n",
      "Epoch 13/20\n",
      "1563/1563 [==============================] - 54s 35ms/step - loss: 0.6070 - accuracy: 0.7872\n",
      "Epoch 14/20\n",
      "1563/1563 [==============================] - 54s 35ms/step - loss: 0.5836 - accuracy: 0.7963\n",
      "Epoch 15/20\n",
      "1563/1563 [==============================] - 54s 35ms/step - loss: 0.5586 - accuracy: 0.8030\n",
      "Epoch 16/20\n",
      "1563/1563 [==============================] - 54s 35ms/step - loss: 0.5385 - accuracy: 0.8118\n",
      "Epoch 17/20\n",
      "1563/1563 [==============================] - 57s 36ms/step - loss: 0.5211 - accuracy: 0.8150\n",
      "Epoch 18/20\n",
      "1563/1563 [==============================] - 57s 36ms/step - loss: 0.4971 - accuracy: 0.8234\n",
      "Epoch 19/20\n",
      "1563/1563 [==============================] - 57s 36ms/step - loss: 0.4805 - accuracy: 0.8297\n",
      "Epoch 20/20\n",
      "1563/1563 [==============================] - 57s 36ms/step - loss: 0.4618 - accuracy: 0.8351\n"
     ]
    },
    {
     "data": {
      "text/plain": [
       "<keras.callbacks.History at 0x1e07d10af80>"
      ]
     },
     "execution_count": 56,
     "metadata": {},
     "output_type": "execute_result"
    }
   ],
   "source": [
    "cnn.fit(x_train, y_train, epochs=20)"
   ]
  },
  {
   "cell_type": "code",
   "execution_count": 57,
   "id": "74ab503e-228c-479e-bccb-0704ce8f1a8f",
   "metadata": {},
   "outputs": [
    {
     "name": "stdout",
     "output_type": "stream",
     "text": [
      "313/313 [==============================] - 5s 15ms/step\n"
     ]
    }
   ],
   "source": [
    "y_pred = cnn.predict(x_test)"
   ]
  },
  {
   "cell_type": "code",
   "execution_count": 92,
   "id": "11ad3171-7482-41ec-b18d-9c7d22b02e1d",
   "metadata": {},
   "outputs": [],
   "source": [
    "y_pre = []\n",
    "count = 0\n",
    "for a, i in enumerate(y_pred):\n",
    "    y_pre.append(np.argmax(i))\n",
    "    if(np.argmax(i) == y_test[a]):\n",
    "        count = count+1"
   ]
  },
  {
   "cell_type": "code",
   "execution_count": 93,
   "id": "cc648e86-a42d-493b-83de-620632e4446b",
   "metadata": {},
   "outputs": [],
   "source": [
    "y_pre = np.array(y_pre)"
   ]
  },
  {
   "cell_type": "code",
   "execution_count": 94,
   "id": "10b5de7c-a07b-4fc7-9500-1add9f3f90d1",
   "metadata": {},
   "outputs": [],
   "source": [
    "y_test = y_test.reshape(-1)"
   ]
  },
  {
   "cell_type": "code",
   "execution_count": 95,
   "id": "2c04b267-362f-4643-a9e7-b4175e869f98",
   "metadata": {},
   "outputs": [
    {
     "name": "stdout",
     "output_type": "stream",
     "text": [
      "0.6856\n"
     ]
    }
   ],
   "source": [
    "print(metrics.accuracy_score(y_test, y_pre))"
   ]
  },
  {
   "cell_type": "code",
   "execution_count": 96,
   "id": "f2342f68-aa64-4905-b4c9-f42c8160ab45",
   "metadata": {},
   "outputs": [
    {
     "data": {
      "text/plain": [
       "array([3, 8, 8, ..., 5, 1, 7], dtype=uint8)"
      ]
     },
     "execution_count": 96,
     "metadata": {},
     "output_type": "execute_result"
    }
   ],
   "source": [
    "y_test"
   ]
  },
  {
   "cell_type": "code",
   "execution_count": 97,
   "id": "83fc89c8-5b87-4738-9208-a63817f90c67",
   "metadata": {},
   "outputs": [
    {
     "data": {
      "text/plain": [
       "array([6, 8, 8, ..., 5, 1, 7], dtype=uint8)"
      ]
     },
     "execution_count": 97,
     "metadata": {},
     "output_type": "execute_result"
    }
   ],
   "source": [
    "y_pre.astype('uint8')"
   ]
  }
 ],
 "metadata": {
  "kernelspec": {
   "display_name": "Python 3 (ipykernel)",
   "language": "python",
   "name": "python3"
  },
  "language_info": {
   "codemirror_mode": {
    "name": "ipython",
    "version": 3
   },
   "file_extension": ".py",
   "mimetype": "text/x-python",
   "name": "python",
   "nbconvert_exporter": "python",
   "pygments_lexer": "ipython3",
   "version": "3.10.9"
  }
 },
 "nbformat": 4,
 "nbformat_minor": 5
}
