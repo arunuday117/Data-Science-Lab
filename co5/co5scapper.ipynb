{
 "cells": [
  {
   "cell_type": "markdown",
   "metadata": {},
   "source": [
    "**0.0.9 Web Data Mining**"
   ]
  },
  {
   "cell_type": "code",
   "execution_count": null,
   "metadata": {
    "id": "kT9qhZm2lnAQ"
   },
   "outputs": [],
   "source": [
    "from bs4 import BeautifulSoup\n",
    "import requests\n",
    "import pandas as pd\n",
    "import numpy as np\n",
    "import matplotlib.pyplot as plt"
   ]
  },
  {
   "cell_type": "code",
   "execution_count": null,
   "metadata": {
    "id": "OPbMGa6JmQqa"
   },
   "outputs": [],
   "source": [
    "webpage = requests.get(\"https://www.lenskart.com/eyeglasses/promotions.html?utm_source=google&utm_medium=cpc&utm_campaign=Google-MainAcc-LK-HomeBrand-Search-150119&utm_content=lenskart_exact&utm_source=google&utm_medium=cpc&utm_campaign=Google-MainAcc-LK-HomeBrand-Search-150119&utm_channel=search&gclid=CjwKCAiA9qKbBhAzEiwAS4yeDX2FRfFzYJw2VwFqXEF0c1dbaYQA2sAPTOVYoGTJS--MwAsfxDGQVxoCh_8QAvD_BwE\")"
   ]
  },
  {
   "cell_type": "code",
   "execution_count": null,
   "metadata": {
    "colab": {
     "base_uri": "https://localhost:8080/"
    },
    "id": "ptj6h03dmZyq",
    "outputId": "19124a91-8a7c-48c0-bbe6-1def2adc2a02"
   },
   "outputs": [
    {
     "data": {
      "text/plain": [
       "<Response [200]>"
      ]
     },
     "execution_count": 3,
     "metadata": {},
     "output_type": "execute_result"
    }
   ],
   "source": [
    "webpage"
   ]
  },
  {
   "cell_type": "code",
   "execution_count": null,
   "metadata": {
    "id": "JMiKvT6vmbyy"
   },
   "outputs": [],
   "source": [
    "soup = BeautifulSoup(webpage.content,\"html.parser\")"
   ]
  },
  {
   "cell_type": "code",
   "execution_count": null,
   "metadata": {
    "id": "nXOjVNvVm6Jz"
   },
   "outputs": [],
   "source": [
    "ProductSoup = soup.find_all(\"div\",class_=\"product-name\")\n",
    "pricesoup = soup.find_all(\"span\",class_=\"text-color-dark-blue fw700\")\n",
    "ratingsoup = soup.find_all(\"span\", class_=\"rating-value\")"
   ]
  },
  {
   "cell_type": "code",
   "execution_count": null,
   "metadata": {
    "colab": {
     "base_uri": "https://localhost:8080/"
    },
    "id": "4v7ENSSToPfu",
    "outputId": "f9ecadee-14b5-4172-c4da-65a03921ba30"
   },
   "outputs": [
    {
     "data": {
      "text/plain": [
       "[<div class=\"product-name\">Aqualens</div>,\n",
       " <div class=\"product-name\">Aqualens</div>,\n",
       " <div class=\"product-name\">John Jacobs</div>,\n",
       " <div class=\"product-name\">Vincent Chase</div>,\n",
       " <div class=\"product-name\">Vincent Chase</div>,\n",
       " <div class=\"product-name\">Lenskart Air</div>,\n",
       " <div class=\"product-name\">Lenskart Air</div>,\n",
       " <div class=\"product-name\">John Jacobs</div>,\n",
       " <div class=\"product-name\">Aqualens</div>]"
      ]
     },
     "execution_count": 39,
     "metadata": {},
     "output_type": "execute_result"
    }
   ],
   "source": [
    "ProductSoup"
   ]
  },
  {
   "cell_type": "code",
   "execution_count": null,
   "metadata": {
    "id": "qhUb4UE1oR_0"
   },
   "outputs": [],
   "source": [
    "lens_names = []\n",
    "for i in range(0, len(ProductSoup)):\n",
    "  lens_names.append(ProductSoup[i].get_text())"
   ]
  },
  {
   "cell_type": "code",
   "execution_count": null,
   "metadata": {
    "colab": {
     "base_uri": "https://localhost:8080/"
    },
    "id": "lebxZUndtuzW",
    "outputId": "ab69a628-d548-4579-ca61-b895b3dfb7ae"
   },
   "outputs": [
    {
     "data": {
      "text/plain": [
       "['Aqualens',\n",
       " 'Aqualens',\n",
       " 'John Jacobs',\n",
       " 'Vincent Chase',\n",
       " 'Vincent Chase',\n",
       " 'Lenskart Air',\n",
       " 'Lenskart Air',\n",
       " 'John Jacobs',\n",
       " 'Aqualens']"
      ]
     },
     "execution_count": 41,
     "metadata": {},
     "output_type": "execute_result"
    }
   ],
   "source": [
    "lens_names"
   ]
  },
  {
   "cell_type": "code",
   "execution_count": null,
   "metadata": {
    "colab": {
     "base_uri": "https://localhost:8080/"
    },
    "id": "2JwPZz87vAZO",
    "outputId": "77f5578f-b362-4776-fbe8-c2b29360afb1"
   },
   "outputs": [
    {
     "data": {
      "text/plain": [
       "[<span class=\"text-color-dark-blue fw700\"><span>₹</span>240</span>,\n",
       " <span class=\"text-color-dark-blue fw700\"><span>₹</span>123</span>,\n",
       " <span class=\"text-color-dark-blue fw700\"><span>₹</span>3000</span>,\n",
       " <span class=\"text-color-dark-blue fw700\"><span>₹</span>1199</span>,\n",
       " <span class=\"text-color-dark-blue fw700\"><span>₹</span>1199</span>,\n",
       " <span class=\"text-color-dark-blue fw700\"><span>₹</span>1199</span>,\n",
       " <span class=\"text-color-dark-blue fw700\"><span>₹</span>1199</span>,\n",
       " <span class=\"text-color-dark-blue fw700\"><span>₹</span>3000</span>,\n",
       " <span class=\"text-color-dark-blue fw700\"><span>₹</span>440</span>]"
      ]
     },
     "execution_count": 42,
     "metadata": {},
     "output_type": "execute_result"
    }
   ],
   "source": [
    "pricesoup"
   ]
  },
  {
   "cell_type": "code",
   "execution_count": null,
   "metadata": {
    "id": "tKvT7IXwvByO"
   },
   "outputs": [],
   "source": [
    "lens_prices = []\n",
    "for i in range(0, len(pricesoup)):\n",
    "  lens_prices.append(pricesoup[i].get_text())"
   ]
  },
  {
   "cell_type": "code",
   "execution_count": null,
   "metadata": {
    "colab": {
     "base_uri": "https://localhost:8080/"
    },
    "id": "aSjq6NWNvMdw",
    "outputId": "21bdaa3a-07b2-4ab3-86ec-6ccdbd825d3d"
   },
   "outputs": [
    {
     "data": {
      "text/plain": [
       "['₹240', '₹123', '₹3000', '₹1199', '₹1199', '₹1199', '₹1199', '₹3000', '₹440']"
      ]
     },
     "execution_count": 44,
     "metadata": {},
     "output_type": "execute_result"
    }
   ],
   "source": [
    "lens_prices"
   ]
  },
  {
   "cell_type": "code",
   "execution_count": null,
   "metadata": {
    "id": "uH03syqNvhXx"
   },
   "outputs": [],
   "source": [
    "lens_ratings = []\n",
    "for i in range(0, len(ratingsoup)):\n",
    "  lens_ratings.append(ratingsoup[i].get_text())"
   ]
  },
  {
   "cell_type": "code",
   "execution_count": null,
   "metadata": {
    "colab": {
     "base_uri": "https://localhost:8080/"
    },
    "id": "JlcVE9bOvqZj",
    "outputId": "ed6050ba-106b-4d20-9570-e3434310ce72"
   },
   "outputs": [
    {
     "data": {
      "text/plain": [
       "['4.8', '4.8', '4.4', '4.6', '4.6', '4.6', '4.6', '4.4', '4.7']"
      ]
     },
     "execution_count": 46,
     "metadata": {},
     "output_type": "execute_result"
    }
   ],
   "source": [
    "lens_ratings"
   ]
  },
  {
   "cell_type": "code",
   "execution_count": null,
   "metadata": {
    "colab": {
     "base_uri": "https://localhost:8080/"
    },
    "id": "BFYvcvF2vsO7",
    "outputId": "257c6269-2e18-42ff-be39-b57361d1f762"
   },
   "outputs": [
    {
     "name": "stdout",
     "output_type": "stream",
     "text": [
      "9 9 9\n"
     ]
    }
   ],
   "source": [
    "print(len(lens_names), len(lens_prices), len(lens_ratings))"
   ]
  },
  {
   "cell_type": "code",
   "execution_count": null,
   "metadata": {
    "id": "zQyMpg_iv5N1"
   },
   "outputs": [],
   "source": [
    "import pandas as pd"
   ]
  },
  {
   "cell_type": "code",
   "execution_count": null,
   "metadata": {
    "id": "I_tEOhmaygGX"
   },
   "outputs": [],
   "source": [
    "final = pd.DataFrame({\"Product_name\":lens_names,\"Price\":lens_prices,\"Ratings\":lens_ratings})"
   ]
  },
  {
   "cell_type": "code",
   "execution_count": null,
   "metadata": {
    "colab": {
     "base_uri": "https://localhost:8080/",
     "height": 331
    },
    "id": "zJvE5ak9y2II",
    "outputId": "93aa2ff7-07c9-477b-ec29-811312b8ce62"
   },
   "outputs": [
    {
     "data": {
      "text/html": [
       "\n",
       "  <div id=\"df-3a12dee6-a5e1-47f0-bd19-98413cbf4fa5\">\n",
       "    <div class=\"colab-df-container\">\n",
       "      <div>\n",
       "<style scoped>\n",
       "    .dataframe tbody tr th:only-of-type {\n",
       "        vertical-align: middle;\n",
       "    }\n",
       "\n",
       "    .dataframe tbody tr th {\n",
       "        vertical-align: top;\n",
       "    }\n",
       "\n",
       "    .dataframe thead th {\n",
       "        text-align: right;\n",
       "    }\n",
       "</style>\n",
       "<table border=\"1\" class=\"dataframe\">\n",
       "  <thead>\n",
       "    <tr style=\"text-align: right;\">\n",
       "      <th></th>\n",
       "      <th>Product_name</th>\n",
       "      <th>Price</th>\n",
       "      <th>Ratings</th>\n",
       "    </tr>\n",
       "  </thead>\n",
       "  <tbody>\n",
       "    <tr>\n",
       "      <th>0</th>\n",
       "      <td>Aqualens</td>\n",
       "      <td>₹240</td>\n",
       "      <td>4.8</td>\n",
       "    </tr>\n",
       "    <tr>\n",
       "      <th>1</th>\n",
       "      <td>Aqualens</td>\n",
       "      <td>₹123</td>\n",
       "      <td>4.8</td>\n",
       "    </tr>\n",
       "    <tr>\n",
       "      <th>2</th>\n",
       "      <td>John Jacobs</td>\n",
       "      <td>₹3000</td>\n",
       "      <td>4.4</td>\n",
       "    </tr>\n",
       "    <tr>\n",
       "      <th>3</th>\n",
       "      <td>Vincent Chase</td>\n",
       "      <td>₹1199</td>\n",
       "      <td>4.6</td>\n",
       "    </tr>\n",
       "    <tr>\n",
       "      <th>4</th>\n",
       "      <td>Vincent Chase</td>\n",
       "      <td>₹1199</td>\n",
       "      <td>4.6</td>\n",
       "    </tr>\n",
       "    <tr>\n",
       "      <th>5</th>\n",
       "      <td>Lenskart Air</td>\n",
       "      <td>₹1199</td>\n",
       "      <td>4.6</td>\n",
       "    </tr>\n",
       "    <tr>\n",
       "      <th>6</th>\n",
       "      <td>Lenskart Air</td>\n",
       "      <td>₹1199</td>\n",
       "      <td>4.6</td>\n",
       "    </tr>\n",
       "    <tr>\n",
       "      <th>7</th>\n",
       "      <td>John Jacobs</td>\n",
       "      <td>₹3000</td>\n",
       "      <td>4.4</td>\n",
       "    </tr>\n",
       "    <tr>\n",
       "      <th>8</th>\n",
       "      <td>Aqualens</td>\n",
       "      <td>₹440</td>\n",
       "      <td>4.7</td>\n",
       "    </tr>\n",
       "  </tbody>\n",
       "</table>\n",
       "</div>\n",
       "      <button class=\"colab-df-convert\" onclick=\"convertToInteractive('df-3a12dee6-a5e1-47f0-bd19-98413cbf4fa5')\"\n",
       "              title=\"Convert this dataframe to an interactive table.\"\n",
       "              style=\"display:none;\">\n",
       "        \n",
       "  <svg xmlns=\"http://www.w3.org/2000/svg\" height=\"24px\"viewBox=\"0 0 24 24\"\n",
       "       width=\"24px\">\n",
       "    <path d=\"M0 0h24v24H0V0z\" fill=\"none\"/>\n",
       "    <path d=\"M18.56 5.44l.94 2.06.94-2.06 2.06-.94-2.06-.94-.94-2.06-.94 2.06-2.06.94zm-11 1L8.5 8.5l.94-2.06 2.06-.94-2.06-.94L8.5 2.5l-.94 2.06-2.06.94zm10 10l.94 2.06.94-2.06 2.06-.94-2.06-.94-.94-2.06-.94 2.06-2.06.94z\"/><path d=\"M17.41 7.96l-1.37-1.37c-.4-.4-.92-.59-1.43-.59-.52 0-1.04.2-1.43.59L10.3 9.45l-7.72 7.72c-.78.78-.78 2.05 0 2.83L4 21.41c.39.39.9.59 1.41.59.51 0 1.02-.2 1.41-.59l7.78-7.78 2.81-2.81c.8-.78.8-2.07 0-2.86zM5.41 20L4 18.59l7.72-7.72 1.47 1.35L5.41 20z\"/>\n",
       "  </svg>\n",
       "      </button>\n",
       "      \n",
       "  <style>\n",
       "    .colab-df-container {\n",
       "      display:flex;\n",
       "      flex-wrap:wrap;\n",
       "      gap: 12px;\n",
       "    }\n",
       "\n",
       "    .colab-df-convert {\n",
       "      background-color: #E8F0FE;\n",
       "      border: none;\n",
       "      border-radius: 50%;\n",
       "      cursor: pointer;\n",
       "      display: none;\n",
       "      fill: #1967D2;\n",
       "      height: 32px;\n",
       "      padding: 0 0 0 0;\n",
       "      width: 32px;\n",
       "    }\n",
       "\n",
       "    .colab-df-convert:hover {\n",
       "      background-color: #E2EBFA;\n",
       "      box-shadow: 0px 1px 2px rgba(60, 64, 67, 0.3), 0px 1px 3px 1px rgba(60, 64, 67, 0.15);\n",
       "      fill: #174EA6;\n",
       "    }\n",
       "\n",
       "    [theme=dark] .colab-df-convert {\n",
       "      background-color: #3B4455;\n",
       "      fill: #D2E3FC;\n",
       "    }\n",
       "\n",
       "    [theme=dark] .colab-df-convert:hover {\n",
       "      background-color: #434B5C;\n",
       "      box-shadow: 0px 1px 3px 1px rgba(0, 0, 0, 0.15);\n",
       "      filter: drop-shadow(0px 1px 2px rgba(0, 0, 0, 0.3));\n",
       "      fill: #FFFFFF;\n",
       "    }\n",
       "  </style>\n",
       "\n",
       "      <script>\n",
       "        const buttonEl =\n",
       "          document.querySelector('#df-3a12dee6-a5e1-47f0-bd19-98413cbf4fa5 button.colab-df-convert');\n",
       "        buttonEl.style.display =\n",
       "          google.colab.kernel.accessAllowed ? 'block' : 'none';\n",
       "\n",
       "        async function convertToInteractive(key) {\n",
       "          const element = document.querySelector('#df-3a12dee6-a5e1-47f0-bd19-98413cbf4fa5');\n",
       "          const dataTable =\n",
       "            await google.colab.kernel.invokeFunction('convertToInteractive',\n",
       "                                                     [key], {});\n",
       "          if (!dataTable) return;\n",
       "\n",
       "          const docLinkHtml = 'Like what you see? Visit the ' +\n",
       "            '<a target=\"_blank\" href=https://colab.research.google.com/notebooks/data_table.ipynb>data table notebook</a>'\n",
       "            + ' to learn more about interactive tables.';\n",
       "          element.innerHTML = '';\n",
       "          dataTable['output_type'] = 'display_data';\n",
       "          await google.colab.output.renderOutput(dataTable, element);\n",
       "          const docLink = document.createElement('div');\n",
       "          docLink.innerHTML = docLinkHtml;\n",
       "          element.appendChild(docLink);\n",
       "        }\n",
       "      </script>\n",
       "    </div>\n",
       "  </div>\n",
       "  "
      ],
      "text/plain": [
       "    Product_name  Price Ratings\n",
       "0       Aqualens   ₹240     4.8\n",
       "1       Aqualens   ₹123     4.8\n",
       "2    John Jacobs  ₹3000     4.4\n",
       "3  Vincent Chase  ₹1199     4.6\n",
       "4  Vincent Chase  ₹1199     4.6\n",
       "5   Lenskart Air  ₹1199     4.6\n",
       "6   Lenskart Air  ₹1199     4.6\n",
       "7    John Jacobs  ₹3000     4.4\n",
       "8       Aqualens   ₹440     4.7"
      ]
     },
     "execution_count": 58,
     "metadata": {},
     "output_type": "execute_result"
    }
   ],
   "source": [
    "final"
   ]
  },
  {
   "cell_type": "code",
   "execution_count": null,
   "metadata": {
    "id": "Y6-0rGQKzv9W"
   },
   "outputs": [],
   "source": [
    "final.to_csv('product.csv',index=False)"
   ]
  },
  {
   "cell_type": "markdown",
   "metadata": {
    "id": "GXH86f_nz7hG"
   },
   "source": [
    "**RESULT**: The program is executed successfully and output is obtained"
   ]
  }
 ],
 "metadata": {
  "colab": {
   "provenance": []
  },
  "kernelspec": {
   "display_name": "Python 3 (ipykernel)",
   "language": "python",
   "name": "python3"
  },
  "language_info": {
   "codemirror_mode": {
    "name": "ipython",
    "version": 3
   },
   "file_extension": ".py",
   "mimetype": "text/x-python",
   "name": "python",
   "nbconvert_exporter": "python",
   "pygments_lexer": "ipython3",
   "version": "3.10.9"
  }
 },
 "nbformat": 4,
 "nbformat_minor": 1
}
